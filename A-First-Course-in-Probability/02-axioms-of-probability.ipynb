{
 "cells": [
  {
   "cell_type": "markdown",
   "metadata": {},
   "source": [
    "# Chapter 2: Axioms of Probability\n",
    "An axiom is a statement that is taken to be true."
   ]
  },
  {
   "cell_type": "markdown",
   "metadata": {},
   "source": [
    "## Setup"
   ]
  },
  {
   "cell_type": "code",
   "execution_count": 1,
   "metadata": {},
   "outputs": [
    {
     "data": {
      "text/html": [
       "<style>\n",
       ".tableHeader{\n",
       "    font-size:16px;\n",
       "}\n",
       "\n",
       ".eqn{\n",
       "    font-size:16px;\n",
       "    color:blue;\n",
       "}\n",
       "</style>"
      ],
      "text/plain": [
       "<IPython.core.display.HTML object>"
      ]
     },
     "metadata": {},
     "output_type": "display_data"
    }
   ],
   "source": [
    "%%html\n",
    "<style>\n",
    ".tableHeader{\n",
    "    font-size:16px;\n",
    "}\n",
    "\n",
    ".eqn{\n",
    "    font-size:16px;\n",
    "    color:blue;\n",
    "}\n",
    "</style>"
   ]
  },
  {
   "cell_type": "code",
   "execution_count": 2,
   "metadata": {
    "collapsed": true
   },
   "outputs": [],
   "source": [
    "import math\n",
    "import itertools\n",
    "import pprint"
   ]
  },
  {
   "cell_type": "markdown",
   "metadata": {},
   "source": [
    "---"
   ]
  },
  {
   "cell_type": "markdown",
   "metadata": {},
   "source": [
    "## 2.2 Sample space and events\n",
    "\n",
    "$S$, the sample space is the set of all possible outcomes of an experiment\n",
    "\n",
    "$A$, an event, is a subset of S, consisting of possible outcomes of the experiment\n",
    "\n",
    "$A \\cup B$ is the **union** of event A and B\n",
    "\n",
    "$A \\cap B$ is the **intersection**\n",
    "\n",
    "$\\phi$ is **null event**, the event with no outcomes\n",
    "\n",
    "If $AB = \\phi$, then $A$ and $B$ are **mutually exclusive**\n",
    "\n",
    "$A^\\complement$ refers to **complement** of A\n",
    "\n",
    "$A \\subset B$, A is a **subset** of B and B is a **superset** of A\n",
    "\n",
    "### Commutative laws\n",
    "<span class='eqn'>$$\n",
    "A \\cup B = B \\cup A \\implies AB = BA\n",
    "$$</span>\n",
    "\n",
    "### Associative laws\n",
    "<span class='eqn'>$$\n",
    "(A \\cup B) \\cup C = A \\cup (B \\cup C) \\implies (AB)C = A(BC)\n",
    "$$</span>\n",
    "\n",
    "### Distributive laws\n",
    "<span class='eqn'>$$\n",
    "(A \\cup B)C = AC \\cup BC \\implies AB \\cup C = (A \\cup C)(B \\cup C)\n",
    "$$</span>\n"
   ]
  },
  {
   "cell_type": "markdown",
   "metadata": {},
   "source": [
    "---"
   ]
  },
  {
   "cell_type": "markdown",
   "metadata": {},
   "source": [
    "## 2.3 Axioms of probability\n",
    "Suppose an experiment, with sample space $S$, is repeatedly performed under exact same conditions. For each event $A$ of $S$, $n(A)$ is the number of times in the 1st $n$ repetitions of the experiment that $A$ occurs\n",
    "\n",
    "<span class='eqn'>$$\n",
    "P(A) = \\lim_{n \\to \\infty} \\frac{n(A)}{n}\n",
    "$$</span>\n",
    "\n",
    "$P(A)$ is the probability of the event $A$\n",
    "\n",
    "### Axiom 1\n",
    "<span class='eqn'>$$\n",
    "0 \\le P(A) \\le 1\n",
    "$$</span>\n",
    "\n",
    "### Axiom 2\n",
    "<span class='eqn'>$$\n",
    "P(S) = 1\n",
    "$$</span>\n",
    "\n",
    "### Axiom 3\n",
    "For any sequence of mutually exclusive events $A_1, A_2, \\ldots$ (events for which $A_iA_j=\\phi$ when $i \\ne j$)\n",
    "<span class='eqn'>$$\n",
    "P\\left(\\bigcup_{i=1}^{\\infty} A_i \\right) = \\sum_{i=1}^{\\infty}P(A_i)\n",
    "$$</span>"
   ]
  },
  {
   "cell_type": "markdown",
   "metadata": {},
   "source": [
    "---"
   ]
  },
  {
   "cell_type": "markdown",
   "metadata": {},
   "source": [
    "## 2.4 Some simple propositions\n",
    "\n",
    "### Proposition 1\n",
    "<span class='eqn'>$$\n",
    "1 = P(S) = P(A \\cup A^\\complement) = P(A) + P(A^\\complement) \\implies P(A^\\complement) = 1 - P(A)\n",
    "$$</span>\n",
    "\n",
    "### Proposition 2\n",
    "<span class='eqn'>$$\n",
    "\\text{if}\\; A \\subset B, \\;\\text{then}\\; P(A) \\le P(B)\n",
    "$$</span>\n",
    "\n",
    "### Proposition 3\n",
    "<span class='eqn'>$$\n",
    "P(A \\cup B) = P(A) + P(B) - P(A \\cap B)\n",
    "$$</span>\n",
    "\n",
    "### Extra\n",
    "<span class='eqn'>$$\n",
    "(A \\cup B)^\\complement = A^\\complement \\cap B^\\complement \\\\\n",
    "(A \\cap B)^\\complement = A^\\complement \\cup B^\\complement\n",
    "$$</span>"
   ]
  },
  {
   "cell_type": "markdown",
   "metadata": {},
   "source": [
    "---"
   ]
  },
  {
   "cell_type": "markdown",
   "metadata": {},
   "source": [
    "## 2.5 Sample spaces having equally likely outcomes\n",
    "<span class='eqn'>$$\n",
    "P(i) = \\frac{1}{N} \\\\\n",
    "P(A) = \\frac{\\text{number of outcomes in}\\; A}{\\text{number of outcomes in}\\; S} = \\frac{|A|}{|S|}\n",
    "$$</span>"
   ]
  },
  {
   "cell_type": "markdown",
   "metadata": {},
   "source": [
    "---"
   ]
  },
  {
   "cell_type": "markdown",
   "metadata": {},
   "source": [
    "## 2.6 Probability as a continuous set function\n",
    "<span class='eqn'>$$\n",
    "\\lim_{n \\to \\infty} P(E_n) = P\\left(\\lim_{n \\to \\infty} E_n \\right)\n",
    "$$</span>"
   ]
  }
 ],
 "metadata": {
  "kernelspec": {
   "display_name": "Python 3",
   "language": "python",
   "name": "python3"
  },
  "language_info": {
   "codemirror_mode": {
    "name": "ipython",
    "version": 3
   },
   "file_extension": ".py",
   "mimetype": "text/x-python",
   "name": "python",
   "nbconvert_exporter": "python",
   "pygments_lexer": "ipython3",
   "version": "3.6.3"
  }
 },
 "nbformat": 4,
 "nbformat_minor": 2
}

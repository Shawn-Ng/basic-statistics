{
 "cells": [
  {
   "cell_type": "markdown",
   "metadata": {},
   "source": [
    "# 10. Simulation\n",
    "Simulation is method of empirically determining probabilities by means of experimentation\n",
    "\n",
    "Random number generator: generate the value of uniform (0,1) random variable using the equation:\n",
    "<span class='eqn'>$$X_{n+1} = (aX_n + c) \\bmod m; \\;n \\ge 0$$</span>"
   ]
  },
  {
   "cell_type": "code",
   "execution_count": 1,
   "metadata": {},
   "outputs": [
    {
     "data": {
      "text/html": [
       "<style>\n",
       ".tableHeader{\n",
       "    font-size:16px;\n",
       "}\n",
       "\n",
       ".eqn{\n",
       "    font-size:16px;\n",
       "    color:blue;\n",
       "}\n",
       "</style>"
      ],
      "text/plain": [
       "<IPython.core.display.HTML object>"
      ]
     },
     "metadata": {},
     "output_type": "display_data"
    }
   ],
   "source": [
    "%%html\n",
    "<style>\n",
    ".tableHeader{\n",
    "    font-size:16px;\n",
    "}\n",
    "\n",
    ".eqn{\n",
    "    font-size:16px;\n",
    "    color:blue;\n",
    "}\n",
    "</style>"
   ]
  },
  {
   "cell_type": "markdown",
   "metadata": {},
   "source": [
    "---"
   ]
  },
  {
   "cell_type": "markdown",
   "metadata": {},
   "source": [
    "## 10.2 General techniques for simulating continuous random variable\n",
    "\n",
    "### The inverse transformation method\n",
    "Let U be a uniform (0,1) random variable. For any continuous distribution function F, if we define the random variable Y by\n",
    "<span class='eqn'>$$\n",
    "Y= F^{-1}(U) \\\\\n",
    "y = F^{-1}(x) \\implies F(y) = x\n",
    "$$</span>\n",
    "then the random variable Y has distribution function F\n",
    "\n",
    "### The rejection method\n",
    "Suppose that we have a method for simulating a random variable having density function **g(x)**. We can use this method as the basis for simulating from continuous distribution having density **f(x)** by simulating **Y** from **g** and then accepting the simulated value with a probability proportional to **f(Y)/g(Y)**. Let **c** be a constant such that\n",
    "<span class='eqn'>$$\n",
    "\\frac{f(y)}{g(y)} \\le c; \\; \\text{for all y}\n",
    "$$</span>\n"
   ]
  }
 ],
 "metadata": {
  "kernelspec": {
   "display_name": "Python 3",
   "language": "python",
   "name": "python3"
  },
  "language_info": {
   "codemirror_mode": {
    "name": "ipython",
    "version": 3
   },
   "file_extension": ".py",
   "mimetype": "text/x-python",
   "name": "python",
   "nbconvert_exporter": "python",
   "pygments_lexer": "ipython3",
   "version": "3.6.3"
  }
 },
 "nbformat": 4,
 "nbformat_minor": 2
}

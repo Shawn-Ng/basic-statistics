{
 "cells": [
  {
   "cell_type": "markdown",
   "metadata": {},
   "source": [
    "# Chapter 1: Combinatorial Analysis\n",
    "Combinatorics is an area of mathematics primarily concerned with counting"
   ]
  },
  {
   "cell_type": "markdown",
   "metadata": {},
   "source": [
    "## Setup\n",
    "- Customizing Jupyter Notebook CSS: https://stackoverflow.com/questions/32156248/how-do-i-set-custom-css-for-my-ipython-ihaskell-jupyter-notebook\n",
    "- Using Mathjax on Jupyter: http://jupyter-notebook.readthedocs.io/en/stable/examples/Notebook/Typesetting%20Equations.html#Inline-Typesetting-(Mixing-Markdown-and-TeX)"
   ]
  },
  {
   "cell_type": "code",
   "execution_count": 1,
   "metadata": {},
   "outputs": [
    {
     "data": {
      "text/html": [
       "<style>\n",
       ".tableHeader{\n",
       "    font-size:16px;\n",
       "}\n",
       "\n",
       ".eqn{\n",
       "    font-size:16px;\n",
       "    color:blue;\n",
       "}\n",
       "</style>"
      ],
      "text/plain": [
       "<IPython.core.display.HTML object>"
      ]
     },
     "metadata": {},
     "output_type": "display_data"
    }
   ],
   "source": [
    "%%html\n",
    "<style>\n",
    ".tableHeader{\n",
    "    font-size:16px;\n",
    "}\n",
    "\n",
    ".eqn{\n",
    "    font-size:16px;\n",
    "    color:blue;\n",
    "}\n",
    "</style>"
   ]
  },
  {
   "cell_type": "code",
   "execution_count": 2,
   "metadata": {
    "collapsed": true
   },
   "outputs": [],
   "source": [
    "import math\n",
    "import itertools\n",
    "import pprint"
   ]
  },
  {
   "cell_type": "code",
   "execution_count": 3,
   "metadata": {
    "collapsed": true
   },
   "outputs": [],
   "source": [
    "def get_details_and_length_of_outcomes(outcomes):\n",
    "    print('All possible outcomes:')\n",
    "    pprint.pprint(outcomes)\n",
    "    print('\\n')\n",
    "    print('Number of outcomes =', len(outcomes), '\\n')\n",
    "\n",
    "def nCr(n, r):\n",
    "    f = math.factorial\n",
    "    return f(n) // f(r) // f(n-r)"
   ]
  },
  {
   "cell_type": "markdown",
   "metadata": {},
   "source": [
    "---"
   ]
  },
  {
   "cell_type": "markdown",
   "metadata": {},
   "source": [
    "## 1.2 The basic principle of counting\n",
    "Suppose that two experiments are to be performed. Then if experiment 1 can result in any one of **m** possible outcomes and if, for each outcome of experiment 1, there are **n** possible outcomes of experiment 2, then together there are **mn** possible outcomes of the two experiments\n",
    "\n",
    "Cartesian product: https://en.wikipedia.org/wiki/Cartesian_product"
   ]
  },
  {
   "cell_type": "markdown",
   "metadata": {},
   "source": [
    "**Example 2a**\n",
    "\n",
    "A small community consists of 10 women, each of whom has 3 children. If 1 woman and 1 of her children are to be chosen as mother and child of the year, how many different choices are possible?"
   ]
  },
  {
   "cell_type": "code",
   "execution_count": 4,
   "metadata": {},
   "outputs": [
    {
     "name": "stdout",
     "output_type": "stream",
     "text": [
      "List of women: ['Woman1', 'Woman2', 'Woman3', 'Woman4', 'Woman5', 'Woman6', 'Woman7', 'Woman8', 'Woman9', 'Woman10'] \n",
      "\n",
      "List of children: ['Child1', 'Child2', 'Child3'] \n",
      "\n",
      "All possible outcomes:\n",
      "[('Woman1', 'Child1'),\n",
      " ('Woman1', 'Child2'),\n",
      " ('Woman1', 'Child3'),\n",
      " ('Woman2', 'Child1'),\n",
      " ('Woman2', 'Child2'),\n",
      " ('Woman2', 'Child3'),\n",
      " ('Woman3', 'Child1'),\n",
      " ('Woman3', 'Child2'),\n",
      " ('Woman3', 'Child3'),\n",
      " ('Woman4', 'Child1'),\n",
      " ('Woman4', 'Child2'),\n",
      " ('Woman4', 'Child3'),\n",
      " ('Woman5', 'Child1'),\n",
      " ('Woman5', 'Child2'),\n",
      " ('Woman5', 'Child3'),\n",
      " ('Woman6', 'Child1'),\n",
      " ('Woman6', 'Child2'),\n",
      " ('Woman6', 'Child3'),\n",
      " ('Woman7', 'Child1'),\n",
      " ('Woman7', 'Child2'),\n",
      " ('Woman7', 'Child3'),\n",
      " ('Woman8', 'Child1'),\n",
      " ('Woman8', 'Child2'),\n",
      " ('Woman8', 'Child3'),\n",
      " ('Woman9', 'Child1'),\n",
      " ('Woman9', 'Child2'),\n",
      " ('Woman9', 'Child3'),\n",
      " ('Woman10', 'Child1'),\n",
      " ('Woman10', 'Child2'),\n",
      " ('Woman10', 'Child3')]\n",
      "\n",
      "\n",
      "Number of outcomes = 30 \n",
      "\n",
      "Number of outcomes based on the formula: mn = 30 \n",
      "\n"
     ]
    }
   ],
   "source": [
    "# Generate lists of women and children\n",
    "women = ['Woman'+str(i) for i in range(1,11)]\n",
    "children = ['Child'+str(i) for i in range(1,4)]\n",
    "print('List of women:', women, '\\n')\n",
    "print('List of children:', children, '\\n')\n",
    "\n",
    "# Generate the possible outcomes\n",
    "outcomes = list(itertools.product(women, children))\n",
    "get_details_and_length_of_outcomes(outcomes)\n",
    "print('Number of outcomes based on the formula: mn =',\n",
    "      len(women)*len(children), '\\n')"
   ]
  },
  {
   "cell_type": "markdown",
   "metadata": {},
   "source": [
    "---"
   ]
  },
  {
   "cell_type": "markdown",
   "metadata": {},
   "source": [
    "## 1.3 Permutations: \n",
    "\n",
    "Permutation is an order arrangement of objects.\n",
    "\n",
    "Given that there are $n$ objects for permutations:\n",
    "\n",
    "| <span class='tableHeader'>With repetition</span> | <span class='tableHeader'>r or n where r < n</span> | <span class='tableHeader'>Statistical formula</span> |\n",
    "| :------: | :------: | ------ |\n",
    "| Yes | r | <span class='eqn'>$n^r$</span> |\n",
    "| No | n | <span class='eqn'>$P(n,n) = n!$</span> |\n",
    "| No | r | <span class='eqn'>$P(n,r) = \\frac{n!}{(n-r)!}$</span> |\n",
    "<br>\n",
    "\n",
    "### Multisets permutation\n",
    "If $n_1+n_2+\\cdots+n_r=n$, we define <span class='eqn'>$\\binom{n}{n_1,n_2,\\cdots,n_r}$</span> by\n",
    "<span class='eqn'>$$\n",
    "\\binom{n}{n_1, n_2, \\cdots ,n_r} = \\frac{n!}{ (n_1!n_2! \\cdots n_r!)}\n",
    "$$</span>\n",
    "Thus <span class='eqn'>$\\binom{n}{n_1,n_2,\\cdots,n_r}$</span> represents the number of possible divisions of $n$ distinct objects into $r$ distinct groups of respective sizes $n_1,n_2,\\cdots,n_r$. **Without repetition**.\n",
    "\n",
    "### Circular permutation\n",
    "Circular permutation of set $S$ with $n$ elements is: \n",
    "<span class='eqn'>$$P_n = (n-1)!$$</span>"
   ]
  },
  {
   "cell_type": "markdown",
   "metadata": {},
   "source": [
    "#### Example 3a\n",
    "Given 'ABC', show all the possible arrangements when repetitions are allowed"
   ]
  },
  {
   "cell_type": "code",
   "execution_count": 5,
   "metadata": {},
   "outputs": [
    {
     "name": "stdout",
     "output_type": "stream",
     "text": [
      "All possible outcomes:\n",
      "[('A', 'A', 'A'),\n",
      " ('A', 'A', 'B'),\n",
      " ('A', 'A', 'C'),\n",
      " ('A', 'B', 'A'),\n",
      " ('A', 'B', 'B'),\n",
      " ('A', 'B', 'C'),\n",
      " ('A', 'C', 'A'),\n",
      " ('A', 'C', 'B'),\n",
      " ('A', 'C', 'C'),\n",
      " ('B', 'A', 'A'),\n",
      " ('B', 'A', 'B'),\n",
      " ('B', 'A', 'C'),\n",
      " ('B', 'B', 'A'),\n",
      " ('B', 'B', 'B'),\n",
      " ('B', 'B', 'C'),\n",
      " ('B', 'C', 'A'),\n",
      " ('B', 'C', 'B'),\n",
      " ('B', 'C', 'C'),\n",
      " ('C', 'A', 'A'),\n",
      " ('C', 'A', 'B'),\n",
      " ('C', 'A', 'C'),\n",
      " ('C', 'B', 'A'),\n",
      " ('C', 'B', 'B'),\n",
      " ('C', 'B', 'C'),\n",
      " ('C', 'C', 'A'),\n",
      " ('C', 'C', 'B'),\n",
      " ('C', 'C', 'C')]\n",
      "\n",
      "\n",
      "Number of outcomes = 27 \n",
      "\n",
      "Number of outcomes based on the formula: n^r = 27.0 \n",
      "\n"
     ]
    }
   ],
   "source": [
    "x = list('ABC')\n",
    "outcomes = [letter for letter in itertools.product(x, repeat=len(x))]\n",
    "get_details_and_length_of_outcomes(outcomes)\n",
    "print('Number of outcomes based on the formula: n^r =',\n",
    "      math.pow(3, 3), '\\n')"
   ]
  },
  {
   "cell_type": "markdown",
   "metadata": {},
   "source": [
    "#### Example 3b\n",
    "Given 'ABC', show all the possible arrangements when repetitions are not allowed"
   ]
  },
  {
   "cell_type": "code",
   "execution_count": 6,
   "metadata": {},
   "outputs": [
    {
     "name": "stdout",
     "output_type": "stream",
     "text": [
      "All possible outcomes:\n",
      "[('A', 'B', 'C'),\n",
      " ('A', 'C', 'B'),\n",
      " ('B', 'A', 'C'),\n",
      " ('B', 'C', 'A'),\n",
      " ('C', 'A', 'B'),\n",
      " ('C', 'B', 'A')]\n",
      "\n",
      "\n",
      "Number of outcomes = 6 \n",
      "\n",
      "Number of outcomes based on the formula: n! = 6 \n",
      "\n"
     ]
    }
   ],
   "source": [
    "outcomes = list(itertools.permutations('ABC', 3))\n",
    "get_details_and_length_of_outcomes(outcomes)\n",
    "print('Number of outcomes based on the formula: n! =',\n",
    "      math.factorial(3), '\\n')"
   ]
  },
  {
   "cell_type": "markdown",
   "metadata": {},
   "source": [
    "---"
   ]
  },
  {
   "cell_type": "markdown",
   "metadata": {},
   "source": [
    "## 1.4 Combination\n",
    "\n",
    "$\\binom{n}{r}$ represents the number of different groups of size $r$ that could be formed from a total of $n$ objects. **Without repetition**:\n",
    "<span class='eqn'>$$\n",
    "C(n,r) = \\binom{n}{r} = \\frac{n(n-1) \\cdots (n-r+1)}{r!} = \\frac{n!}{(n-r)!r!}; \\;\\; \\text{for}\\; r \\le n \\\\\n",
    "\\binom{n}{r} = \\binom{n-1}{r-1} + \\binom{n-1}{r}; \\;\\; 1 \\le r \\le n \\\\\n",
    "C(n,r) = \\frac{P(n,r)}{P(r,r)}\n",
    "$$</span>\n",
    "\n",
    "**With repetition**:\n",
    "<span class='eqn'>$$\n",
    "C(n+r-1, r) = \\binom{n+r-1}{r} = \\frac{(n+r-1)!}{r!(n-1)!}\n",
    "$$</span>"
   ]
  },
  {
   "cell_type": "markdown",
   "metadata": {},
   "source": [
    "### When to use permutation and combination"
   ]
  },
  {
   "cell_type": "code",
   "execution_count": 7,
   "metadata": {
    "collapsed": true
   },
   "outputs": [],
   "source": [
    "def choose_permutation_or_combination(order):\n",
    "    if order == True:\n",
    "        return \"Permutation\"\n",
    "    else:\n",
    "        return \"Combination\""
   ]
  },
  {
   "cell_type": "markdown",
   "metadata": {},
   "source": [
    "#### Example 4a\n",
    "Given 'ABC', show all the possible combinations, without repetition"
   ]
  },
  {
   "cell_type": "code",
   "execution_count": 8,
   "metadata": {},
   "outputs": [
    {
     "name": "stdout",
     "output_type": "stream",
     "text": [
      "All possible outcomes:\n",
      "[('A', 'B', 'C')]\n",
      "\n",
      "\n",
      "Number of outcomes = 1 \n",
      "\n",
      "Number of outcomes based on the formula: C(n,r) = 1 \n",
      "\n"
     ]
    }
   ],
   "source": [
    "outcomes = list(itertools.combinations('ABC', 3))\n",
    "get_details_and_length_of_outcomes(outcomes)\n",
    "print('Number of outcomes based on the formula: C(n,r) =',\n",
    "      nCr(3,3), '\\n')"
   ]
  },
  {
   "cell_type": "markdown",
   "metadata": {},
   "source": [
    "#### Example 4b\n",
    "Given 'ABC', show all the possible combinations, with repetition"
   ]
  },
  {
   "cell_type": "code",
   "execution_count": 9,
   "metadata": {},
   "outputs": [
    {
     "name": "stdout",
     "output_type": "stream",
     "text": [
      "All possible outcomes:\n",
      "[('A', 'A', 'A'),\n",
      " ('A', 'A', 'B'),\n",
      " ('A', 'A', 'C'),\n",
      " ('A', 'B', 'B'),\n",
      " ('A', 'B', 'C'),\n",
      " ('A', 'C', 'C'),\n",
      " ('B', 'B', 'B'),\n",
      " ('B', 'B', 'C'),\n",
      " ('B', 'C', 'C'),\n",
      " ('C', 'C', 'C')]\n",
      "\n",
      "\n",
      "Number of outcomes = 10 \n",
      "\n",
      "Number of outcomes based on the formula: C(n+r-1,r) = 10 \n",
      "\n"
     ]
    }
   ],
   "source": [
    "outcomes = list(itertools.combinations_with_replacement('ABC', 3))\n",
    "get_details_and_length_of_outcomes(outcomes)\n",
    "print('Number of outcomes based on the formula: C(n+r-1,r) =',\n",
    "      nCr(3+3-1,3), '\\n')"
   ]
  },
  {
   "cell_type": "markdown",
   "metadata": {},
   "source": [
    "### The binomial theorem\n",
    "<span class='eqn'>\n",
    "$$(x+y)^n = \\sum_{k=0}^n\\binom{n}{k}x^ky^{n-k}$$\n",
    "</span>\n",
    "\n",
    "For example:\n",
    "$$\n",
    "(x+y)^3 = y^3 + 3xy^2 + 3x^2y + x^3\n",
    "$$"
   ]
  }
 ],
 "metadata": {
  "kernelspec": {
   "display_name": "Python 3",
   "language": "python",
   "name": "python3"
  },
  "language_info": {
   "codemirror_mode": {
    "name": "ipython",
    "version": 3
   },
   "file_extension": ".py",
   "mimetype": "text/x-python",
   "name": "python",
   "nbconvert_exporter": "python",
   "pygments_lexer": "ipython3",
   "version": "3.6.3"
  }
 },
 "nbformat": 4,
 "nbformat_minor": 2
}

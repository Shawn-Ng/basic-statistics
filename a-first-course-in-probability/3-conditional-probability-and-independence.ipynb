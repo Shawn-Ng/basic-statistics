{
 "cells": [
  {
   "cell_type": "markdown",
   "metadata": {},
   "source": [
    "# Chapter 3: Conditional Probability and Independence"
   ]
  },
  {
   "cell_type": "code",
   "execution_count": 1,
   "metadata": {},
   "outputs": [
    {
     "data": {
      "text/html": [
       "<style>\n",
       ".tableHeader{\n",
       "    font-size:16px;\n",
       "}\n",
       "\n",
       ".eqn{\n",
       "    font-size:16px;\n",
       "    color:blue;\n",
       "}\n",
       "</style>"
      ],
      "text/plain": [
       "<IPython.core.display.HTML object>"
      ]
     },
     "metadata": {},
     "output_type": "display_data"
    }
   ],
   "source": [
    "%%html\n",
    "<style>\n",
    ".tableHeader{\n",
    "    font-size:16px;\n",
    "}\n",
    "\n",
    ".eqn{\n",
    "    font-size:16px;\n",
    "    color:blue;\n",
    "}\n",
    "</style>"
   ]
  },
  {
   "cell_type": "markdown",
   "metadata": {},
   "source": [
    "---"
   ]
  },
  {
   "cell_type": "markdown",
   "metadata": {},
   "source": [
    "## 3.2 Conditional probabilities\n",
    "$P(A \\mid B)$ refers to the conditional probability that **A** occurs given than **B** has occurred\n",
    "\n",
    "If $P(B)>0$ then\n",
    "<span class='eqn'>$$\n",
    "P(A \\mid B) = \\frac{P(AB)}{P(B)} \\implies P(AB) = P(B)P(A \\mid B)\n",
    "$$</span>\n",
    "\n",
    "### The multiplication rule\n",
    "<span class='eqn'>$$\n",
    "P(A_1A_2A_3 \\cdots A_n) = P(A_1)P(A_2 \\mid A_1)P(A_3 \\mid A_1A_2) \\cdots P(A_n \\mid A_1 \\cdots A_{n-1})\n",
    "$$</span>\n"
   ]
  },
  {
   "cell_type": "markdown",
   "metadata": {},
   "source": [
    "---"
   ]
  },
  {
   "cell_type": "markdown",
   "metadata": {},
   "source": [
    "## 3.3 Bayes's formula\n",
    "Let **A** and **B** be events, We may express **A** as:\n",
    "<span class='eqn'>$$A = AB \\cup AB^\\complement$$</span>\n",
    "for, in order for an outcome to be in **A**, it must either be in both **A** and **B** or be in **A** but not in **B**.\n",
    "\n",
    "### 3.3.1\n",
    "<span class='eqn'>\\begin{align}\n",
    "P(A) &= P(AB) + P(AB^\\complement) \\\\\n",
    "&= P(A \\mid B)P(B) + P(A \\mid B^\\complement)P(B^\\complement) \\\\\n",
    "&= P(A \\mid B)P(B) + P(A \\mid B^\\complement)[1-P(B)]\n",
    "\\end{align}</span>\n",
    "\n",
    "### 3.3.2\n",
    "<span class='eqn'>\\begin{align}\n",
    "P(B \\mid A) &= \\frac{P(BA)}{P(A)} \\\\\n",
    "&= \\frac{P(A \\mid B)P(B)}{P(A \\mid B)P(B) + P(A \\mid B^\\complement)[1-P(B)]}\n",
    "\\end{align}</span>\n",
    "\n",
    "### Definition\n",
    "<span class='eqn'>$$\n",
    "\\frac{P(A)}{P(A^\\complement)} = \\frac{P(A)}{1-P(A)}\n",
    "$$</span>\n",
    "The odds of an event **A** tell how much more likely it is that the event **A** occurs than it is that it does not occur\n",
    "\n",
    "### 3.3.3\n",
    "<span class='eqn'>$$\n",
    "\\frac{P(B \\mid A)}{P(B^\\complement \\mid A)} = \\frac{P(B)}{P(B^\\complement)} \\frac{P(A \\mid B)}{P(A \\mid B^\\complement)}\n",
    "$$</span>\n",
    "\n",
    "### 3.3.4\n",
    "<span class='eqn'>\\begin{align}\n",
    "P(A) &= \\sum_{i=1}^{n} P(AB_i) \\\\\n",
    "&= \\sum_{i=1}^{n} P(A \\mid B_i)P(B_i)\n",
    "\\end{align}</span>\n",
    "\n",
    "### 3.3.5\n",
    "<span class='eqn'>\\begin{align}\n",
    "P(B_j \\mid A) &= \\frac{P(AB_j)}{P(A)} \\\\\n",
    "&= \\frac{P(A \\mid B_i)P(B_i)}{\\sum_{i=1}^{n} P(A \\mid B_i)P(B_i)}\n",
    "\\end{align}</span>\n"
   ]
  },
  {
   "cell_type": "markdown",
   "metadata": {},
   "source": [
    "---"
   ]
  }
 ],
 "metadata": {
  "kernelspec": {
   "display_name": "Python 3",
   "language": "python",
   "name": "python3"
  },
  "language_info": {
   "codemirror_mode": {
    "name": "ipython",
    "version": 3
   },
   "file_extension": ".py",
   "mimetype": "text/x-python",
   "name": "python",
   "nbconvert_exporter": "python",
   "pygments_lexer": "ipython3",
   "version": "3.6.3"
  }
 },
 "nbformat": 4,
 "nbformat_minor": 2
}

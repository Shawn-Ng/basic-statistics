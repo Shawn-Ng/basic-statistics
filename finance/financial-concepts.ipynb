{
 "cells": [
  {
   "cell_type": "markdown",
   "metadata": {},
   "source": [
    "# 1.0 Intro to Financial Concepts using Python"
   ]
  },
  {
   "cell_type": "code",
   "execution_count": 1,
   "metadata": {},
   "outputs": [],
   "source": [
    "import numpy as np\n",
    "import scipy as sp"
   ]
  },
  {
   "cell_type": "markdown",
   "metadata": {},
   "source": [
    "## Return on investment (% gain)\n",
    "\n",
    "$ return = \\frac{v_{t2}-v_{t1}}{v_{t1}} = r $\n",
    "\n",
    "- $v_{t1}$: investment initial value\n",
    "- $v_{t2}$: investment final value"
   ]
  },
  {
   "cell_type": "code",
   "execution_count": 2,
   "metadata": {},
   "outputs": [],
   "source": [
    "def percent_gain(pv, fv, percent=None):\n",
    "    if all(isinstance(i, (int, float)) for i in [pv,fv]) and percent!=1:\n",
    "        return 'The return on investment is {0}'.format((fv-pv)/pv)\n",
    "    elif percent==1:\n",
    "        return 'The return on investment is {0}%'.format(str((fv-pv)/pv * 100))\n",
    "    else:\n",
    "        raise TypeError('Variables are not float type')"
   ]
  },
  {
   "cell_type": "markdown",
   "metadata": {},
   "source": [
    "You invest `$10,000` and it's worth `$11,000` after 1 year, what's the interest rate?"
   ]
  },
  {
   "cell_type": "code",
   "execution_count": 3,
   "metadata": {},
   "outputs": [
    {
     "data": {
      "text/plain": [
       "'The return on investment is 0.1'"
      ]
     },
     "execution_count": 3,
     "metadata": {},
     "output_type": "execute_result"
    }
   ],
   "source": [
    "percent_gain(10000,11000)"
   ]
  },
  {
   "cell_type": "code",
   "execution_count": 4,
   "metadata": {},
   "outputs": [
    {
     "data": {
      "text/plain": [
       "'The return on investment is 10.0%'"
      ]
     },
     "execution_count": 4,
     "metadata": {},
     "output_type": "execute_result"
    }
   ],
   "source": [
    "percent_gain(10000,11000, 1)"
   ]
  },
  {
   "cell_type": "markdown",
   "metadata": {},
   "source": [
    "## Return on investment (Dollar Value)\n",
    "\n",
    "$ v_{t2} = v_{t1} * (1+r) $\n",
    "\n",
    "- `r`: the rate of return of the investment per period t"
   ]
  },
  {
   "cell_type": "markdown",
   "metadata": {},
   "source": [
    "Assuming you invest `$10,000` and the ARR=`10%`, what do you get after 1 year?"
   ]
  },
  {
   "cell_type": "code",
   "execution_count": 5,
   "metadata": {},
   "outputs": [
    {
     "data": {
      "text/plain": [
       "11000.0"
      ]
     },
     "execution_count": 5,
     "metadata": {},
     "output_type": "execute_result"
    }
   ],
   "source": [
    "np.fv(0.1, 1, 0, -10000)"
   ]
  },
  {
   "cell_type": "markdown",
   "metadata": {},
   "source": [
    "## Cumulative growth / Depreciation\n",
    "\n",
    "Investment value = $ v_{t_0} * (1+r)^t $\n",
    "\n",
    "- `r`: growth rate"
   ]
  },
  {
   "cell_type": "markdown",
   "metadata": {},
   "source": [
    "Assuming you invest `$10,000` and the ARR=`10%`, what do you get after 10 years?"
   ]
  },
  {
   "cell_type": "code",
   "execution_count": 6,
   "metadata": {},
   "outputs": [
    {
     "data": {
      "text/plain": [
       "25937.424601000024"
      ]
     },
     "execution_count": 6,
     "metadata": {},
     "output_type": "execute_result"
    }
   ],
   "source": [
    "np.fv(0.1, 10, 0, -10000)"
   ]
  },
  {
   "cell_type": "markdown",
   "metadata": {},
   "source": [
    "## Discount factors\n",
    "\n",
    "$ df = \\frac{1}{(1+r)^t} $\n",
    "\n",
    "$ v = fv * df $\n",
    "\n",
    "- `df`: discount factor\n",
    "- `v`: investment's initial value\n",
    "- `fv`: investment future value"
   ]
  },
  {
   "cell_type": "markdown",
   "metadata": {},
   "source": [
    "## Compound interest\n",
    "\n",
    "Investment value = $ v_{t_0} * (1 + \\frac{r}{c})^{t*c} $\n",
    "\n",
    "- `r`: annual growth rate\n",
    "- `c`: # of compounding periods per year"
   ]
  },
  {
   "cell_type": "markdown",
   "metadata": {},
   "source": [
    "Consider a `$1,000` investment with a `10%` annual return, compounded quarterly (every 3 months, 4 times per year)"
   ]
  },
  {
   "cell_type": "code",
   "execution_count": 9,
   "metadata": {},
   "outputs": [
    {
     "data": {
      "text/plain": [
       "1103.8128906249995"
      ]
     },
     "execution_count": 9,
     "metadata": {},
     "output_type": "execute_result"
    }
   ],
   "source": [
    "np.fv(0.1/4, 1*4, 0, -1000)"
   ]
  },
  {
   "cell_type": "markdown",
   "metadata": {},
   "source": [
    "Compounded over `30` years"
   ]
  },
  {
   "cell_type": "code",
   "execution_count": 10,
   "metadata": {},
   "outputs": [
    {
     "data": {
      "text/plain": [
       "19358.149833777778"
      ]
     },
     "execution_count": 10,
     "metadata": {},
     "output_type": "execute_result"
    }
   ],
   "source": [
    "np.fv(0.1/4, 30*4, 0, -1000)"
   ]
  },
  {
   "cell_type": "markdown",
   "metadata": {},
   "source": [
    "## 1.1 Present and future values"
   ]
  },
  {
   "cell_type": "markdown",
   "metadata": {},
   "source": [
    "Calculate the present value of `$100` received 3 years from now at a `1.0%` inflation rate."
   ]
  },
  {
   "cell_type": "code",
   "execution_count": 11,
   "metadata": {},
   "outputs": [
    {
     "data": {
      "text/plain": [
       "97.05901479276443"
      ]
     },
     "execution_count": 11,
     "metadata": {},
     "output_type": "execute_result"
    }
   ],
   "source": [
    "np.pv(0.01, 3, 0, -100)"
   ]
  },
  {
   "cell_type": "markdown",
   "metadata": {},
   "source": [
    "Calculate the future value of `$100` invested for 3 years at a `5.0%` average annual rate of return."
   ]
  },
  {
   "cell_type": "code",
   "execution_count": 12,
   "metadata": {},
   "outputs": [
    {
     "data": {
      "text/plain": [
       "115.76250000000002"
      ]
     },
     "execution_count": 12,
     "metadata": {},
     "output_type": "execute_result"
    }
   ],
   "source": [
    "np.fv(0.05, 3, 0, -100)"
   ]
  },
  {
   "cell_type": "markdown",
   "metadata": {},
   "source": [
    "## 1.2 Net present value & cash flows"
   ]
  },
  {
   "cell_type": "markdown",
   "metadata": {},
   "source": [
    "### Discount cash flow\n",
    "https://www.investopedia.com/terms/d/dcf.asp"
   ]
  },
  {
   "cell_type": "code",
   "execution_count": 19,
   "metadata": {},
   "outputs": [
    {
     "data": {
      "text/plain": [
       "249.93"
      ]
     },
     "execution_count": 19,
     "metadata": {},
     "output_type": "execute_result"
    }
   ],
   "source": [
    "# Year 1-5\n",
    "50.93 + 51.87 + 50.43 + 49.03 + 47.67"
   ]
  },
  {
   "cell_type": "code",
   "execution_count": 21,
   "metadata": {},
   "outputs": [
    {
     "data": {
      "text/plain": [
       "249.92162512796267"
      ]
     },
     "execution_count": 21,
     "metadata": {},
     "output_type": "execute_result"
    }
   ],
   "source": [
    "# Include 0 as we don't have cashflow for year 0\n",
    "# Don't include terminal from the example\n",
    "cf = np.array([0, 55, 60.5, 63.53, 66.7, 70.04])\n",
    "np.npv(rate=0.08, values=cf)"
   ]
  },
  {
   "cell_type": "markdown",
   "metadata": {},
   "source": [
    "# 2.0 A tale of 2 project proposals"
   ]
  },
  {
   "cell_type": "markdown",
   "metadata": {},
   "source": [
    "## Net present value (NPV)\n",
    "\n",
    "NPV is equal to the sum of all discounted cash flows. NPV is a simple cash flow valuation measure that does not allow for the comparison of different sized projects or lengths.\n",
    "\n",
    "$ NPV = \\sum^T_{t=1} \\frac{C_t}{(1+r)^t} - C_0 $\n",
    "\n",
    "- $C_t$: cashflow at time t\n",
    "- `r`: discount rate"
   ]
  },
  {
   "cell_type": "markdown",
   "metadata": {},
   "source": [
    "## Internal rate of return (IRR)\n",
    "\n",
    "The internal rate of return must be computed by solving for IRR in the NPV equation when set equal to 0. IRR can be used to compare projects of different sizes and lengths but requires an algorithmic solution and does not measure total value.\n",
    "\n",
    "$ NPV = \\sum^T_{t=1} \\frac{C_t}{(1+IRR)^t} - C_t = 0 $\n",
    "\n",
    "- `IRR`: internal rate of return\n",
    "\n",
    "https://en.wikipedia.org/wiki/Internal_rate_of_return#Example"
   ]
  },
  {
   "cell_type": "code",
   "execution_count": 22,
   "metadata": {},
   "outputs": [
    {
     "data": {
      "text/plain": [
       "0.0596163785673296"
      ]
     },
     "execution_count": 22,
     "metadata": {},
     "output_type": "execute_result"
    }
   ],
   "source": [
    "cf = np.array([-123400,36200,54800,48100])\n",
    "np.irr(cf)"
   ]
  },
  {
   "cell_type": "markdown",
   "metadata": {},
   "source": [
    "## The weighted average cost of capital (WACC)\n",
    "\n"
   ]
  }
 ],
 "metadata": {
  "kernelspec": {
   "display_name": "Python 3",
   "language": "python",
   "name": "python3"
  },
  "language_info": {
   "codemirror_mode": {
    "name": "ipython",
    "version": 3
   },
   "file_extension": ".py",
   "mimetype": "text/x-python",
   "name": "python",
   "nbconvert_exporter": "python",
   "pygments_lexer": "ipython3",
   "version": "3.6.6"
  }
 },
 "nbformat": 4,
 "nbformat_minor": 2
}

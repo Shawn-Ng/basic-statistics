{
 "cells": [
  {
   "cell_type": "code",
   "execution_count": 1,
   "metadata": {},
   "outputs": [],
   "source": [
    "import pandas as pd\n",
    "import matplotlib.pyplot as plt\n",
    "\n",
    "%matplotlib inline"
   ]
  },
  {
   "cell_type": "markdown",
   "metadata": {},
   "source": [
    "#  1 Build Time Series"
   ]
  },
  {
   "cell_type": "code",
   "execution_count": 2,
   "metadata": {},
   "outputs": [
    {
     "name": "stdout",
     "output_type": "stream",
     "text": [
      "<class 'pandas.core.frame.DataFrame'>\n",
      "RangeIndex: 147 entries, 0 to 146\n",
      "Data columns (total 2 columns):\n",
      "DATE    147 non-null int64\n",
      "TAVG    147 non-null float64\n",
      "dtypes: float64(1), int64(1)\n",
      "memory usage: 2.4 KB\n"
     ]
    }
   ],
   "source": [
    "# Import TAVG, TAVG = Average temperature\n",
    "tavg = pd.read_csv('../data/NOAA_TAVG.csv')\n",
    "tavg.info()"
   ]
  },
  {
   "cell_type": "code",
   "execution_count": 3,
   "metadata": {},
   "outputs": [
    {
     "data": {
      "text/html": [
       "<div>\n",
       "<style scoped>\n",
       "    .dataframe tbody tr th:only-of-type {\n",
       "        vertical-align: middle;\n",
       "    }\n",
       "\n",
       "    .dataframe tbody tr th {\n",
       "        vertical-align: top;\n",
       "    }\n",
       "\n",
       "    .dataframe thead th {\n",
       "        text-align: right;\n",
       "    }\n",
       "</style>\n",
       "<table border=\"1\" class=\"dataframe\">\n",
       "  <thead>\n",
       "    <tr style=\"text-align: right;\">\n",
       "      <th></th>\n",
       "      <th>DATE</th>\n",
       "      <th>TAVG</th>\n",
       "    </tr>\n",
       "  </thead>\n",
       "  <tbody>\n",
       "    <tr>\n",
       "      <th>0</th>\n",
       "      <td>1870</td>\n",
       "      <td>53.8</td>\n",
       "    </tr>\n",
       "    <tr>\n",
       "      <th>1</th>\n",
       "      <td>1871</td>\n",
       "      <td>51.3</td>\n",
       "    </tr>\n",
       "    <tr>\n",
       "      <th>2</th>\n",
       "      <td>1872</td>\n",
       "      <td>51.3</td>\n",
       "    </tr>\n",
       "    <tr>\n",
       "      <th>3</th>\n",
       "      <td>1873</td>\n",
       "      <td>50.9</td>\n",
       "    </tr>\n",
       "    <tr>\n",
       "      <th>4</th>\n",
       "      <td>1874</td>\n",
       "      <td>51.3</td>\n",
       "    </tr>\n",
       "  </tbody>\n",
       "</table>\n",
       "</div>"
      ],
      "text/plain": [
       "   DATE  TAVG\n",
       "0  1870  53.8\n",
       "1  1871  51.3\n",
       "2  1872  51.3\n",
       "3  1873  50.9\n",
       "4  1874  51.3"
      ]
     },
     "execution_count": 3,
     "metadata": {},
     "output_type": "execute_result"
    }
   ],
   "source": [
    "tavg.head()"
   ]
  },
  {
   "cell_type": "code",
   "execution_count": 4,
   "metadata": {},
   "outputs": [
    {
     "data": {
      "text/html": [
       "<div>\n",
       "<style scoped>\n",
       "    .dataframe tbody tr th:only-of-type {\n",
       "        vertical-align: middle;\n",
       "    }\n",
       "\n",
       "    .dataframe tbody tr th {\n",
       "        vertical-align: top;\n",
       "    }\n",
       "\n",
       "    .dataframe thead th {\n",
       "        text-align: right;\n",
       "    }\n",
       "</style>\n",
       "<table border=\"1\" class=\"dataframe\">\n",
       "  <thead>\n",
       "    <tr style=\"text-align: right;\">\n",
       "      <th></th>\n",
       "      <th>TAVG</th>\n",
       "    </tr>\n",
       "    <tr>\n",
       "      <th>DATE</th>\n",
       "      <th></th>\n",
       "    </tr>\n",
       "  </thead>\n",
       "  <tbody>\n",
       "    <tr>\n",
       "      <th>1870-01-01</th>\n",
       "      <td>53.8</td>\n",
       "    </tr>\n",
       "    <tr>\n",
       "      <th>1871-01-01</th>\n",
       "      <td>51.3</td>\n",
       "    </tr>\n",
       "    <tr>\n",
       "      <th>1872-01-01</th>\n",
       "      <td>51.3</td>\n",
       "    </tr>\n",
       "    <tr>\n",
       "      <th>1873-01-01</th>\n",
       "      <td>50.9</td>\n",
       "    </tr>\n",
       "    <tr>\n",
       "      <th>1874-01-01</th>\n",
       "      <td>51.3</td>\n",
       "    </tr>\n",
       "  </tbody>\n",
       "</table>\n",
       "</div>"
      ],
      "text/plain": [
       "            TAVG\n",
       "DATE            \n",
       "1870-01-01  53.8\n",
       "1871-01-01  51.3\n",
       "1872-01-01  51.3\n",
       "1873-01-01  50.9\n",
       "1874-01-01  51.3"
      ]
     },
     "execution_count": 4,
     "metadata": {},
     "output_type": "execute_result"
    }
   ],
   "source": [
    "# Set date as index\n",
    "tavg.set_index('DATE', inplace=True, drop=True)\n",
    "tavg.index = pd.to_datetime(tavg.index, format='%Y')\n",
    "tavg.head()"
   ]
  },
  {
   "cell_type": "code",
   "execution_count": 5,
   "metadata": {},
   "outputs": [
    {
     "data": {
      "text/plain": [
       "<matplotlib.axes._subplots.AxesSubplot at 0x7f36e2a720b8>"
      ]
     },
     "execution_count": 5,
     "metadata": {},
     "output_type": "execute_result"
    },
    {
     "data": {
      "image/png": "[encoded data removed]",
      "text/plain": [
       "<Figure size 432x288 with 1 Axes>"
      ]
     },
     "metadata": {},
     "output_type": "display_data"
    }
   ],
   "source": [
    "tavg.plot(grid=True)"
   ]
  },
  {
   "cell_type": "code",
   "execution_count": 6,
   "metadata": {},
   "outputs": [
    {
     "data": {
      "text/html": [
       "<div>\n",
       "<style scoped>\n",
       "    .dataframe tbody tr th:only-of-type {\n",
       "        vertical-align: middle;\n",
       "    }\n",
       "\n",
       "    .dataframe tbody tr th {\n",
       "        vertical-align: top;\n",
       "    }\n",
       "\n",
       "    .dataframe thead th {\n",
       "        text-align: right;\n",
       "    }\n",
       "</style>\n",
       "<table border=\"1\" class=\"dataframe\">\n",
       "  <thead>\n",
       "    <tr style=\"text-align: right;\">\n",
       "      <th></th>\n",
       "      <th>TAVG</th>\n",
       "    </tr>\n",
       "    <tr>\n",
       "      <th>DATE</th>\n",
       "      <th></th>\n",
       "    </tr>\n",
       "  </thead>\n",
       "  <tbody>\n",
       "    <tr>\n",
       "      <th>2000-01-01</th>\n",
       "      <td>53.8</td>\n",
       "    </tr>\n",
       "  </tbody>\n",
       "</table>\n",
       "</div>"
      ],
      "text/plain": [
       "            TAVG\n",
       "DATE            \n",
       "2000-01-01  53.8"
      ]
     },
     "execution_count": 6,
     "metadata": {},
     "output_type": "execute_result"
    }
   ],
   "source": [
    "# Select year 2000\n",
    "tavg['2000']"
   ]
  },
  {
   "cell_type": "code",
   "execution_count": 7,
   "metadata": {},
   "outputs": [
    {
     "data": {
      "text/html": [
       "<div>\n",
       "<style scoped>\n",
       "    .dataframe tbody tr th:only-of-type {\n",
       "        vertical-align: middle;\n",
       "    }\n",
       "\n",
       "    .dataframe tbody tr th {\n",
       "        vertical-align: top;\n",
       "    }\n",
       "\n",
       "    .dataframe thead th {\n",
       "        text-align: right;\n",
       "    }\n",
       "</style>\n",
       "<table border=\"1\" class=\"dataframe\">\n",
       "  <thead>\n",
       "    <tr style=\"text-align: right;\">\n",
       "      <th></th>\n",
       "      <th>TAVG</th>\n",
       "      <th>percent_change</th>\n",
       "      <th>difference</th>\n",
       "    </tr>\n",
       "    <tr>\n",
       "      <th>DATE</th>\n",
       "      <th></th>\n",
       "      <th></th>\n",
       "      <th></th>\n",
       "    </tr>\n",
       "  </thead>\n",
       "  <tbody>\n",
       "    <tr>\n",
       "      <th>1870-01-01</th>\n",
       "      <td>53.8</td>\n",
       "      <td>NaN</td>\n",
       "      <td>NaN</td>\n",
       "    </tr>\n",
       "    <tr>\n",
       "      <th>1871-01-01</th>\n",
       "      <td>51.3</td>\n",
       "      <td>-0.046468</td>\n",
       "      <td>-2.5</td>\n",
       "    </tr>\n",
       "    <tr>\n",
       "      <th>1872-01-01</th>\n",
       "      <td>51.3</td>\n",
       "      <td>0.000000</td>\n",
       "      <td>0.0</td>\n",
       "    </tr>\n",
       "    <tr>\n",
       "      <th>1873-01-01</th>\n",
       "      <td>50.9</td>\n",
       "      <td>-0.007797</td>\n",
       "      <td>-0.4</td>\n",
       "    </tr>\n",
       "    <tr>\n",
       "      <th>1874-01-01</th>\n",
       "      <td>51.3</td>\n",
       "      <td>0.007859</td>\n",
       "      <td>0.4</td>\n",
       "    </tr>\n",
       "  </tbody>\n",
       "</table>\n",
       "</div>"
      ],
      "text/plain": [
       "            TAVG  percent_change  difference\n",
       "DATE                                        \n",
       "1870-01-01  53.8             NaN         NaN\n",
       "1871-01-01  51.3       -0.046468        -2.5\n",
       "1872-01-01  51.3        0.000000         0.0\n",
       "1873-01-01  50.9       -0.007797        -0.4\n",
       "1874-01-01  51.3        0.007859         0.4"
      ]
     },
     "execution_count": 7,
     "metadata": {},
     "output_type": "execute_result"
    }
   ],
   "source": [
    "# Broadcast percent change and difference columns\n",
    "tavg = tavg.assign(percent_change=tavg['TAVG'].pct_change())\n",
    "tavg = tavg.assign(difference=tavg['TAVG'].diff())\n",
    "tavg.head()"
   ]
  },
  {
   "cell_type": "code",
   "execution_count": 8,
   "metadata": {},
   "outputs": [
    {
     "data": {
      "text/plain": [
       "0.5705478431596491"
      ]
     },
     "execution_count": 8,
     "metadata": {},
     "output_type": "execute_result"
    }
   ],
   "source": [
    "# Autocorrelation\n",
    "tavg['TAVG'].autocorr()"
   ]
  },
  {
   "cell_type": "code",
   "execution_count": 9,
   "metadata": {
    "scrolled": true
   },
   "outputs": [
    {
     "name": "stdout",
     "output_type": "stream",
     "text": [
      "<class 'pandas.core.frame.DataFrame'>\n",
      "Index: 44 entries, 2007Q1 to 2017Q4\n",
      "Data columns (total 1 columns):\n",
      "Earnings    44 non-null float64\n",
      "dtypes: float64(1)\n",
      "memory usage: 704.0+ bytes\n"
     ]
    }
   ],
   "source": [
    "# Time series with seasonality\n",
    "hrb = pd.read_csv('../data/HRB.csv', index_col='Quarter')\n",
    "hrb.info()"
   ]
  },
  {
   "cell_type": "code",
   "execution_count": 10,
   "metadata": {},
   "outputs": [
    {
     "data": {
      "text/html": [
       "<div>\n",
       "<style scoped>\n",
       "    .dataframe tbody tr th:only-of-type {\n",
       "        vertical-align: middle;\n",
       "    }\n",
       "\n",
       "    .dataframe tbody tr th {\n",
       "        vertical-align: top;\n",
       "    }\n",
       "\n",
       "    .dataframe thead th {\n",
       "        text-align: right;\n",
       "    }\n",
       "</style>\n",
       "<table border=\"1\" class=\"dataframe\">\n",
       "  <thead>\n",
       "    <tr style=\"text-align: right;\">\n",
       "      <th></th>\n",
       "      <th>Earnings</th>\n",
       "    </tr>\n",
       "    <tr>\n",
       "      <th>Quarter</th>\n",
       "      <th></th>\n",
       "    </tr>\n",
       "  </thead>\n",
       "  <tbody>\n",
       "    <tr>\n",
       "      <th>2007Q1</th>\n",
       "      <td>-0.36</td>\n",
       "    </tr>\n",
       "    <tr>\n",
       "      <th>2007Q2</th>\n",
       "      <td>-0.38</td>\n",
       "    </tr>\n",
       "    <tr>\n",
       "      <th>2007Q3</th>\n",
       "      <td>0.07</td>\n",
       "    </tr>\n",
       "    <tr>\n",
       "      <th>2007Q4</th>\n",
       "      <td>1.85</td>\n",
       "    </tr>\n",
       "    <tr>\n",
       "      <th>2008Q1</th>\n",
       "      <td>-0.34</td>\n",
       "    </tr>\n",
       "  </tbody>\n",
       "</table>\n",
       "</div>"
      ],
      "text/plain": [
       "         Earnings\n",
       "Quarter          \n",
       "2007Q1      -0.36\n",
       "2007Q2      -0.38\n",
       "2007Q3       0.07\n",
       "2007Q4       1.85\n",
       "2008Q1      -0.34"
      ]
     },
     "execution_count": 10,
     "metadata": {},
     "output_type": "execute_result"
    }
   ],
   "source": [
    "hrb.head()"
   ]
  },
  {
   "cell_type": "code",
   "execution_count": 11,
   "metadata": {},
   "outputs": [
    {
     "data": {
      "text/html": [
       "<div>\n",
       "<style scoped>\n",
       "    .dataframe tbody tr th:only-of-type {\n",
       "        vertical-align: middle;\n",
       "    }\n",
       "\n",
       "    .dataframe tbody tr th {\n",
       "        vertical-align: top;\n",
       "    }\n",
       "\n",
       "    .dataframe thead th {\n",
       "        text-align: right;\n",
       "    }\n",
       "</style>\n",
       "<table border=\"1\" class=\"dataframe\">\n",
       "  <thead>\n",
       "    <tr style=\"text-align: right;\">\n",
       "      <th></th>\n",
       "      <th>Value</th>\n",
       "    </tr>\n",
       "    <tr>\n",
       "      <th>Date</th>\n",
       "      <th></th>\n",
       "    </tr>\n",
       "  </thead>\n",
       "  <tbody>\n",
       "    <tr>\n",
       "      <th>1941</th>\n",
       "      <td>110.96</td>\n",
       "    </tr>\n",
       "    <tr>\n",
       "      <th>1942</th>\n",
       "      <td>119.40</td>\n",
       "    </tr>\n",
       "    <tr>\n",
       "      <th>1943</th>\n",
       "      <td>135.89</td>\n",
       "    </tr>\n",
       "    <tr>\n",
       "      <th>1944</th>\n",
       "      <td>152.32</td>\n",
       "    </tr>\n",
       "    <tr>\n",
       "      <th>1945</th>\n",
       "      <td>192.91</td>\n",
       "    </tr>\n",
       "  </tbody>\n",
       "</table>\n",
       "</div>"
      ],
      "text/plain": [
       "       Value\n",
       "Date        \n",
       "1941  110.96\n",
       "1942  119.40\n",
       "1943  135.89\n",
       "1944  152.32\n",
       "1945  192.91"
      ]
     },
     "execution_count": 11,
     "metadata": {},
     "output_type": "execute_result"
    }
   ],
   "source": [
    "dji = pd.read_csv('../data/DJI.csv', index_col='Date')\n",
    "dji.head()"
   ]
  },
  {
   "cell_type": "code",
   "execution_count": 12,
   "metadata": {},
   "outputs": [
    {
     "data": {
      "text/html": [
       "<div>\n",
       "<style scoped>\n",
       "    .dataframe tbody tr th:only-of-type {\n",
       "        vertical-align: middle;\n",
       "    }\n",
       "\n",
       "    .dataframe tbody tr th {\n",
       "        vertical-align: top;\n",
       "    }\n",
       "\n",
       "    .dataframe thead th {\n",
       "        text-align: right;\n",
       "    }\n",
       "</style>\n",
       "<table border=\"1\" class=\"dataframe\">\n",
       "  <thead>\n",
       "    <tr style=\"text-align: right;\">\n",
       "      <th></th>\n",
       "      <th>Value</th>\n",
       "    </tr>\n",
       "    <tr>\n",
       "      <th>Date</th>\n",
       "      <th></th>\n",
       "    </tr>\n",
       "  </thead>\n",
       "  <tbody>\n",
       "    <tr>\n",
       "      <th>1941</th>\n",
       "      <td>1</td>\n",
       "    </tr>\n",
       "    <tr>\n",
       "      <th>1942</th>\n",
       "      <td>2</td>\n",
       "    </tr>\n",
       "    <tr>\n",
       "      <th>1943</th>\n",
       "      <td>9</td>\n",
       "    </tr>\n",
       "    <tr>\n",
       "      <th>1944</th>\n",
       "      <td>9</td>\n",
       "    </tr>\n",
       "    <tr>\n",
       "      <th>1945</th>\n",
       "      <td>9</td>\n",
       "    </tr>\n",
       "  </tbody>\n",
       "</table>\n",
       "</div>"
      ],
      "text/plain": [
       "      Value\n",
       "Date       \n",
       "1941      1\n",
       "1942      2\n",
       "1943      9\n",
       "1944      9\n",
       "1945      9"
      ]
     },
     "execution_count": 12,
     "metadata": {},
     "output_type": "execute_result"
    }
   ],
   "source": [
    "ufo = pd.read_csv('../data/UFO.csv', index_col='Date')\n",
    "ufo.head()"
   ]
  },
  {
   "cell_type": "markdown",
   "metadata": {},
   "source": [
    "## 1-02 Merging time series with different dates"
   ]
  },
  {
   "cell_type": "code",
   "execution_count": 13,
   "metadata": {},
   "outputs": [
    {
     "name": "stdout",
     "output_type": "stream",
     "text": [
      "<class 'pandas.core.frame.DataFrame'>\n",
      "DatetimeIndex: 5088 entries, 1997-05-15 to 2017-08-02\n",
      "Data columns (total 1 columns):\n",
      "Adj Close    5088 non-null float64\n",
      "dtypes: float64(1)\n",
      "memory usage: 79.5 KB\n"
     ]
    }
   ],
   "source": [
    "# Import AMZN\n",
    "\n",
    "# amzn = pd.read_csv('../data/AMZN.csv')\n",
    "# amzn.set_index('Date', inplace=True, drop=True)\n",
    "# amzn.index = pd.to_datetime(amzn.index)\n",
    "\n",
    "amzn = pd.read_csv('../data/AMZN.csv', index_col='Date', parse_dates=['Date'])\n",
    "amzn.info()"
   ]
  },
  {
   "cell_type": "code",
   "execution_count": 14,
   "metadata": {},
   "outputs": [
    {
     "data": {
      "text/html": [
       "<div>\n",
       "<style scoped>\n",
       "    .dataframe tbody tr th:only-of-type {\n",
       "        vertical-align: middle;\n",
       "    }\n",
       "\n",
       "    .dataframe tbody tr th {\n",
       "        vertical-align: top;\n",
       "    }\n",
       "\n",
       "    .dataframe thead th {\n",
       "        text-align: right;\n",
       "    }\n",
       "</style>\n",
       "<table border=\"1\" class=\"dataframe\">\n",
       "  <thead>\n",
       "    <tr style=\"text-align: right;\">\n",
       "      <th></th>\n",
       "      <th>Adj Close</th>\n",
       "    </tr>\n",
       "    <tr>\n",
       "      <th>Date</th>\n",
       "      <th></th>\n",
       "    </tr>\n",
       "  </thead>\n",
       "  <tbody>\n",
       "    <tr>\n",
       "      <th>1997-05-15</th>\n",
       "      <td>1.958333</td>\n",
       "    </tr>\n",
       "    <tr>\n",
       "      <th>1997-05-16</th>\n",
       "      <td>1.729167</td>\n",
       "    </tr>\n",
       "    <tr>\n",
       "      <th>1997-05-19</th>\n",
       "      <td>1.708333</td>\n",
       "    </tr>\n",
       "    <tr>\n",
       "      <th>1997-05-20</th>\n",
       "      <td>1.635417</td>\n",
       "    </tr>\n",
       "    <tr>\n",
       "      <th>1997-05-21</th>\n",
       "      <td>1.427083</td>\n",
       "    </tr>\n",
       "  </tbody>\n",
       "</table>\n",
       "</div>"
      ],
      "text/plain": [
       "            Adj Close\n",
       "Date                 \n",
       "1997-05-15   1.958333\n",
       "1997-05-16   1.729167\n",
       "1997-05-19   1.708333\n",
       "1997-05-20   1.635417\n",
       "1997-05-21   1.427083"
      ]
     },
     "execution_count": 14,
     "metadata": {},
     "output_type": "execute_result"
    }
   ],
   "source": [
    "amzn.head()"
   ]
  },
  {
   "cell_type": "code",
   "execution_count": 15,
   "metadata": {},
   "outputs": [
    {
     "name": "stdout",
     "output_type": "stream",
     "text": [
      "<class 'pandas.core.frame.DataFrame'>\n",
      "DatetimeIndex: 1258 entries, 2012-08-06 to 2017-08-04\n",
      "Data columns (total 1 columns):\n",
      "Adj Close    1258 non-null float64\n",
      "dtypes: float64(1)\n",
      "memory usage: 19.7 KB\n"
     ]
    }
   ],
   "source": [
    "# Import MSFT\n",
    "msft = pd.read_csv('../data/MSFT.csv', index_col='Date', parse_dates=['Date'])\n",
    "msft.info()"
   ]
  },
  {
   "cell_type": "code",
   "execution_count": 16,
   "metadata": {},
   "outputs": [
    {
     "data": {
      "text/html": [
       "<div>\n",
       "<style scoped>\n",
       "    .dataframe tbody tr th:only-of-type {\n",
       "        vertical-align: middle;\n",
       "    }\n",
       "\n",
       "    .dataframe tbody tr th {\n",
       "        vertical-align: top;\n",
       "    }\n",
       "\n",
       "    .dataframe thead th {\n",
       "        text-align: right;\n",
       "    }\n",
       "</style>\n",
       "<table border=\"1\" class=\"dataframe\">\n",
       "  <thead>\n",
       "    <tr style=\"text-align: right;\">\n",
       "      <th></th>\n",
       "      <th>Adj Close</th>\n",
       "    </tr>\n",
       "    <tr>\n",
       "      <th>Date</th>\n",
       "      <th></th>\n",
       "    </tr>\n",
       "  </thead>\n",
       "  <tbody>\n",
       "    <tr>\n",
       "      <th>2012-08-06</th>\n",
       "      <td>26.107651</td>\n",
       "    </tr>\n",
       "    <tr>\n",
       "      <th>2012-08-07</th>\n",
       "      <td>26.377876</td>\n",
       "    </tr>\n",
       "    <tr>\n",
       "      <th>2012-08-08</th>\n",
       "      <td>26.438896</td>\n",
       "    </tr>\n",
       "    <tr>\n",
       "      <th>2012-08-09</th>\n",
       "      <td>26.587088</td>\n",
       "    </tr>\n",
       "    <tr>\n",
       "      <th>2012-08-10</th>\n",
       "      <td>26.517351</td>\n",
       "    </tr>\n",
       "  </tbody>\n",
       "</table>\n",
       "</div>"
      ],
      "text/plain": [
       "            Adj Close\n",
       "Date                 \n",
       "2012-08-06  26.107651\n",
       "2012-08-07  26.377876\n",
       "2012-08-08  26.438896\n",
       "2012-08-09  26.587088\n",
       "2012-08-10  26.517351"
      ]
     },
     "execution_count": 16,
     "metadata": {},
     "output_type": "execute_result"
    }
   ],
   "source": [
    "msft.head()"
   ]
  },
  {
   "cell_type": "code",
   "execution_count": 17,
   "metadata": {},
   "outputs": [
    {
     "name": "stdout",
     "output_type": "stream",
     "text": [
      "amzn - msft: [Timestamp('2002-10-25 00:00:00'), Timestamp('1997-06-04 00:00:00'), Timestamp('2005-05-10 00:00:00'), Timestamp('2010-06-29 00:00:00'), Timestamp('2008-07-08 00:00:00'), Timestamp('2001-05-17 00:00:00'), Timestamp('2003-11-03 00:00:00'), Timestamp('2000-01-12 00:00:00'), Timestamp('2009-01-07 00:00:00'), Timestamp('2012-07-20 00:00:00')]\n"
     ]
    }
   ],
   "source": [
    "# Find dates in AMZN & MSFT\n",
    "amzn_dates_set = set(amzn.index)\n",
    "msft_dates_set = set(msft.index)\n",
    "\n",
    "# Dates with AMZN but not MSFT\n",
    "print('amzn - msft:', list(amzn_dates_set - msft_dates_set)[0:10])"
   ]
  },
  {
   "cell_type": "markdown",
   "metadata": {},
   "source": [
    "Join: https://stackoverflow.com/questions/26645515/pandas-join-issue-columns-overlap-but-no-suffix-specified"
   ]
  },
  {
   "cell_type": "code",
   "execution_count": 18,
   "metadata": {
    "scrolled": true
   },
   "outputs": [],
   "source": [
    "# amzn_msft = amzn.join(msft, how='inner')\n",
    "# amzn_msft.info()"
   ]
  },
  {
   "cell_type": "code",
   "execution_count": 19,
   "metadata": {},
   "outputs": [
    {
     "name": "stdout",
     "output_type": "stream",
     "text": [
      "<class 'pandas.core.frame.DataFrame'>\n",
      "DatetimeIndex: 5090 entries, 1997-05-15 to 2017-08-04\n",
      "Data columns (total 2 columns):\n",
      "Adj Close_x    5088 non-null float64\n",
      "Adj Close_y    1258 non-null float64\n",
      "dtypes: float64(2)\n",
      "memory usage: 119.3 KB\n"
     ]
    }
   ],
   "source": [
    "# Merging AMZN & MSFT\n",
    "amzn_msft = pd.merge(amzn, msft, how='outer', left_index=True, right_index=True)\n",
    "amzn_msft.info()"
   ]
  },
  {
   "cell_type": "code",
   "execution_count": 20,
   "metadata": {},
   "outputs": [
    {
     "data": {
      "text/html": [
       "<div>\n",
       "<style scoped>\n",
       "    .dataframe tbody tr th:only-of-type {\n",
       "        vertical-align: middle;\n",
       "    }\n",
       "\n",
       "    .dataframe tbody tr th {\n",
       "        vertical-align: top;\n",
       "    }\n",
       "\n",
       "    .dataframe thead th {\n",
       "        text-align: right;\n",
       "    }\n",
       "</style>\n",
       "<table border=\"1\" class=\"dataframe\">\n",
       "  <thead>\n",
       "    <tr style=\"text-align: right;\">\n",
       "      <th></th>\n",
       "      <th>Adj Close_x</th>\n",
       "      <th>Adj Close_y</th>\n",
       "    </tr>\n",
       "    <tr>\n",
       "      <th>Date</th>\n",
       "      <th></th>\n",
       "      <th></th>\n",
       "    </tr>\n",
       "  </thead>\n",
       "  <tbody>\n",
       "    <tr>\n",
       "      <th>2017-07-31</th>\n",
       "      <td>987.780029</td>\n",
       "      <td>72.699997</td>\n",
       "    </tr>\n",
       "    <tr>\n",
       "      <th>2017-08-01</th>\n",
       "      <td>996.190002</td>\n",
       "      <td>72.580002</td>\n",
       "    </tr>\n",
       "    <tr>\n",
       "      <th>2017-08-02</th>\n",
       "      <td>995.890015</td>\n",
       "      <td>72.260002</td>\n",
       "    </tr>\n",
       "    <tr>\n",
       "      <th>2017-08-03</th>\n",
       "      <td>NaN</td>\n",
       "      <td>72.150002</td>\n",
       "    </tr>\n",
       "    <tr>\n",
       "      <th>2017-08-04</th>\n",
       "      <td>NaN</td>\n",
       "      <td>72.680000</td>\n",
       "    </tr>\n",
       "  </tbody>\n",
       "</table>\n",
       "</div>"
      ],
      "text/plain": [
       "            Adj Close_x  Adj Close_y\n",
       "Date                                \n",
       "2017-07-31   987.780029    72.699997\n",
       "2017-08-01   996.190002    72.580002\n",
       "2017-08-02   995.890015    72.260002\n",
       "2017-08-03          NaN    72.150002\n",
       "2017-08-04          NaN    72.680000"
      ]
     },
     "execution_count": 20,
     "metadata": {},
     "output_type": "execute_result"
    }
   ],
   "source": [
    "amzn_msft.tail()"
   ]
  },
  {
   "cell_type": "code",
   "execution_count": 21,
   "metadata": {},
   "outputs": [
    {
     "data": {
      "text/html": [
       "<div>\n",
       "<style scoped>\n",
       "    .dataframe tbody tr th:only-of-type {\n",
       "        vertical-align: middle;\n",
       "    }\n",
       "\n",
       "    .dataframe tbody tr th {\n",
       "        vertical-align: top;\n",
       "    }\n",
       "\n",
       "    .dataframe thead th {\n",
       "        text-align: right;\n",
       "    }\n",
       "</style>\n",
       "<table border=\"1\" class=\"dataframe\">\n",
       "  <thead>\n",
       "    <tr style=\"text-align: right;\">\n",
       "      <th></th>\n",
       "      <th>amzn</th>\n",
       "      <th>msft</th>\n",
       "    </tr>\n",
       "    <tr>\n",
       "      <th>Date</th>\n",
       "      <th></th>\n",
       "      <th></th>\n",
       "    </tr>\n",
       "  </thead>\n",
       "  <tbody>\n",
       "    <tr>\n",
       "      <th>2017-07-31</th>\n",
       "      <td>987.780029</td>\n",
       "      <td>72.699997</td>\n",
       "    </tr>\n",
       "    <tr>\n",
       "      <th>2017-08-01</th>\n",
       "      <td>996.190002</td>\n",
       "      <td>72.580002</td>\n",
       "    </tr>\n",
       "    <tr>\n",
       "      <th>2017-08-02</th>\n",
       "      <td>995.890015</td>\n",
       "      <td>72.260002</td>\n",
       "    </tr>\n",
       "    <tr>\n",
       "      <th>2017-08-03</th>\n",
       "      <td>NaN</td>\n",
       "      <td>72.150002</td>\n",
       "    </tr>\n",
       "    <tr>\n",
       "      <th>2017-08-04</th>\n",
       "      <td>NaN</td>\n",
       "      <td>72.680000</td>\n",
       "    </tr>\n",
       "  </tbody>\n",
       "</table>\n",
       "</div>"
      ],
      "text/plain": [
       "                  amzn       msft\n",
       "Date                             \n",
       "2017-07-31  987.780029  72.699997\n",
       "2017-08-01  996.190002  72.580002\n",
       "2017-08-02  995.890015  72.260002\n",
       "2017-08-03         NaN  72.150002\n",
       "2017-08-04         NaN  72.680000"
      ]
     },
     "execution_count": 21,
     "metadata": {},
     "output_type": "execute_result"
    }
   ],
   "source": [
    "amzn_msft.columns = [\"amzn\", \"msft\"]\n",
    "amzn_msft.tail()"
   ]
  },
  {
   "cell_type": "code",
   "execution_count": 22,
   "metadata": {
    "scrolled": true
   },
   "outputs": [
    {
     "data": {
      "text/html": [
       "<div>\n",
       "<style scoped>\n",
       "    .dataframe tbody tr th:only-of-type {\n",
       "        vertical-align: middle;\n",
       "    }\n",
       "\n",
       "    .dataframe tbody tr th {\n",
       "        vertical-align: top;\n",
       "    }\n",
       "\n",
       "    .dataframe thead th {\n",
       "        text-align: right;\n",
       "    }\n",
       "</style>\n",
       "<table border=\"1\" class=\"dataframe\">\n",
       "  <thead>\n",
       "    <tr style=\"text-align: right;\">\n",
       "      <th></th>\n",
       "      <th>amzn</th>\n",
       "      <th>msft</th>\n",
       "    </tr>\n",
       "    <tr>\n",
       "      <th>Date</th>\n",
       "      <th></th>\n",
       "      <th></th>\n",
       "    </tr>\n",
       "  </thead>\n",
       "  <tbody>\n",
       "    <tr>\n",
       "      <th>2017-07-31</th>\n",
       "      <td>-0.031626</td>\n",
       "      <td>-0.004655</td>\n",
       "    </tr>\n",
       "    <tr>\n",
       "      <th>2017-08-01</th>\n",
       "      <td>0.008514</td>\n",
       "      <td>-0.001651</td>\n",
       "    </tr>\n",
       "    <tr>\n",
       "      <th>2017-08-02</th>\n",
       "      <td>-0.000301</td>\n",
       "      <td>-0.004409</td>\n",
       "    </tr>\n",
       "    <tr>\n",
       "      <th>2017-08-03</th>\n",
       "      <td>0.000000</td>\n",
       "      <td>-0.001522</td>\n",
       "    </tr>\n",
       "    <tr>\n",
       "      <th>2017-08-04</th>\n",
       "      <td>0.000000</td>\n",
       "      <td>0.007346</td>\n",
       "    </tr>\n",
       "  </tbody>\n",
       "</table>\n",
       "</div>"
      ],
      "text/plain": [
       "                amzn      msft\n",
       "Date                          \n",
       "2017-07-31 -0.031626 -0.004655\n",
       "2017-08-01  0.008514 -0.001651\n",
       "2017-08-02 -0.000301 -0.004409\n",
       "2017-08-03  0.000000 -0.001522\n",
       "2017-08-04  0.000000  0.007346"
      ]
     },
     "execution_count": 22,
     "metadata": {},
     "output_type": "execute_result"
    }
   ],
   "source": [
    "# Get percent change\n",
    "amzn_msft_returns = amzn_msft.pct_change()\n",
    "amzn_msft_returns.tail()"
   ]
  },
  {
   "cell_type": "code",
   "execution_count": 23,
   "metadata": {},
   "outputs": [
    {
     "data": {
      "text/html": [
       "<div>\n",
       "<style scoped>\n",
       "    .dataframe tbody tr th:only-of-type {\n",
       "        vertical-align: middle;\n",
       "    }\n",
       "\n",
       "    .dataframe tbody tr th {\n",
       "        vertical-align: top;\n",
       "    }\n",
       "\n",
       "    .dataframe thead th {\n",
       "        text-align: right;\n",
       "    }\n",
       "</style>\n",
       "<table border=\"1\" class=\"dataframe\">\n",
       "  <thead>\n",
       "    <tr style=\"text-align: right;\">\n",
       "      <th></th>\n",
       "      <th>amzn</th>\n",
       "      <th>msft</th>\n",
       "      <th>amzn_pc</th>\n",
       "      <th>msft_pc</th>\n",
       "    </tr>\n",
       "    <tr>\n",
       "      <th>Date</th>\n",
       "      <th></th>\n",
       "      <th></th>\n",
       "      <th></th>\n",
       "      <th></th>\n",
       "    </tr>\n",
       "  </thead>\n",
       "  <tbody>\n",
       "    <tr>\n",
       "      <th>2017-07-31</th>\n",
       "      <td>987.780029</td>\n",
       "      <td>72.699997</td>\n",
       "      <td>-0.031626</td>\n",
       "      <td>-0.004655</td>\n",
       "    </tr>\n",
       "    <tr>\n",
       "      <th>2017-08-01</th>\n",
       "      <td>996.190002</td>\n",
       "      <td>72.580002</td>\n",
       "      <td>0.008514</td>\n",
       "      <td>-0.001651</td>\n",
       "    </tr>\n",
       "    <tr>\n",
       "      <th>2017-08-02</th>\n",
       "      <td>995.890015</td>\n",
       "      <td>72.260002</td>\n",
       "      <td>-0.000301</td>\n",
       "      <td>-0.004409</td>\n",
       "    </tr>\n",
       "    <tr>\n",
       "      <th>2017-08-03</th>\n",
       "      <td>NaN</td>\n",
       "      <td>72.150002</td>\n",
       "      <td>0.000000</td>\n",
       "      <td>-0.001522</td>\n",
       "    </tr>\n",
       "    <tr>\n",
       "      <th>2017-08-04</th>\n",
       "      <td>NaN</td>\n",
       "      <td>72.680000</td>\n",
       "      <td>0.000000</td>\n",
       "      <td>0.007346</td>\n",
       "    </tr>\n",
       "  </tbody>\n",
       "</table>\n",
       "</div>"
      ],
      "text/plain": [
       "                  amzn       msft   amzn_pc   msft_pc\n",
       "Date                                                 \n",
       "2017-07-31  987.780029  72.699997 -0.031626 -0.004655\n",
       "2017-08-01  996.190002  72.580002  0.008514 -0.001651\n",
       "2017-08-02  995.890015  72.260002 -0.000301 -0.004409\n",
       "2017-08-03         NaN  72.150002  0.000000 -0.001522\n",
       "2017-08-04         NaN  72.680000  0.000000  0.007346"
      ]
     },
     "execution_count": 23,
     "metadata": {},
     "output_type": "execute_result"
    }
   ],
   "source": [
    "# Broadcast percent change\n",
    "amzn_msft['amzn_pc'] = amzn_msft['amzn'].pct_change()\n",
    "amzn_msft['msft_pc'] = amzn_msft['msft'].pct_change()\n",
    "amzn_msft.tail()"
   ]
  },
  {
   "cell_type": "markdown",
   "metadata": {},
   "source": [
    "## 1-03 Correlation of stocks and bonds\n",
    "\n",
    "Investors are often interested in the correlation between the returns of two different assets for asset allocation and hedging purposes. In this exercise, you'll try to answer the question of whether stocks are positively or negatively correlated with bonds. Scatter plots are also useful for visualizing the correlation between the two variables.\n",
    "\n",
    "Keep in mind that you should compute the correlations on the percentage changes rather than the levels."
   ]
  },
  {
   "cell_type": "code",
   "execution_count": 24,
   "metadata": {},
   "outputs": [
    {
     "data": {
      "text/plain": [
       "0.37785661363601447"
      ]
     },
     "execution_count": 24,
     "metadata": {},
     "output_type": "execute_result"
    }
   ],
   "source": [
    "# Get correlation\n",
    "amzn_msft['amzn_pc'].corr(amzn_msft['msft_pc'])"
   ]
  },
  {
   "cell_type": "code",
   "execution_count": 25,
   "metadata": {},
   "outputs": [
    {
     "data": {
      "image/png": "[encoded data removed]",
      "text/plain": [
       "<Figure size 432x288 with 1 Axes>"
      ]
     },
     "metadata": {},
     "output_type": "display_data"
    }
   ],
   "source": [
    "plt.scatter(amzn_msft['amzn_pc'], amzn_msft['msft_pc'])\n",
    "plt.show()"
   ]
  },
  {
   "cell_type": "markdown",
   "metadata": {},
   "source": [
    "Two trending series may show a strong correlation even if they are completely unrelated. This is referred to as \"spurious correlation\". That's why when you look at the correlation of say, two stocks, you should look at the correlation of their returns and not their levels."
   ]
  },
  {
   "cell_type": "markdown",
   "metadata": {},
   "source": [
    "## Regression"
   ]
  },
  {
   "cell_type": "code",
   "execution_count": 26,
   "metadata": {},
   "outputs": [],
   "source": [
    "import statsmodels.api as sm"
   ]
  },
  {
   "cell_type": "code",
   "execution_count": 27,
   "metadata": {},
   "outputs": [
    {
     "data": {
      "text/html": [
       "<div>\n",
       "<style scoped>\n",
       "    .dataframe tbody tr th:only-of-type {\n",
       "        vertical-align: middle;\n",
       "    }\n",
       "\n",
       "    .dataframe tbody tr th {\n",
       "        vertical-align: top;\n",
       "    }\n",
       "\n",
       "    .dataframe thead th {\n",
       "        text-align: right;\n",
       "    }\n",
       "</style>\n",
       "<table border=\"1\" class=\"dataframe\">\n",
       "  <thead>\n",
       "    <tr style=\"text-align: right;\">\n",
       "      <th></th>\n",
       "      <th>const</th>\n",
       "      <th>amzn</th>\n",
       "      <th>msft</th>\n",
       "      <th>amzn_pc</th>\n",
       "      <th>msft_pc</th>\n",
       "    </tr>\n",
       "    <tr>\n",
       "      <th>Date</th>\n",
       "      <th></th>\n",
       "      <th></th>\n",
       "      <th></th>\n",
       "      <th></th>\n",
       "      <th></th>\n",
       "    </tr>\n",
       "  </thead>\n",
       "  <tbody>\n",
       "    <tr>\n",
       "      <th>2017-07-31</th>\n",
       "      <td>1.0</td>\n",
       "      <td>987.780029</td>\n",
       "      <td>72.699997</td>\n",
       "      <td>-0.031626</td>\n",
       "      <td>-0.004655</td>\n",
       "    </tr>\n",
       "    <tr>\n",
       "      <th>2017-08-01</th>\n",
       "      <td>1.0</td>\n",
       "      <td>996.190002</td>\n",
       "      <td>72.580002</td>\n",
       "      <td>0.008514</td>\n",
       "      <td>-0.001651</td>\n",
       "    </tr>\n",
       "    <tr>\n",
       "      <th>2017-08-02</th>\n",
       "      <td>1.0</td>\n",
       "      <td>995.890015</td>\n",
       "      <td>72.260002</td>\n",
       "      <td>-0.000301</td>\n",
       "      <td>-0.004409</td>\n",
       "    </tr>\n",
       "    <tr>\n",
       "      <th>2017-08-03</th>\n",
       "      <td>1.0</td>\n",
       "      <td>NaN</td>\n",
       "      <td>72.150002</td>\n",
       "      <td>0.000000</td>\n",
       "      <td>-0.001522</td>\n",
       "    </tr>\n",
       "    <tr>\n",
       "      <th>2017-08-04</th>\n",
       "      <td>1.0</td>\n",
       "      <td>NaN</td>\n",
       "      <td>72.680000</td>\n",
       "      <td>0.000000</td>\n",
       "      <td>0.007346</td>\n",
       "    </tr>\n",
       "  </tbody>\n",
       "</table>\n",
       "</div>"
      ],
      "text/plain": [
       "            const        amzn       msft   amzn_pc   msft_pc\n",
       "Date                                                        \n",
       "2017-07-31    1.0  987.780029  72.699997 -0.031626 -0.004655\n",
       "2017-08-01    1.0  996.190002  72.580002  0.008514 -0.001651\n",
       "2017-08-02    1.0  995.890015  72.260002 -0.000301 -0.004409\n",
       "2017-08-03    1.0         NaN  72.150002  0.000000 -0.001522\n",
       "2017-08-04    1.0         NaN  72.680000  0.000000  0.007346"
      ]
     },
     "execution_count": 27,
     "metadata": {},
     "output_type": "execute_result"
    }
   ],
   "source": [
    "amzn_msft = sm.add_constant(amzn_msft)\n",
    "amzn_msft.tail()"
   ]
  },
  {
   "cell_type": "code",
   "execution_count": 28,
   "metadata": {},
   "outputs": [
    {
     "name": "stdout",
     "output_type": "stream",
     "text": [
      "<class 'pandas.core.frame.DataFrame'>\n",
      "DatetimeIndex: 1255 entries, 2012-08-07 to 2017-08-02\n",
      "Data columns (total 5 columns):\n",
      "const      1255 non-null float64\n",
      "amzn       1255 non-null float64\n",
      "msft       1255 non-null float64\n",
      "amzn_pc    1255 non-null float64\n",
      "msft_pc    1255 non-null float64\n",
      "dtypes: float64(5)\n",
      "memory usage: 58.8 KB\n"
     ]
    }
   ],
   "source": [
    "amzn_msft = amzn_msft.dropna()\n",
    "amzn_msft.info()"
   ]
  },
  {
   "cell_type": "code",
   "execution_count": 29,
   "metadata": {},
   "outputs": [
    {
     "data": {
      "text/html": [
       "<div>\n",
       "<style scoped>\n",
       "    .dataframe tbody tr th:only-of-type {\n",
       "        vertical-align: middle;\n",
       "    }\n",
       "\n",
       "    .dataframe tbody tr th {\n",
       "        vertical-align: top;\n",
       "    }\n",
       "\n",
       "    .dataframe thead th {\n",
       "        text-align: right;\n",
       "    }\n",
       "</style>\n",
       "<table border=\"1\" class=\"dataframe\">\n",
       "  <thead>\n",
       "    <tr style=\"text-align: right;\">\n",
       "      <th></th>\n",
       "      <th>const</th>\n",
       "      <th>amzn</th>\n",
       "      <th>msft</th>\n",
       "      <th>amzn_pc</th>\n",
       "      <th>msft_pc</th>\n",
       "    </tr>\n",
       "    <tr>\n",
       "      <th>Date</th>\n",
       "      <th></th>\n",
       "      <th></th>\n",
       "      <th></th>\n",
       "      <th></th>\n",
       "      <th></th>\n",
       "    </tr>\n",
       "  </thead>\n",
       "  <tbody>\n",
       "    <tr>\n",
       "      <th>2012-08-07</th>\n",
       "      <td>1.0</td>\n",
       "      <td>236.559998</td>\n",
       "      <td>26.377876</td>\n",
       "      <td>0.010983</td>\n",
       "      <td>0.010350</td>\n",
       "    </tr>\n",
       "    <tr>\n",
       "      <th>2012-08-08</th>\n",
       "      <td>1.0</td>\n",
       "      <td>234.380005</td>\n",
       "      <td>26.438896</td>\n",
       "      <td>-0.009215</td>\n",
       "      <td>0.002313</td>\n",
       "    </tr>\n",
       "    <tr>\n",
       "      <th>2012-08-09</th>\n",
       "      <td>1.0</td>\n",
       "      <td>234.059998</td>\n",
       "      <td>26.587088</td>\n",
       "      <td>-0.001365</td>\n",
       "      <td>0.005605</td>\n",
       "    </tr>\n",
       "    <tr>\n",
       "      <th>2012-08-10</th>\n",
       "      <td>1.0</td>\n",
       "      <td>232.750000</td>\n",
       "      <td>26.517351</td>\n",
       "      <td>-0.005597</td>\n",
       "      <td>-0.002623</td>\n",
       "    </tr>\n",
       "    <tr>\n",
       "      <th>2012-08-13</th>\n",
       "      <td>1.0</td>\n",
       "      <td>232.440002</td>\n",
       "      <td>26.491201</td>\n",
       "      <td>-0.001332</td>\n",
       "      <td>-0.000986</td>\n",
       "    </tr>\n",
       "  </tbody>\n",
       "</table>\n",
       "</div>"
      ],
      "text/plain": [
       "            const        amzn       msft   amzn_pc   msft_pc\n",
       "Date                                                        \n",
       "2012-08-07    1.0  236.559998  26.377876  0.010983  0.010350\n",
       "2012-08-08    1.0  234.380005  26.438896 -0.009215  0.002313\n",
       "2012-08-09    1.0  234.059998  26.587088 -0.001365  0.005605\n",
       "2012-08-10    1.0  232.750000  26.517351 -0.005597 -0.002623\n",
       "2012-08-13    1.0  232.440002  26.491201 -0.001332 -0.000986"
      ]
     },
     "execution_count": 29,
     "metadata": {},
     "output_type": "execute_result"
    }
   ],
   "source": [
    "amzn_msft.head()"
   ]
  },
  {
   "cell_type": "markdown",
   "metadata": {},
   "source": [
    "R-squared measures how closely the data fit the regression line, so the R-squared in a simple regression is related to the correlation between the two variables. In particular, the magnitude of the correlation is the square root of the R-squared and the sign of the correlation is the sign of the regression coefficient."
   ]
  },
  {
   "cell_type": "code",
   "execution_count": 30,
   "metadata": {},
   "outputs": [
    {
     "name": "stdout",
     "output_type": "stream",
     "text": [
      "                            OLS Regression Results                            \n",
      "==============================================================================\n",
      "Dep. Variable:                msft_pc   R-squared:                       0.143\n",
      "Model:                            OLS   Adj. R-squared:                  0.142\n",
      "Method:                 Least Squares   F-statistic:                     208.8\n",
      "Date:                Sun, 02 Sep 2018   Prob (F-statistic):           6.99e-44\n",
      "Time:                        17:50:26   Log-Likelihood:                 3656.5\n",
      "No. Observations:                1255   AIC:                            -7309.\n",
      "Df Residuals:                    1253   BIC:                            -7299.\n",
      "Df Model:                           1                                         \n",
      "Covariance Type:            nonrobust                                         \n",
      "==============================================================================\n",
      "                 coef    std err          t      P>|t|      [0.025      0.975]\n",
      "------------------------------------------------------------------------------\n",
      "const          0.0005      0.000      1.410      0.159      -0.000       0.001\n",
      "amzn_pc        0.2933      0.020     14.449      0.000       0.253       0.333\n",
      "==============================================================================\n",
      "Omnibus:                      271.784   Durbin-Watson:                   2.003\n",
      "Prob(Omnibus):                  0.000   Jarque-Bera (JB):             7144.880\n",
      "Skew:                          -0.322   Prob(JB):                         0.00\n",
      "Kurtosis:                      14.671   Cond. No.                         54.7\n",
      "==============================================================================\n",
      "\n",
      "Warnings:\n",
      "[1] Standard Errors assume that the covariance matrix of the errors is correctly specified.\n"
     ]
    }
   ],
   "source": [
    "results = sm.OLS(amzn_msft['msft_pc'], amzn_msft[['const','amzn_pc']]).fit()\n",
    "print(results.summary())"
   ]
  },
  {
   "cell_type": "markdown",
   "metadata": {},
   "source": [
    "## 1-06 Autocorrelation\n",
    "\n",
    "One puzzling anomaly with stocks is that investors tend to overreact to news. Following large jumps, either up or down, stock prices tend to reverse. This is described as mean reversion in stock prices: prices tend to bounce back, or revert, towards previous levels after large moves, which are observed over time horizons of about a week. A more mathematical way to describe mean reversion is to say that stock returns are negatively autocorrelated.\n",
    "\n",
    "This simple idea is actually the basis for a popular hedge fund strategy. If you're curious to learn more about this hedge fund strategy (although it's not necessary reading for anything else later in the course), see here.\n",
    "\n",
    "You'll look at the autocorrelation of weekly returns of MSFT stock from 2012 to 2017. You'll start with a DataFrame MSFT of daily prices. You should use the .resample() method to get weekly prices and then compute returns from prices. Use the pandas method .autocorr() to get the autocorrelation and show that the autocorrelation is negative. Note that the .autocorr() method only works on Series, not DataFrames (even DataFrames with one column), so you will have to select the column in the DataFrame."
   ]
  },
  {
   "cell_type": "code",
   "execution_count": 31,
   "metadata": {},
   "outputs": [
    {
     "name": "stdout",
     "output_type": "stream",
     "text": [
      "The autocorrelation of daily interest rate changes is 0.02\n"
     ]
    }
   ],
   "source": [
    "# ACF of daily change in msft price\n",
    "msft_daily = msft.copy()\n",
    "msft_daily['change_rate'] = msft.pct_change()\n",
    "print('The autocorrelation of daily interest rate changes is %4.2f' %(msft_daily['change_rate'].autocorr()))"
   ]
  },
  {
   "cell_type": "code",
   "execution_count": 32,
   "metadata": {
    "scrolled": true
   },
   "outputs": [
    {
     "name": "stdout",
     "output_type": "stream",
     "text": [
      "The autocorrelation of annual price changes is 0.85\n"
     ]
    }
   ],
   "source": [
    "msft_annual = msft.copy().resample(rule='A').last()\n",
    "msft_annual['change_rate'] = msft_annual.pct_change()\n",
    "print('The autocorrelation of annual price changes is %4.2f' %(msft_annual['change_rate'].autocorr()))"
   ]
  },
  {
   "cell_type": "code",
   "execution_count": 33,
   "metadata": {
    "scrolled": true
   },
   "outputs": [
    {
     "name": "stdout",
     "output_type": "stream",
     "text": [
      "The autocorrelation of weekly msft returns is -0.16\n"
     ]
    }
   ],
   "source": [
    "msft_week = msft.copy().resample(rule='w').last()\n",
    "msft_returns = msft_week.pct_change()\n",
    "print(\"The autocorrelation of weekly msft returns is %4.2f\" %(msft_returns['Adj Close'].autocorr()))"
   ]
  },
  {
   "cell_type": "markdown",
   "metadata": {},
   "source": [
    "## 1-07 Are Interest Rates Autocorrelated?\n",
    "\n",
    "When you look at daily changes in interest rates, the autocorrelation is close to zero. However, if you resample the data and look at annual changes, the autocorrelation is negative. This implies that while short term changes in interest rates may be uncorrelated, long term changes in interest rates are negatively autocorrelated. A daily move up or down in interest rates is unlikely to tell you anything about interest rates tomorrow, but a move in interest rates over a year can tell you something about where interest rates are going over the next year. And this makes some economic sense: over long horizons, when interest rates go up, the economy tends to slow down, which consequently causes interest rates to fall, and vice versa."
   ]
  },
  {
   "cell_type": "code",
   "execution_count": 34,
   "metadata": {},
   "outputs": [],
   "source": [
    "# # Compute the daily change in ingterest rates\n",
    "# daily_data['change_rates'] = daily_data.diff()\n",
    "\n",
    "# # Compute and print the autocorrelation of daily changes\n",
    "# autocorrelation_daily = daily_data['change_rates'].autocorr()\n",
    "# print(\"The autocorrelation of daily interest rate changes is %4.2f\" %(autocorrelation_daily))\n",
    "\n",
    "# # Convert the daily data to annual data\n",
    "# annual_data = daily_data['US10Y'].resample(rule='A', how='last')\n",
    "\n",
    "# # Repeat above for annual data\n",
    "# annual_data['diff_rates'] = annual_data.diff()\n",
    "# autocorrelation_annual = annual_data['diff_rates'].autocorr()\n",
    "# print(\"The autocorrelation of annual interest rate changes is %4.2f\" %(autocorrelation_annual))"
   ]
  },
  {
   "cell_type": "markdown",
   "metadata": {
    "collapsed": true
   },
   "source": [
    "# 2 Autocorrelation function (ACF)"
   ]
  },
  {
   "cell_type": "code",
   "execution_count": 35,
   "metadata": {},
   "outputs": [],
   "source": [
    "from statsmodels.graphics.tsaplots import plot_acf"
   ]
  },
  {
   "cell_type": "code",
   "execution_count": 36,
   "metadata": {},
   "outputs": [
    {
     "data": {
      "image/png": "[encoded data removed]",
      "text/plain": [
       "<Figure size 432x288 with 1 Axes>"
      ]
     },
     "metadata": {},
     "output_type": "display_data"
    }
   ],
   "source": [
    "plot_acf(amzn, lags=20, alpha=0.05)\n",
    "plt.show()"
   ]
  },
  {
   "cell_type": "code",
   "execution_count": 37,
   "metadata": {},
   "outputs": [],
   "source": [
    "from statsmodels.tsa.stattools import acf"
   ]
  },
  {
   "cell_type": "code",
   "execution_count": 38,
   "metadata": {},
   "outputs": [
    {
     "name": "stdout",
     "output_type": "stream",
     "text": [
      "[1.         0.99832485 0.99664308 0.9949939  0.99325458 0.99143868\n",
      " 0.98959781 0.98780755 0.98602265 0.98428051 0.98251203 0.98075127\n",
      " 0.97898956 0.97729077 0.97561777 0.97395206 0.97227474 0.97062829\n",
      " 0.9689624  0.96734192 0.96575617 0.96413962 0.96259378 0.96100578\n",
      " 0.95936772 0.95766635 0.95599855 0.95428846 0.95254723 0.95081599\n",
      " 0.94911487 0.94745289 0.94579533 0.94415015 0.9425648  0.94092076\n",
      " 0.93924806 0.93762196 0.93596238 0.93420978 0.9324679 ]\n"
     ]
    }
   ],
   "source": [
    "print(acf(amzn))"
   ]
  },
  {
   "cell_type": "markdown",
   "metadata": {},
   "source": [
    "## 2-01\n",
    "\n",
    "You will compute the array of autocorrelations for the H&R Block quarterly earnings that is pre-loaded in the DataFrame HRB. Then, plot the autocorrelation function using the plot_acf module. This plot shows what the autocorrelation function looks like for cyclical earnings data. The ACF at lag=0 is always one, of course. In the next exercise, you will learn about the confidence interval for the ACF, but for now, supress the confidence interval by setting alpha=1."
   ]
  },
  {
   "cell_type": "code",
   "execution_count": 39,
   "metadata": {},
   "outputs": [
    {
     "name": "stdout",
     "output_type": "stream",
     "text": [
      "[ 1.         -0.22122696 -0.39856504 -0.26615093  0.83479804 -0.1901038\n",
      " -0.3475634  -0.23140368  0.71995993 -0.15661007 -0.29766783 -0.22097189\n",
      "  0.61656933 -0.15022869 -0.27922022 -0.22465946  0.5725259  -0.08758288\n",
      " -0.24075584 -0.20363054  0.4797058  -0.06091139 -0.20935484 -0.18303202\n",
      "  0.42481275 -0.03352559 -0.17471087 -0.16384328  0.34341079 -0.01734364\n",
      " -0.13820811 -0.12232172  0.28407164 -0.01927656 -0.11757974 -0.10386933\n",
      "  0.20156485 -0.0120634  -0.07509539 -0.0707104   0.10222029]\n"
     ]
    }
   ],
   "source": [
    "# Compute the acf array of HRB\n",
    "hrb_array = acf(hrb)\n",
    "print(hrb_array)"
   ]
  },
  {
   "cell_type": "code",
   "execution_count": 40,
   "metadata": {
    "scrolled": true
   },
   "outputs": [
    {
     "data": {
      "image/png": "[encoded data removed]",
      "text/plain": [
       "<Figure size 432x288 with 1 Axes>"
      ]
     },
     "metadata": {},
     "output_type": "display_data"
    }
   ],
   "source": [
    "# Plot the acf function\n",
    "# alpha=1 supress the CI\n",
    "plot_acf(hrb, alpha=1)\n",
    "plt.show()"
   ]
  },
  {
   "cell_type": "markdown",
   "metadata": {},
   "source": [
    "## 2-02 Stock is Mean Reverting?\n",
    "\n",
    "You saw that the autocorelation of MSFT's weekly stock returns was -0.16. That autocorrelation seems large, but is it statistically significant? In other words, can you say that there is less than a 5% chance that we would observe such a large negative autocorrelation if the true autocorrelation were really zero? And are there any autocorrelations at other lags that are significantly different from zero?\n",
    "\n",
    "Even if the true autocorrelations were zero at all lags, in a finite sample of returns you won't see the estimate of the autocorrelations exactly zero.\n",
    "\n",
    "For example, the standard deviation of the ACF is 0.1, and since 95% of a normal curve is between +1.96 and -1.96 standard deviations from the mean, the 95% confidence interval is\n",
    "$\\pm\\frac{1.96}{\\sqrt{N}}$\n",
    "\n",
    "\n",
    "This approximation only holds when the true autocorrelations are all zero.\n",
    "\n",
    "You will compute the actual and approximate confidence interval for the ACF, and compare it to the lag-one autocorrelation of -0.16 from the last chapter."
   ]
  },
  {
   "cell_type": "code",
   "execution_count": 41,
   "metadata": {},
   "outputs": [
    {
     "name": "stdout",
     "output_type": "stream",
     "text": [
      "The autocorrelation of weekly MSFT returns is -0.16\n"
     ]
    }
   ],
   "source": [
    "# Compute and print the autocorrelation of MSFT weekly returns\n",
    "msft_autocorrelation = msft_returns['Adj Close'].autocorr()\n",
    "print(\"The autocorrelation of weekly MSFT returns is %4.2f\" %(msft_autocorrelation))"
   ]
  },
  {
   "cell_type": "code",
   "execution_count": 42,
   "metadata": {},
   "outputs": [
    {
     "data": {
      "text/plain": [
       "261"
      ]
     },
     "execution_count": 42,
     "metadata": {},
     "output_type": "execute_result"
    }
   ],
   "source": [
    "# Find the number of observations\n",
    "msft_nobs = len(msft_returns)\n",
    "msft_nobs"
   ]
  },
  {
   "cell_type": "code",
   "execution_count": 43,
   "metadata": {},
   "outputs": [
    {
     "name": "stdout",
     "output_type": "stream",
     "text": [
      "The approximate confidence interval is +/- 0.12\n"
     ]
    }
   ],
   "source": [
    "# Compute the approximate confidence interval\n",
    "msft_conf = 1.96/(msft_nobs**0.5)\n",
    "print(\"The approximate confidence interval is +/- %4.2f\" %(msft_conf))"
   ]
  },
  {
   "cell_type": "code",
   "execution_count": 44,
   "metadata": {},
   "outputs": [
    {
     "data": {
      "image/png": "[encoded data removed]",
      "text/plain": [
       "<Figure size 432x288 with 1 Axes>"
      ]
     },
     "metadata": {},
     "output_type": "display_data"
    }
   ],
   "source": [
    "# Plot the autocorrelation function with 95% confidence intervals and 20 lags using plot_acf\n",
    "plot_acf(msft_returns, alpha=0.05, lags=20)\n",
    "plt.show()"
   ]
  },
  {
   "cell_type": "markdown",
   "metadata": {},
   "source": [
    "## 2-03 White noise\n",
    "A white noise time series is simply a sequence of uncorrelated random variables that are identically distributed. Stock returns are often modelled as white noise. Unfortunately, for white noise, we cannot forecast future observations based on the past - autocorrelations at all lags are zero"
   ]
  },
  {
   "cell_type": "code",
   "execution_count": 45,
   "metadata": {},
   "outputs": [],
   "source": [
    "import numpy as np"
   ]
  },
  {
   "cell_type": "code",
   "execution_count": 46,
   "metadata": {},
   "outputs": [
    {
     "data": {
      "text/plain": [
       "array([ 0.00306997,  0.01251845,  0.08237104, -0.00241604, -0.00472262])"
      ]
     },
     "execution_count": 46,
     "metadata": {},
     "output_type": "execute_result"
    }
   ],
   "source": [
    "# Simulate wite noise returns\n",
    "wn_returns = np.random.normal(loc=0.02, scale=0.05, size=1000)\n",
    "wn_returns[:5]"
   ]
  },
  {
   "cell_type": "code",
   "execution_count": 47,
   "metadata": {},
   "outputs": [
    {
     "name": "stdout",
     "output_type": "stream",
     "text": [
      "The mean is 0.023 and the standard deviation is 0.051\n"
     ]
    }
   ],
   "source": [
    "# Print out the mean and standard deviation of wn_returns\n",
    "mean = np.mean(wn_returns)\n",
    "std = np.std(wn_returns)\n",
    "print(\"The mean is %5.3f and the standard deviation is %5.3f\" %(mean,std))"
   ]
  },
  {
   "cell_type": "code",
   "execution_count": 48,
   "metadata": {},
   "outputs": [
    {
     "data": {
      "image/png": "[encoded data removed]",
      "text/plain": [
       "<Figure size 432x288 with 1 Axes>"
      ]
     },
     "metadata": {},
     "output_type": "display_data"
    }
   ],
   "source": [
    "# Plot returns series\n",
    "plt.plot(wn_returns)\n",
    "plt.show()"
   ]
  },
  {
   "cell_type": "code",
   "execution_count": 49,
   "metadata": {},
   "outputs": [
    {
     "data": {
      "image/png": "[encoded data removed]",
      "text/plain": [
       "<Figure size 432x288 with 1 Axes>"
      ]
     },
     "metadata": {},
     "output_type": "display_data"
    }
   ],
   "source": [
    "# Plot autocorrelation function of white noise returns\n",
    "plot_acf(wn_returns, lags=20)\n",
    "plt.show()"
   ]
  },
  {
   "cell_type": "code",
   "execution_count": 50,
   "metadata": {},
   "outputs": [
    {
     "data": {
      "image/png": "[encoded data removed]",
      "text/plain": [
       "<Figure size 432x288 with 1 Axes>"
      ]
     },
     "metadata": {},
     "output_type": "display_data"
    }
   ],
   "source": [
    "# Sample white noise\n",
    "noise = np.random.normal(loc=0, scale=1, size=500)\n",
    "plt.plot(noise)\n",
    "plt.show()"
   ]
  },
  {
   "cell_type": "code",
   "execution_count": 51,
   "metadata": {},
   "outputs": [
    {
     "data": {
      "image/png": "[encoded data removed]",
      "text/plain": [
       "<Figure size 432x288 with 1 Axes>"
      ]
     },
     "metadata": {},
     "output_type": "display_data"
    }
   ],
   "source": [
    "plot_acf(noise, lags=50)\n",
    "plt.show()"
   ]
  },
  {
   "cell_type": "markdown",
   "metadata": {},
   "source": [
    "## 2-04 Random Walk\n",
    "\n",
    "Whereas stock returns are often modelled as white noise, stock prices closely follow a random walk. In other words, today's price is yesterday's price plus some random noise."
   ]
  },
  {
   "cell_type": "code",
   "execution_count": 52,
   "metadata": {},
   "outputs": [],
   "source": [
    "# Generate 500 random steps with mean=0 and standard deviation=1\n",
    "steps = np.random.normal(loc=0, scale=1, size=500)"
   ]
  },
  {
   "cell_type": "code",
   "execution_count": 53,
   "metadata": {},
   "outputs": [],
   "source": [
    "# Set first element to 0 so that the first price will be the starting stock price\n",
    "steps[0]=0\n",
    "\n",
    "# Simulate stock prices, P with a starting price of 100, noise additive\n",
    "P = 100 + np.cumsum(steps)"
   ]
  },
  {
   "cell_type": "code",
   "execution_count": 54,
   "metadata": {},
   "outputs": [
    {
     "data": {
      "image/png": "[encoded data removed]",
      "text/plain": [
       "<Figure size 432x288 with 1 Axes>"
      ]
     },
     "metadata": {},
     "output_type": "display_data"
    }
   ],
   "source": [
    "# Plot the simulated stock prices\n",
    "plt.plot(P)\n",
    "plt.title(\"Simulated Random Walk\")\n",
    "plt.show()"
   ]
  },
  {
   "cell_type": "markdown",
   "metadata": {},
   "source": [
    "## 2-05 Random walk with drift\n",
    "\n",
    "You will look at a random walk with a drift. Many time series, like stock prices, are random walks but tend to drift up over time. You will make the noise multiplicative: you will add one to the random, normal changes to get a total return, and multiply that by the last price."
   ]
  },
  {
   "cell_type": "code",
   "execution_count": 55,
   "metadata": {},
   "outputs": [],
   "source": [
    "# Generate 500 random steps\n",
    "steps = np.random.normal(loc=0.001, scale=0.01, size=500) + 1"
   ]
  },
  {
   "cell_type": "code",
   "execution_count": 56,
   "metadata": {},
   "outputs": [],
   "source": [
    "# Set first element to 1\n",
    "steps[0]=1\n",
    "\n",
    "# Simulate the stock price, P, by taking the cumulative product\n",
    "P = 100 * np.cumprod(steps)"
   ]
  },
  {
   "cell_type": "code",
   "execution_count": 57,
   "metadata": {},
   "outputs": [
    {
     "data": {
      "image/png": "[encoded data removed]",
      "text/plain": [
       "<Figure size 432x288 with 1 Axes>"
      ]
     },
     "metadata": {},
     "output_type": "display_data"
    }
   ],
   "source": [
    "# Plot the simulated stock prices\n",
    "plt.plot(P)\n",
    "plt.title(\"Simulated Random Walk with Drift\")\n",
    "plt.show()"
   ]
  },
  {
   "cell_type": "markdown",
   "metadata": {},
   "source": [
    "## 2-06 Augmented Dickey-Fuller (ADF) test\n",
    "\n",
    "Most stock prices follow a random walk (perhaps with a drift). You will look at a time series of Amazon stock prices, pre-loaded in the DataFrame AMZN, and run the 'Augmented Dickey-Fuller Test' from the statsmodels library to show that it does indeed follow a random walk.\n",
    "\n",
    "With the ADF test, the \"null hypothesis\" (the hypothesis that we either reject or fail to reject) is that the series follows a random walk. Therefore, a low p-value (say less than 5%) means we can reject the null hypothesis that the series is a random walk."
   ]
  },
  {
   "cell_type": "code",
   "execution_count": 58,
   "metadata": {},
   "outputs": [],
   "source": [
    "from statsmodels.tsa.stattools import adfuller"
   ]
  },
  {
   "cell_type": "code",
   "execution_count": 59,
   "metadata": {
    "scrolled": true
   },
   "outputs": [
    {
     "name": "stdout",
     "output_type": "stream",
     "text": [
      "(4.025168525770742, 1.0, 33, 5054, {'1%': -3.4316445438146865, '5%': -2.862112049726916, '10%': -2.5670745025321304}, 30308.64216426981)\n"
     ]
    }
   ],
   "source": [
    "# Run the ADF test on the price series and print out the results\n",
    "results = adfuller(amzn['Adj Close'])\n",
    "print(results)"
   ]
  },
  {
   "cell_type": "code",
   "execution_count": 60,
   "metadata": {},
   "outputs": [
    {
     "name": "stdout",
     "output_type": "stream",
     "text": [
      "The p-value of the test on prices is: 1.0\n"
     ]
    }
   ],
   "source": [
    "# Just print out the p-value\n",
    "print('The p-value of the test on prices is: ' + str(results[1]))"
   ]
  },
  {
   "cell_type": "markdown",
   "metadata": {},
   "source": [
    "## 2-07\n",
    "\n",
    "You showed that Amazon stock prices, contained in the DataFrame AMZN follow a random walk. In this exercise. you will do the same thing for Amazon returns (percent change in prices) and show that the returns do not follow a random walk."
   ]
  },
  {
   "cell_type": "code",
   "execution_count": 61,
   "metadata": {},
   "outputs": [
    {
     "data": {
      "text/html": [
       "<div>\n",
       "<style scoped>\n",
       "    .dataframe tbody tr th:only-of-type {\n",
       "        vertical-align: middle;\n",
       "    }\n",
       "\n",
       "    .dataframe tbody tr th {\n",
       "        vertical-align: top;\n",
       "    }\n",
       "\n",
       "    .dataframe thead th {\n",
       "        text-align: right;\n",
       "    }\n",
       "</style>\n",
       "<table border=\"1\" class=\"dataframe\">\n",
       "  <thead>\n",
       "    <tr style=\"text-align: right;\">\n",
       "      <th></th>\n",
       "      <th>Adj Close</th>\n",
       "    </tr>\n",
       "    <tr>\n",
       "      <th>Date</th>\n",
       "      <th></th>\n",
       "    </tr>\n",
       "  </thead>\n",
       "  <tbody>\n",
       "    <tr>\n",
       "      <th>1997-05-16</th>\n",
       "      <td>-0.117021</td>\n",
       "    </tr>\n",
       "    <tr>\n",
       "      <th>1997-05-19</th>\n",
       "      <td>-0.012049</td>\n",
       "    </tr>\n",
       "    <tr>\n",
       "      <th>1997-05-20</th>\n",
       "      <td>-0.042683</td>\n",
       "    </tr>\n",
       "    <tr>\n",
       "      <th>1997-05-21</th>\n",
       "      <td>-0.127389</td>\n",
       "    </tr>\n",
       "    <tr>\n",
       "      <th>1997-05-22</th>\n",
       "      <td>-0.021898</td>\n",
       "    </tr>\n",
       "  </tbody>\n",
       "</table>\n",
       "</div>"
      ],
      "text/plain": [
       "            Adj Close\n",
       "Date                 \n",
       "1997-05-16  -0.117021\n",
       "1997-05-19  -0.012049\n",
       "1997-05-20  -0.042683\n",
       "1997-05-21  -0.127389\n",
       "1997-05-22  -0.021898"
      ]
     },
     "execution_count": 61,
     "metadata": {},
     "output_type": "execute_result"
    }
   ],
   "source": [
    "# Create a DataFrame of AMZN returns\n",
    "amzn_returns = amzn.pct_change()\n",
    "\n",
    "# Eliminate the NaN in the first row of returns\n",
    "amzn_returns = amzn_returns.dropna()\n",
    "\n",
    "amzn_returns.head()"
   ]
  },
  {
   "cell_type": "code",
   "execution_count": 62,
   "metadata": {
    "scrolled": true
   },
   "outputs": [
    {
     "name": "stdout",
     "output_type": "stream",
     "text": [
      "The p-value of the test on returns is: 2.565589808348563e-22\n"
     ]
    }
   ],
   "source": [
    "# Run the ADF test on the return series and print out the p-value\n",
    "results = adfuller(amzn_returns['Adj Close'])\n",
    "print('The p-value of the test on returns is: ' + str(results[1]))"
   ]
  },
  {
   "cell_type": "markdown",
   "metadata": {},
   "source": [
    "## 2-08 Seasonal Adjustment During Tax Season\n",
    "\n",
    "Many time series exhibit strong seasonal behavior. The procedure for removing the seasonal component of a time series is called seasonal adjustment. For example, most economic data published by the government is seasonally adjusted.\n",
    "\n",
    "You saw earlier that by taking first differences of a random walk, you get a stationary white noise process. For seasonal adjustments, instead of taking first differences, you will take differences with a lag corresponding to the periodicity.\n",
    "\n",
    "Look again at the ACF of H&R Block's quarterly earnings, pre-loaded in the DataFrame HRB, and there is a clear seasonal component. The autocorrelation is high for lags 4,8,12,16,..., because of the spike in earnings every four quarters during tax season. Apply a seasonal adjustment by taking the fourth difference (four represents the periodicity of the series). Then compute the autocorrelation of the transformed series."
   ]
  },
  {
   "cell_type": "code",
   "execution_count": 63,
   "metadata": {},
   "outputs": [
    {
     "data": {
      "text/html": [
       "<div>\n",
       "<style scoped>\n",
       "    .dataframe tbody tr th:only-of-type {\n",
       "        vertical-align: middle;\n",
       "    }\n",
       "\n",
       "    .dataframe tbody tr th {\n",
       "        vertical-align: top;\n",
       "    }\n",
       "\n",
       "    .dataframe thead th {\n",
       "        text-align: right;\n",
       "    }\n",
       "</style>\n",
       "<table border=\"1\" class=\"dataframe\">\n",
       "  <thead>\n",
       "    <tr style=\"text-align: right;\">\n",
       "      <th></th>\n",
       "      <th>Earnings</th>\n",
       "    </tr>\n",
       "    <tr>\n",
       "      <th>Quarter</th>\n",
       "      <th></th>\n",
       "    </tr>\n",
       "  </thead>\n",
       "  <tbody>\n",
       "    <tr>\n",
       "      <th>2007Q1</th>\n",
       "      <td>NaN</td>\n",
       "    </tr>\n",
       "    <tr>\n",
       "      <th>2007Q2</th>\n",
       "      <td>NaN</td>\n",
       "    </tr>\n",
       "    <tr>\n",
       "      <th>2007Q3</th>\n",
       "      <td>NaN</td>\n",
       "    </tr>\n",
       "    <tr>\n",
       "      <th>2007Q4</th>\n",
       "      <td>NaN</td>\n",
       "    </tr>\n",
       "    <tr>\n",
       "      <th>2008Q1</th>\n",
       "      <td>0.02</td>\n",
       "    </tr>\n",
       "    <tr>\n",
       "      <th>2008Q2</th>\n",
       "      <td>-0.04</td>\n",
       "    </tr>\n",
       "    <tr>\n",
       "      <th>2008Q3</th>\n",
       "      <td>-0.05</td>\n",
       "    </tr>\n",
       "    <tr>\n",
       "      <th>2008Q4</th>\n",
       "      <td>0.26</td>\n",
       "    </tr>\n",
       "    <tr>\n",
       "      <th>2009Q1</th>\n",
       "      <td>-0.05</td>\n",
       "    </tr>\n",
       "    <tr>\n",
       "      <th>2009Q2</th>\n",
       "      <td>0.02</td>\n",
       "    </tr>\n",
       "  </tbody>\n",
       "</table>\n",
       "</div>"
      ],
      "text/plain": [
       "         Earnings\n",
       "Quarter          \n",
       "2007Q1        NaN\n",
       "2007Q2        NaN\n",
       "2007Q3        NaN\n",
       "2007Q4        NaN\n",
       "2008Q1       0.02\n",
       "2008Q2      -0.04\n",
       "2008Q3      -0.05\n",
       "2008Q4       0.26\n",
       "2009Q1      -0.05\n",
       "2009Q2       0.02"
      ]
     },
     "execution_count": 63,
     "metadata": {},
     "output_type": "execute_result"
    }
   ],
   "source": [
    "# Seasonally adjust quarterly earnings\n",
    "hrbsa = hrb.diff(4)\n",
    "\n",
    "# Print the first 10 rows of the seasonally adjusted series\n",
    "hrbsa.head(10)"
   ]
  },
  {
   "cell_type": "code",
   "execution_count": 64,
   "metadata": {},
   "outputs": [
    {
     "data": {
      "text/html": [
       "<div>\n",
       "<style scoped>\n",
       "    .dataframe tbody tr th:only-of-type {\n",
       "        vertical-align: middle;\n",
       "    }\n",
       "\n",
       "    .dataframe tbody tr th {\n",
       "        vertical-align: top;\n",
       "    }\n",
       "\n",
       "    .dataframe thead th {\n",
       "        text-align: right;\n",
       "    }\n",
       "</style>\n",
       "<table border=\"1\" class=\"dataframe\">\n",
       "  <thead>\n",
       "    <tr style=\"text-align: right;\">\n",
       "      <th></th>\n",
       "      <th>Earnings</th>\n",
       "    </tr>\n",
       "    <tr>\n",
       "      <th>Quarter</th>\n",
       "      <th></th>\n",
       "    </tr>\n",
       "  </thead>\n",
       "  <tbody>\n",
       "    <tr>\n",
       "      <th>2008Q1</th>\n",
       "      <td>0.02</td>\n",
       "    </tr>\n",
       "    <tr>\n",
       "      <th>2008Q2</th>\n",
       "      <td>-0.04</td>\n",
       "    </tr>\n",
       "    <tr>\n",
       "      <th>2008Q3</th>\n",
       "      <td>-0.05</td>\n",
       "    </tr>\n",
       "    <tr>\n",
       "      <th>2008Q4</th>\n",
       "      <td>0.26</td>\n",
       "    </tr>\n",
       "    <tr>\n",
       "      <th>2009Q1</th>\n",
       "      <td>-0.05</td>\n",
       "    </tr>\n",
       "  </tbody>\n",
       "</table>\n",
       "</div>"
      ],
      "text/plain": [
       "         Earnings\n",
       "Quarter          \n",
       "2008Q1       0.02\n",
       "2008Q2      -0.04\n",
       "2008Q3      -0.05\n",
       "2008Q4       0.26\n",
       "2009Q1      -0.05"
      ]
     },
     "execution_count": 64,
     "metadata": {},
     "output_type": "execute_result"
    }
   ],
   "source": [
    "# Drop the NaN data\n",
    "hrbsa.dropna(inplace=True)\n",
    "\n",
    "hrbsa.head()"
   ]
  },
  {
   "cell_type": "code",
   "execution_count": 65,
   "metadata": {
    "scrolled": true
   },
   "outputs": [
    {
     "data": {
      "image/png": "[encoded data removed]",
      "text/plain": [
       "<Figure size 432x288 with 1 Axes>"
      ]
     },
     "metadata": {},
     "output_type": "display_data"
    }
   ],
   "source": [
    "# Plot the autocorrelation function of the seasonally adjusted series\n",
    "plot_acf(hrbsa)\n",
    "plt.show()"
   ]
  },
  {
   "cell_type": "markdown",
   "metadata": {},
   "source": [
    "## Stationary\n",
    "\n",
    "- Strong stationarity = entire distribution of data is time-invariant\n",
    "- Weak stationarity = mean, variance & autocorrelation are time-invariant"
   ]
  },
  {
   "cell_type": "markdown",
   "metadata": {},
   "source": [
    "### Transform nonstationary to stationary series"
   ]
  },
  {
   "cell_type": "code",
   "execution_count": 66,
   "metadata": {
    "scrolled": true
   },
   "outputs": [
    {
     "data": {
      "image/png": "[encoded data removed]",
      "text/plain": [
       "<Figure size 432x288 with 1 Axes>"
      ]
     },
     "metadata": {},
     "output_type": "display_data"
    }
   ],
   "source": [
    "# Random walk\n",
    "plt.plot(msft)\n",
    "plt.show()"
   ]
  },
  {
   "cell_type": "code",
   "execution_count": 67,
   "metadata": {},
   "outputs": [
    {
     "data": {
      "image/png": "[encoded data removed]",
      "text/plain": [
       "<Figure size 432x288 with 1 Axes>"
      ]
     },
     "metadata": {},
     "output_type": "display_data"
    }
   ],
   "source": [
    "# 1st diff\n",
    "plt.plot(msft.diff())\n",
    "plt.show()"
   ]
  },
  {
   "cell_type": "code",
   "execution_count": 68,
   "metadata": {},
   "outputs": [
    {
     "data": {
      "text/plain": [
       "<matplotlib.axes._subplots.AxesSubplot at 0x7f36de343828>"
      ]
     },
     "execution_count": 68,
     "metadata": {},
     "output_type": "execute_result"
    },
    {
     "data": {
      "image/png": "[encoded data removed]",
      "text/plain": [
       "<Figure size 432x288 with 1 Axes>"
      ]
     },
     "metadata": {},
     "output_type": "display_data"
    }
   ],
   "source": [
    "hrb.plot(style='.-')"
   ]
  },
  {
   "cell_type": "code",
   "execution_count": 69,
   "metadata": {},
   "outputs": [
    {
     "data": {
      "text/plain": [
       "<matplotlib.axes._subplots.AxesSubplot at 0x7f36de31f198>"
      ]
     },
     "execution_count": 69,
     "metadata": {},
     "output_type": "execute_result"
    },
    {
     "data": {
      "image/png": "[encoded data removed]",
      "text/plain": [
       "<Figure size 432x288 with 1 Axes>"
      ]
     },
     "metadata": {},
     "output_type": "display_data"
    }
   ],
   "source": [
    "# Seasonal diff\n",
    "hrb.diff(4).plot(style='.-')"
   ]
  },
  {
   "cell_type": "code",
   "execution_count": 70,
   "metadata": {
    "scrolled": false
   },
   "outputs": [
    {
     "data": {
      "text/plain": [
       "<matplotlib.axes._subplots.AxesSubplot at 0x7f36de289a20>"
      ]
     },
     "execution_count": 70,
     "metadata": {},
     "output_type": "execute_result"
    },
    {
     "data": {
      "image/png": "[encoded data removed]",
      "text/plain": [
       "<Figure size 432x288 with 1 Axes>"
      ]
     },
     "metadata": {},
     "output_type": "display_data"
    }
   ],
   "source": [
    "# AMZN quarterly revenues\n",
    "amzn_quarter = amzn.resample(rule='Q').last()\n",
    "amzn_quarter['2003':].plot(grid=True)"
   ]
  },
  {
   "cell_type": "code",
   "execution_count": 71,
   "metadata": {},
   "outputs": [
    {
     "data": {
      "text/plain": [
       "<matplotlib.axes._subplots.AxesSubplot at 0x7f36de218d30>"
      ]
     },
     "execution_count": 71,
     "metadata": {},
     "output_type": "execute_result"
    },
    {
     "data": {
      "image/png": "[encoded data removed]",
      "text/plain": [
       "<Figure size 432x288 with 1 Axes>"
      ]
     },
     "metadata": {},
     "output_type": "display_data"
    }
   ],
   "source": [
    "# Log of AMZN revenues\n",
    "np.log(amzn_quarter).plot(grid=True)"
   ]
  },
  {
   "cell_type": "code",
   "execution_count": 72,
   "metadata": {},
   "outputs": [
    {
     "data": {
      "text/plain": [
       "<matplotlib.axes._subplots.AxesSubplot at 0x7f36de183710>"
      ]
     },
     "execution_count": 72,
     "metadata": {},
     "output_type": "execute_result"
    },
    {
     "data": {
      "image/png": "[encoded data removed]",
      "text/plain": [
       "<Figure size 432x288 with 1 Axes>"
      ]
     },
     "metadata": {},
     "output_type": "display_data"
    }
   ],
   "source": [
    "# Log, then seasonal difference\n",
    "np.log(amzn_quarter['2001':]).diff(4).plot(grid=True)"
   ]
  },
  {
   "cell_type": "markdown",
   "metadata": {},
   "source": [
    "# 3 Introducing an AR model\n",
    "\n",
    "## AR(1) model\n",
    "$R_t = \\mu + \\phi R_{t-1} + \\epsilon_t$\n",
    "- AR parameter: $\\phi$\n",
    "- Stationary: $-1 < \\phi < 1$\n",
    "- $-\\phi$: Mean reversion, ACF plot will alternate between extreme ends\n",
    "- $+\\phi$: Momentum, ACF plot will decrease slowly\n",
    "\n",
    "## 3-01 Stimulating AR process\n",
    "\n",
    "When inputting the coefficients, you must include the 0-lag coefficient of 1, and the sign of the other coefficient is opposite of what we have been using.\n",
    "\n",
    "For eg, AR(1) process with $\\phi=0.9$, the array representing the AR parameters would be $ar=np.array([1,0.9])$"
   ]
  },
  {
   "cell_type": "code",
   "execution_count": 73,
   "metadata": {},
   "outputs": [
    {
     "data": {
      "image/png": "[encoded data removed]",
      "text/plain": [
       "<Figure size 432x288 with 2 Axes>"
      ]
     },
     "metadata": {},
     "output_type": "display_data"
    }
   ],
   "source": [
    "from statsmodels.tsa.arima_process import ArmaProcess\n",
    "\n",
    "# Plot 1: AR parameter = +0.9\n",
    "plt.subplot(2,1,1)\n",
    "ar1 = np.array([1, -0.9])\n",
    "ma1 = np.array([1])\n",
    "AR_object1 = ArmaProcess(ar1, ma1)\n",
    "simulated_data1 = AR_object1.generate_sample(nsample=1000)\n",
    "plt.plot(simulated_data1)\n",
    "plt.grid(True)\n",
    "\n",
    "# Plot 2: AR parameter = -0.9\n",
    "plt.subplot(2,1,2)\n",
    "ar2 = np.array([1, 0.9])\n",
    "ma2 = np.array([1])\n",
    "AR_object2 = ArmaProcess(ar2, ma2)\n",
    "simulated_data2 = AR_object2.generate_sample(nsample=1000)\n",
    "plt.plot(simulated_data2)\n",
    "plt.grid(True)"
   ]
  },
  {
   "cell_type": "markdown",
   "metadata": {},
   "source": [
    "## 3-02 Compare ACF for several AR time series\n",
    "\n",
    "The autocorrelation function decays exponentially for an AR time series at a rate of the AR parameter.\n",
    "\n",
    "For eg, if AR parameter $\\phi=0.9$, the first-lag autocorrelation will be 0.9, the second-lag will be $(0.9)2=0.81$, etc\n",
    "\n",
    "A smaller AR parameter will have a steeper decay. And for a negative AR parameter, the decay will flip signs"
   ]
  },
  {
   "cell_type": "code",
   "execution_count": 74,
   "metadata": {},
   "outputs": [
    {
     "data": {
      "image/png": "[encoded data removed]",
      "text/plain": [
       "<Figure size 432x288 with 1 Axes>"
      ]
     },
     "metadata": {},
     "output_type": "display_data"
    },
    {
     "data": {
      "image/png": "[encoded data removed]",
      "text/plain": [
       "<Figure size 432x288 with 1 Axes>"
      ]
     },
     "metadata": {},
     "output_type": "display_data"
    },
    {
     "data": {
      "image/png": "[encoded data removed]",
      "text/plain": [
       "<Figure size 432x288 with 1 Axes>"
      ]
     },
     "metadata": {},
     "output_type": "display_data"
    }
   ],
   "source": [
    "from statsmodels.graphics.tsaplots import plot_acf\n",
    "\n",
    "# Plot 1: AR parameter = +0.9\n",
    "plot_acf(simulated_data1, alpha=1, lags=20)\n",
    "plt.show()\n",
    "\n",
    "# Plot 2: AR parameter = -0.9\n",
    "plot_acf(simulated_data2, alpha=1, lags=20)\n",
    "plt.show()\n",
    "\n",
    "# Plot 3: AR parameter = +0.3\n",
    "ar3 = np.array([1, -0.9])\n",
    "ma3 = np.array([1])\n",
    "AR_object3 = ArmaProcess(ar3, ma3)\n",
    "simulated_data3 = AR_object3.generate_sample(nsample=1000)\n",
    "\n",
    "plot_acf(simulated_data3, alpha=1, lags=20)\n",
    "plt.show()"
   ]
  },
  {
   "cell_type": "markdown",
   "metadata": {},
   "source": [
    "## 3-03 Estimating an AR model"
   ]
  },
  {
   "cell_type": "code",
   "execution_count": 75,
   "metadata": {},
   "outputs": [
    {
     "name": "stderr",
     "output_type": "stream",
     "text": [
      "/home/anonymous/anaconda3/lib/python3.6/site-packages/scipy/signal/signaltools.py:1341: FutureWarning: Using a non-tuple sequence for multidimensional indexing is deprecated; use `arr[tuple(seq)]` instead of `arr[seq]`. In the future this will be interpreted as an array index, `arr[np.array(seq)]`, which will result either in an error or a different result.\n",
      "  out_full[ind] += zi\n",
      "/home/anonymous/anaconda3/lib/python3.6/site-packages/scipy/signal/signaltools.py:1344: FutureWarning: Using a non-tuple sequence for multidimensional indexing is deprecated; use `arr[tuple(seq)]` instead of `arr[seq]`. In the future this will be interpreted as an array index, `arr[np.array(seq)]`, which will result either in an error or a different result.\n",
      "  out = out_full[ind]\n",
      "/home/anonymous/anaconda3/lib/python3.6/site-packages/scipy/signal/signaltools.py:1350: FutureWarning: Using a non-tuple sequence for multidimensional indexing is deprecated; use `arr[tuple(seq)]` instead of `arr[seq]`. In the future this will be interpreted as an array index, `arr[np.array(seq)]`, which will result either in an error or a different result.\n",
      "  zf = out_full[ind]\n"
     ]
    }
   ],
   "source": [
    "from statsmodels.tsa.arima_model import ARMA\n",
    "\n",
    "# Fit AR(1) model\n",
    "mod = ARMA(simulated_data1, order=(1,0))\n",
    "res = mod.fit()"
   ]
  },
  {
   "cell_type": "code",
   "execution_count": 76,
   "metadata": {},
   "outputs": [
    {
     "name": "stdout",
     "output_type": "stream",
     "text": [
      "                              ARMA Model Results                              \n",
      "==============================================================================\n",
      "Dep. Variable:                      y   No. Observations:                 1000\n",
      "Model:                     ARMA(1, 0)   Log Likelihood               -1445.760\n",
      "Method:                       css-mle   S.D. of innovations              1.026\n",
      "Date:                Sun, 02 Sep 2018   AIC                           2897.519\n",
      "Time:                        17:50:30   BIC                           2912.242\n",
      "Sample:                             0   HQIC                          2903.115\n",
      "                                                                              \n",
      "==============================================================================\n",
      "                 coef    std err          z      P>|z|      [0.025      0.975]\n",
      "------------------------------------------------------------------------------\n",
      "const         -0.0652      0.256     -0.255      0.799      -0.566       0.436\n",
      "ar.L1.y        0.8739      0.015     57.164      0.000       0.844       0.904\n",
      "                                    Roots                                    \n",
      "=============================================================================\n",
      "                  Real          Imaginary           Modulus         Frequency\n",
      "-----------------------------------------------------------------------------\n",
      "AR.1            1.1443           +0.0000j            1.1443            0.0000\n",
      "-----------------------------------------------------------------------------\n"
     ]
    }
   ],
   "source": [
    "print(res.summary())"
   ]
  },
  {
   "cell_type": "markdown",
   "metadata": {},
   "source": [
    "true $\\mu=0$ and $\\phi=0.9$"
   ]
  },
  {
   "cell_type": "code",
   "execution_count": 77,
   "metadata": {},
   "outputs": [
    {
     "name": "stdout",
     "output_type": "stream",
     "text": [
      "When the true phi=0.9, the estimate of constant (and the phi) are:\n",
      "[-0.06522491  0.87391047]\n"
     ]
    }
   ],
   "source": [
    "# Print out the est. for the constant and for the phi\n",
    "print(\"When the true phi=0.9, the estimate of constant (and the phi) are:\")\n",
    "print(res.params)"
   ]
  },
  {
   "cell_type": "markdown",
   "metadata": {},
   "source": [
    "## 3-04 Forecasting an AR model\n",
    "\n",
    "You can also do forecasting, both in-sample and out-sample using statsmodels. The in-sample is a forecast of the next data point using the data up to that point, and the out-of-sample forecasts any number of data points in the future."
   ]
  },
  {
   "cell_type": "code",
   "execution_count": 78,
   "metadata": {
    "scrolled": true
   },
   "outputs": [
    {
     "name": "stderr",
     "output_type": "stream",
     "text": [
      "/home/anonymous/anaconda3/lib/python3.6/site-packages/scipy/signal/signaltools.py:1341: FutureWarning: Using a non-tuple sequence for multidimensional indexing is deprecated; use `arr[tuple(seq)]` instead of `arr[seq]`. In the future this will be interpreted as an array index, `arr[np.array(seq)]`, which will result either in an error or a different result.\n",
      "  out_full[ind] += zi\n",
      "/home/anonymous/anaconda3/lib/python3.6/site-packages/scipy/signal/signaltools.py:1344: FutureWarning: Using a non-tuple sequence for multidimensional indexing is deprecated; use `arr[tuple(seq)]` instead of `arr[seq]`. In the future this will be interpreted as an array index, `arr[np.array(seq)]`, which will result either in an error or a different result.\n",
      "  out = out_full[ind]\n",
      "/home/anonymous/anaconda3/lib/python3.6/site-packages/scipy/signal/signaltools.py:1350: FutureWarning: Using a non-tuple sequence for multidimensional indexing is deprecated; use `arr[tuple(seq)]` instead of `arr[seq]`. In the future this will be interpreted as an array index, `arr[np.array(seq)]`, which will result either in an error or a different result.\n",
      "  zf = out_full[ind]\n"
     ]
    },
    {
     "data": {
      "image/png": "[encoded data removed]",
      "text/plain": [
       "<Figure size 432x288 with 1 Axes>"
      ]
     },
     "metadata": {},
     "output_type": "display_data"
    }
   ],
   "source": [
    "from statsmodels.tsa.arima_model import ARMA\n",
    "\n",
    "mod = ARMA(simulated_data1, order=(1,0))\n",
    "res = mod.fit()\n",
    "\n",
    "# Start the forecast 10 data points before the end of the 1000 point series at 990, \n",
    "# and end the forecast 10 data points after the end of the series at point 1010\n",
    "res.plot_predict(start=990, end=1010)\n",
    "plt.show()"
   ]
  },
  {
   "cell_type": "markdown",
   "metadata": {},
   "source": [
    "## 3-06 Compare AR model with random walk\n",
    "\n",
    "Sometimes it is difficult to distinguish between a time series that is slightly mean reverting and a time series that does not mean revert at all, like a random walk. You will comapre the ACF for the data with a simulated random walk with the same number of observations.\n",
    "\n",
    "You will notice that their autocorrelations are very similar."
   ]
  },
  {
   "cell_type": "code",
   "execution_count": 79,
   "metadata": {},
   "outputs": [
    {
     "data": {
      "image/png": "[encoded data removed]",
      "text/plain": [
       "<Figure size 432x288 with 1 Axes>"
      ]
     },
     "metadata": {},
     "output_type": "display_data"
    }
   ],
   "source": [
    "# Plot the autocorrelation of the simulated random walk series\n",
    "plot_acf(simulated_data1, alpha=1, lags=12)\n",
    "plt.show()"
   ]
  },
  {
   "cell_type": "markdown",
   "metadata": {},
   "source": [
    "## Choosing the right model\n",
    "\n",
    "Techniques to deteremine order of an AR model:\n",
    "- Partial autocorrelation function (PACF)\n",
    "- Information criteria"
   ]
  },
  {
   "cell_type": "markdown",
   "metadata": {},
   "source": [
    "## 3-07 PACF"
   ]
  },
  {
   "cell_type": "code",
   "execution_count": 80,
   "metadata": {},
   "outputs": [],
   "source": [
    "from statsmodels.tsa.arima_process import ArmaProcess\n",
    "from statsmodels.graphics.tsaplots import plot_pacf"
   ]
  },
  {
   "cell_type": "code",
   "execution_count": 81,
   "metadata": {},
   "outputs": [
    {
     "data": {
      "image/png": "[encoded data removed]",
      "text/plain": [
       "<Figure size 432x288 with 1 Axes>"
      ]
     },
     "metadata": {},
     "output_type": "display_data"
    },
    {
     "data": {
      "image/png": "[encoded data removed]",
      "text/plain": [
       "<Figure size 432x288 with 1 Axes>"
      ]
     },
     "metadata": {},
     "output_type": "display_data"
    }
   ],
   "source": [
    "# Simulate AR(1) with phi=+0.6\n",
    "ma = np.array([1])\n",
    "ar = np.array([1, -0.6])\n",
    "AR_object = ArmaProcess(ar, ma)\n",
    "simulated_data_1 = AR_object.generate_sample(nsample=5000)\n",
    "\n",
    "# Plot PACF for AR(1)\n",
    "plot_pacf(simulated_data_1, lags=20)\n",
    "plt.show()\n",
    "\n",
    "# Simulate AR(2) with phi1=+0.6, phi2=+0.3\n",
    "ma = np.array([1])\n",
    "ar = np.array([1, -0.6, -0.3])\n",
    "AR_object = ArmaProcess(ar, ma)\n",
    "simulated_data_2 = AR_object.generate_sample(nsample=5000)\n",
    "\n",
    "# Plot PACF for AR(2)\n",
    "plot_pacf(simulated_data_2, lags=20)\n",
    "plt.show()"
   ]
  },
  {
   "cell_type": "markdown",
   "metadata": {},
   "source": [
    "## 3-08 Information criteria\n",
    "Compute the goodness of fit with the estimated parameters, but apply a penalty function on the number of parameters.\n",
    "\n",
    "Popular measures:\n",
    "- AIC (Akaike information criterion)\n",
    "- BIC (Bayesian information criterion)\n",
    "\n",
    "Choose order p with lowest BIC"
   ]
  },
  {
   "cell_type": "code",
   "execution_count": 82,
   "metadata": {},
   "outputs": [
    {
     "data": {
      "text/plain": [
       "2897.5191483669964"
      ]
     },
     "execution_count": 82,
     "metadata": {},
     "output_type": "execute_result"
    }
   ],
   "source": [
    "# AIC\n",
    "res.aic"
   ]
  },
  {
   "cell_type": "code",
   "execution_count": 83,
   "metadata": {},
   "outputs": [
    {
     "data": {
      "text/plain": [
       "2912.2424142039426"
      ]
     },
     "execution_count": 83,
     "metadata": {},
     "output_type": "execute_result"
    }
   ],
   "source": [
    "# BIC\n",
    "res.bic"
   ]
  },
  {
   "cell_type": "code",
   "execution_count": 84,
   "metadata": {},
   "outputs": [
    {
     "name": "stderr",
     "output_type": "stream",
     "text": [
      "/home/anonymous/anaconda3/lib/python3.6/site-packages/scipy/signal/signaltools.py:1341: FutureWarning: Using a non-tuple sequence for multidimensional indexing is deprecated; use `arr[tuple(seq)]` instead of `arr[seq]`. In the future this will be interpreted as an array index, `arr[np.array(seq)]`, which will result either in an error or a different result.\n",
      "  out_full[ind] += zi\n",
      "/home/anonymous/anaconda3/lib/python3.6/site-packages/scipy/signal/signaltools.py:1344: FutureWarning: Using a non-tuple sequence for multidimensional indexing is deprecated; use `arr[tuple(seq)]` instead of `arr[seq]`. In the future this will be interpreted as an array index, `arr[np.array(seq)]`, which will result either in an error or a different result.\n",
      "  out = out_full[ind]\n",
      "/home/anonymous/anaconda3/lib/python3.6/site-packages/scipy/signal/signaltools.py:1350: FutureWarning: Using a non-tuple sequence for multidimensional indexing is deprecated; use `arr[tuple(seq)]` instead of `arr[seq]`. In the future this will be interpreted as an array index, `arr[np.array(seq)]`, which will result either in an error or a different result.\n",
      "  zf = out_full[ind]\n"
     ]
    },
    {
     "data": {
      "image/png": "[encoded data removed]",
      "text/plain": [
       "<Figure size 432x288 with 1 Axes>"
      ]
     },
     "metadata": {},
     "output_type": "display_data"
    }
   ],
   "source": [
    "# Fit the data to an AR(p) for p = 0, ..., 6 and save the BIC\n",
    "BIC = np.zeros(7)\n",
    "\n",
    "for p in range(7):\n",
    "    mod = ARMA(simulated_data_2, order=(p,0))\n",
    "    res = mod.fit()\n",
    "    \n",
    "    # Save BIC for AR(p)\n",
    "    BIC[p] = res.bic\n",
    "\n",
    "# Plot the BIC as a function of p\n",
    "plt.plot(range(1,7), BIC[1:7], marker='o')\n",
    "plt.xlabel('Order of AR model')\n",
    "plt.ylabel('Bayesian Information Criterion')\n",
    "plt.show()"
   ]
  },
  {
   "cell_type": "markdown",
   "metadata": {},
   "source": [
    "# 4 Describe model\n",
    "\n",
    "## MA(1) model\n",
    "\n",
    "$R_t=\\mu+\\epsilon_t1-\\theta\\epsilon_{t-1}$\n",
    "- MA parameter: $\\theta$\n",
    "- Stationary for all values of $\\theta$\n",
    "- $-\\theta$: 1 period mean reversion\n",
    "- $+\\theta$: 1 period momentum\n",
    "- 1 period autocorrelation is $\\frac{\\theta}{1+\\theta^2}$\n",
    "\n",
    "MA(2) model:\n",
    "$R_t=\\mu+\\epsilon_t1-\\theta_1\\epsilon_{t-1}-\\theta_2\\epsilon_{t-2}$"
   ]
  },
  {
   "cell_type": "code",
   "execution_count": 85,
   "metadata": {},
   "outputs": [],
   "source": [
    "from statsmodels.tsa.arima_process import ArmaProcess"
   ]
  },
  {
   "cell_type": "code",
   "execution_count": 86,
   "metadata": {},
   "outputs": [
    {
     "name": "stderr",
     "output_type": "stream",
     "text": [
      "/home/anonymous/anaconda3/lib/python3.6/site-packages/scipy/signal/signaltools.py:1344: FutureWarning: Using a non-tuple sequence for multidimensional indexing is deprecated; use `arr[tuple(seq)]` instead of `arr[seq]`. In the future this will be interpreted as an array index, `arr[np.array(seq)]`, which will result either in an error or a different result.\n",
      "  out = out_full[ind]\n"
     ]
    },
    {
     "data": {
      "image/png": "[encoded data removed]",
      "text/plain": [
       "<Figure size 432x288 with 2 Axes>"
      ]
     },
     "metadata": {},
     "output_type": "display_data"
    }
   ],
   "source": [
    "# Plot 1: MA parameter = -0.9\n",
    "plt.subplot(2,1,1)\n",
    "ar1 = np.array([1])\n",
    "ma1 = np.array([1, -0.9])\n",
    "MA_object1 = ArmaProcess(ar1, ma1)\n",
    "simulated_data_1 = MA_object1.generate_sample(nsample=1000)\n",
    "plt.plot(simulated_data_1)\n",
    "\n",
    "# Plot 2: MA parameter = +0.9\n",
    "plt.subplot(2,1,2)\n",
    "ar2 = np.array([1])\n",
    "ma2 = np.array([1, 0.9])\n",
    "MA_object2 = ArmaProcess(ar2, ma2)\n",
    "simulated_data_2 = MA_object2.generate_sample(nsample=1000)\n",
    "plt.plot(simulated_data_2)\n",
    "\n",
    "plt.show()"
   ]
  },
  {
   "cell_type": "code",
   "execution_count": 87,
   "metadata": {},
   "outputs": [
    {
     "name": "stderr",
     "output_type": "stream",
     "text": [
      "/home/anonymous/anaconda3/lib/python3.6/site-packages/scipy/signal/signaltools.py:1344: FutureWarning: Using a non-tuple sequence for multidimensional indexing is deprecated; use `arr[tuple(seq)]` instead of `arr[seq]`. In the future this will be interpreted as an array index, `arr[np.array(seq)]`, which will result either in an error or a different result.\n",
      "  out = out_full[ind]\n"
     ]
    },
    {
     "data": {
      "image/png": "[encoded data removed]",
      "text/plain": [
       "<Figure size 432x288 with 1 Axes>"
      ]
     },
     "metadata": {},
     "output_type": "display_data"
    }
   ],
   "source": [
    "ar = np.array([1])\n",
    "ma = np.array([1, 0.5])\n",
    "AR_object = ArmaProcess(ar, ma)\n",
    "simulated_data = AR_object.generate_sample(nsample=1000)\n",
    "plt.plot(simulated_data)\n",
    "plt.show()"
   ]
  },
  {
   "cell_type": "markdown",
   "metadata": {},
   "source": [
    "## 4-02 Compute ACF for several MA time series\n",
    "\n",
    "An MA(1) model has no autocorrelation beyond lag 1, an MA(2) model has no autocorrelation beyond lag 2.\n",
    "\n",
    "For example if the MA parameter, $\\theta=+0.9$, first-lag autocorrelation will be $\\frac{0.9}{1+(0.9)2}=0.497$, the autocorrelation at all other lags will be 0."
   ]
  },
  {
   "cell_type": "code",
   "execution_count": 88,
   "metadata": {},
   "outputs": [],
   "source": [
    "from statsmodels.graphics.tsaplots import plot_acf"
   ]
  },
  {
   "cell_type": "code",
   "execution_count": 89,
   "metadata": {},
   "outputs": [
    {
     "name": "stderr",
     "output_type": "stream",
     "text": [
      "/home/anonymous/anaconda3/lib/python3.6/site-packages/scipy/signal/signaltools.py:1344: FutureWarning: Using a non-tuple sequence for multidimensional indexing is deprecated; use `arr[tuple(seq)]` instead of `arr[seq]`. In the future this will be interpreted as an array index, `arr[np.array(seq)]`, which will result either in an error or a different result.\n",
      "  out = out_full[ind]\n"
     ]
    },
    {
     "data": {
      "image/png": "[encoded data removed]",
      "text/plain": [
       "<Figure size 432x288 with 3 Axes>"
      ]
     },
     "metadata": {},
     "output_type": "display_data"
    }
   ],
   "source": [
    "fig, axes = plt.subplots(3,1)\n",
    "\n",
    "# Plot 1: MA parameter = -0.9\n",
    "plot_acf(simulated_data_1, lags=20, ax=axes[0])\n",
    "axes[0].set_title(\"MA Parameter -0.9\")\n",
    "\n",
    "# Plot 2: MA parameter = +0.9\n",
    "plot_acf(simulated_data_2, lags=20, ax=axes[1])\n",
    "axes[1].set_title(\"MA Parameter +0.9\")\n",
    "\n",
    "# Plot 3: MA parameter = -0.3\n",
    "ar3 = np.array([1])\n",
    "ma3 = np.array([1, -0.3])\n",
    "MA_object3 = ArmaProcess(ar3, ma3)\n",
    "simulated_data_3 = MA_object3.generate_sample(nsample=1000)\n",
    "plot_acf(simulated_data_3, lags=20, ax=axes[2])\n",
    "axes[2].set_title(\"MA Parameter -0.3\")\n",
    "plt.show()"
   ]
  },
  {
   "cell_type": "markdown",
   "metadata": {},
   "source": [
    "## ARMA model\n",
    "\n",
    "ARMA(1,1) model:\n",
    "$R_t=\\mu+\\phi R_{t-1}+\\epsilon_t+\\theta\\epsilon_{t-1}$"
   ]
  },
  {
   "cell_type": "markdown",
   "metadata": {},
   "source": [
    "## 4-03 Estimating an MA model"
   ]
  },
  {
   "cell_type": "code",
   "execution_count": 90,
   "metadata": {},
   "outputs": [],
   "source": [
    "from statsmodels.tsa.arima_model import ARMA"
   ]
  },
  {
   "cell_type": "code",
   "execution_count": 91,
   "metadata": {},
   "outputs": [
    {
     "name": "stdout",
     "output_type": "stream",
     "text": [
      "                              ARMA Model Results                              \n",
      "==============================================================================\n",
      "Dep. Variable:                      y   No. Observations:                 1000\n",
      "Model:                     ARMA(0, 1)   Log Likelihood               -1425.823\n",
      "Method:                       css-mle   S.D. of innovations              1.006\n",
      "Date:                Sun, 02 Sep 2018   AIC                           2857.645\n",
      "Time:                        17:50:33   BIC                           2872.369\n",
      "Sample:                             0   HQIC                          2863.241\n",
      "                                                                              \n",
      "==============================================================================\n",
      "                 coef    std err          z      P>|z|      [0.025      0.975]\n",
      "------------------------------------------------------------------------------\n",
      "const          0.0051      0.003      1.749      0.081      -0.001       0.011\n",
      "ma.L1.y       -0.9095      0.013    -70.125      0.000      -0.935      -0.884\n",
      "                                    Roots                                    \n",
      "=============================================================================\n",
      "                  Real          Imaginary           Modulus         Frequency\n",
      "-----------------------------------------------------------------------------\n",
      "MA.1            1.0996           +0.0000j            1.0996            0.0000\n",
      "-----------------------------------------------------------------------------\n",
      "When the true theta=-0.9, the estimate of theta (and the consant) are:\n",
      "[ 0.00508899 -0.90946238]\n"
     ]
    }
   ],
   "source": [
    "# Fit an MA(1) model to the first simulated data\n",
    "mod = ARMA(simulated_data_1, order=(0,1))\n",
    "res = mod.fit()\n",
    "\n",
    "# Print out summary information on the fit\n",
    "print(res.summary())\n",
    "\n",
    "# Print out the estimate for the constant and for theta\n",
    "print(\"When the true theta=-0.9, the estimate of theta (and the consant) are:\")\n",
    "print(res.params)"
   ]
  },
  {
   "cell_type": "markdown",
   "metadata": {},
   "source": [
    "## 4-04 Forecasting an MA model\n",
    "\n",
    "One big difference you will see between out-of-sample forecasts with an MA(1) model and an AR(1) model is that the MA(1) forecasts more than 1 period in the future are simply the mean of the sample"
   ]
  },
  {
   "cell_type": "code",
   "execution_count": 92,
   "metadata": {
    "scrolled": false
   },
   "outputs": [
    {
     "name": "stderr",
     "output_type": "stream",
     "text": [
      "/home/anonymous/anaconda3/lib/python3.6/site-packages/scipy/signal/signaltools.py:1344: FutureWarning: Using a non-tuple sequence for multidimensional indexing is deprecated; use `arr[tuple(seq)]` instead of `arr[seq]`. In the future this will be interpreted as an array index, `arr[np.array(seq)]`, which will result either in an error or a different result.\n",
      "  out = out_full[ind]\n"
     ]
    },
    {
     "data": {
      "image/png": "[encoded data removed]",
      "text/plain": [
       "<Figure size 432x288 with 1 Axes>"
      ]
     },
     "metadata": {},
     "output_type": "display_data"
    }
   ],
   "source": [
    "# Forecast the first MA(1) model\n",
    "mod = ARMA(simulated_data_1, order=(0,1))\n",
    "res = mod.fit()\n",
    "res.plot_predict(start=990, end=1010)\n",
    "plt.show()"
   ]
  },
  {
   "cell_type": "markdown",
   "metadata": {},
   "source": [
    "## 4-05 High frequency stock prices \n",
    "\n",
    "Higher frequency stock data is well modelled by an MA(1) process.\n",
    "\n",
    "The DataFrame sprint contains one day's prices (on September 1, 2017) for Sprint stock (ticker symbol \"S\") sampled at a frequency of one minute. The stock market is open for 6.5 hours (390 minutes), from 9:30am to 4:00pm.\n",
    "\n",
    "First, there are no column headers.The data is not time stamped from 9:30 to 4:00, but rather goes from 0 to 390. And you will notice that the first date is the odd-looking \"a1504272600\". The number after the \"a\" is Unix time which is the number of seconds since January 1, 1970. This is how this dataset separates each day of sprint data.\n",
    "\n",
    "If you look at the data types, you'll notice that the DATE column is an object, which here means a string. You will need to change that to numeric before you can clean up some missing data."
   ]
  },
  {
   "cell_type": "code",
   "execution_count": 93,
   "metadata": {},
   "outputs": [],
   "source": [
    "import datetime"
   ]
  },
  {
   "cell_type": "code",
   "execution_count": 94,
   "metadata": {
    "scrolled": true
   },
   "outputs": [
    {
     "data": {
      "text/html": [
       "<div>\n",
       "<style scoped>\n",
       "    .dataframe tbody tr th:only-of-type {\n",
       "        vertical-align: middle;\n",
       "    }\n",
       "\n",
       "    .dataframe tbody tr th {\n",
       "        vertical-align: top;\n",
       "    }\n",
       "\n",
       "    .dataframe thead th {\n",
       "        text-align: right;\n",
       "    }\n",
       "</style>\n",
       "<table border=\"1\" class=\"dataframe\">\n",
       "  <thead>\n",
       "    <tr style=\"text-align: right;\">\n",
       "      <th></th>\n",
       "      <th>0</th>\n",
       "      <th>1</th>\n",
       "      <th>2</th>\n",
       "      <th>3</th>\n",
       "      <th>4</th>\n",
       "      <th>5</th>\n",
       "    </tr>\n",
       "  </thead>\n",
       "  <tbody>\n",
       "    <tr>\n",
       "      <th>0</th>\n",
       "      <td>a1504272600</td>\n",
       "      <td>8.2900</td>\n",
       "      <td>8.3000</td>\n",
       "      <td>8.2900</td>\n",
       "      <td>8.3000</td>\n",
       "      <td>32407</td>\n",
       "    </tr>\n",
       "    <tr>\n",
       "      <th>1</th>\n",
       "      <td>1</td>\n",
       "      <td>8.2700</td>\n",
       "      <td>8.3000</td>\n",
       "      <td>8.2500</td>\n",
       "      <td>8.2900</td>\n",
       "      <td>28467</td>\n",
       "    </tr>\n",
       "    <tr>\n",
       "      <th>2</th>\n",
       "      <td>2</td>\n",
       "      <td>8.2800</td>\n",
       "      <td>8.2800</td>\n",
       "      <td>8.2800</td>\n",
       "      <td>8.2800</td>\n",
       "      <td>1500</td>\n",
       "    </tr>\n",
       "    <tr>\n",
       "      <th>3</th>\n",
       "      <td>3</td>\n",
       "      <td>8.2750</td>\n",
       "      <td>8.2800</td>\n",
       "      <td>8.2701</td>\n",
       "      <td>8.2800</td>\n",
       "      <td>5200</td>\n",
       "    </tr>\n",
       "    <tr>\n",
       "      <th>4</th>\n",
       "      <td>4</td>\n",
       "      <td>8.2875</td>\n",
       "      <td>8.2875</td>\n",
       "      <td>8.2800</td>\n",
       "      <td>8.2800</td>\n",
       "      <td>2900</td>\n",
       "    </tr>\n",
       "    <tr>\n",
       "      <th>5</th>\n",
       "      <td>5</td>\n",
       "      <td>8.2800</td>\n",
       "      <td>8.2876</td>\n",
       "      <td>8.2800</td>\n",
       "      <td>8.2850</td>\n",
       "      <td>8400</td>\n",
       "    </tr>\n",
       "    <tr>\n",
       "      <th>6</th>\n",
       "      <td>6</td>\n",
       "      <td>8.2600</td>\n",
       "      <td>8.2700</td>\n",
       "      <td>8.2600</td>\n",
       "      <td>8.2700</td>\n",
       "      <td>7671</td>\n",
       "    </tr>\n",
       "    <tr>\n",
       "      <th>7</th>\n",
       "      <td>7</td>\n",
       "      <td>8.2590</td>\n",
       "      <td>8.2599</td>\n",
       "      <td>8.2550</td>\n",
       "      <td>8.2599</td>\n",
       "      <td>11700</td>\n",
       "    </tr>\n",
       "    <tr>\n",
       "      <th>8</th>\n",
       "      <td>8</td>\n",
       "      <td>8.2563</td>\n",
       "      <td>8.2563</td>\n",
       "      <td>8.2563</td>\n",
       "      <td>8.2563</td>\n",
       "      <td>7890</td>\n",
       "    </tr>\n",
       "    <tr>\n",
       "      <th>9</th>\n",
       "      <td>9</td>\n",
       "      <td>8.2550</td>\n",
       "      <td>8.2600</td>\n",
       "      <td>8.2500</td>\n",
       "      <td>8.2550</td>\n",
       "      <td>31140</td>\n",
       "    </tr>\n",
       "    <tr>\n",
       "      <th>10</th>\n",
       "      <td>10</td>\n",
       "      <td>8.2600</td>\n",
       "      <td>8.2750</td>\n",
       "      <td>8.2600</td>\n",
       "      <td>8.2600</td>\n",
       "      <td>25305</td>\n",
       "    </tr>\n",
       "    <tr>\n",
       "      <th>11</th>\n",
       "      <td>11</td>\n",
       "      <td>8.2600</td>\n",
       "      <td>8.2700</td>\n",
       "      <td>8.2600</td>\n",
       "      <td>8.2650</td>\n",
       "      <td>8385</td>\n",
       "    </tr>\n",
       "    <tr>\n",
       "      <th>12</th>\n",
       "      <td>12</td>\n",
       "      <td>8.2600</td>\n",
       "      <td>8.2600</td>\n",
       "      <td>8.2450</td>\n",
       "      <td>8.2525</td>\n",
       "      <td>30456</td>\n",
       "    </tr>\n",
       "    <tr>\n",
       "      <th>13</th>\n",
       "      <td>13</td>\n",
       "      <td>8.2700</td>\n",
       "      <td>8.2800</td>\n",
       "      <td>8.2500</td>\n",
       "      <td>8.2600</td>\n",
       "      <td>18025</td>\n",
       "    </tr>\n",
       "    <tr>\n",
       "      <th>14</th>\n",
       "      <td>15</td>\n",
       "      <td>8.2700</td>\n",
       "      <td>8.2700</td>\n",
       "      <td>8.2600</td>\n",
       "      <td>8.2600</td>\n",
       "      <td>21510</td>\n",
       "    </tr>\n",
       "    <tr>\n",
       "      <th>15</th>\n",
       "      <td>16</td>\n",
       "      <td>8.2700</td>\n",
       "      <td>8.2700</td>\n",
       "      <td>8.2550</td>\n",
       "      <td>8.2700</td>\n",
       "      <td>7041</td>\n",
       "    </tr>\n",
       "    <tr>\n",
       "      <th>16</th>\n",
       "      <td>17</td>\n",
       "      <td>8.2700</td>\n",
       "      <td>8.2746</td>\n",
       "      <td>8.2643</td>\n",
       "      <td>8.2643</td>\n",
       "      <td>8483</td>\n",
       "    </tr>\n",
       "    <tr>\n",
       "      <th>17</th>\n",
       "      <td>18</td>\n",
       "      <td>8.2700</td>\n",
       "      <td>8.2700</td>\n",
       "      <td>8.2700</td>\n",
       "      <td>8.2700</td>\n",
       "      <td>2700</td>\n",
       "    </tr>\n",
       "    <tr>\n",
       "      <th>18</th>\n",
       "      <td>19</td>\n",
       "      <td>8.2700</td>\n",
       "      <td>8.2700</td>\n",
       "      <td>8.2700</td>\n",
       "      <td>8.2700</td>\n",
       "      <td>3400</td>\n",
       "    </tr>\n",
       "    <tr>\n",
       "      <th>19</th>\n",
       "      <td>20</td>\n",
       "      <td>8.2750</td>\n",
       "      <td>8.2800</td>\n",
       "      <td>8.2700</td>\n",
       "      <td>8.2800</td>\n",
       "      <td>5665</td>\n",
       "    </tr>\n",
       "    <tr>\n",
       "      <th>20</th>\n",
       "      <td>21</td>\n",
       "      <td>8.2700</td>\n",
       "      <td>8.2750</td>\n",
       "      <td>8.2700</td>\n",
       "      <td>8.2700</td>\n",
       "      <td>500</td>\n",
       "    </tr>\n",
       "    <tr>\n",
       "      <th>21</th>\n",
       "      <td>22</td>\n",
       "      <td>8.2700</td>\n",
       "      <td>8.2700</td>\n",
       "      <td>8.2700</td>\n",
       "      <td>8.2700</td>\n",
       "      <td>2781</td>\n",
       "    </tr>\n",
       "    <tr>\n",
       "      <th>22</th>\n",
       "      <td>23</td>\n",
       "      <td>8.2500</td>\n",
       "      <td>8.2600</td>\n",
       "      <td>8.2500</td>\n",
       "      <td>8.2600</td>\n",
       "      <td>3108</td>\n",
       "    </tr>\n",
       "    <tr>\n",
       "      <th>23</th>\n",
       "      <td>24</td>\n",
       "      <td>8.2500</td>\n",
       "      <td>8.2585</td>\n",
       "      <td>8.2500</td>\n",
       "      <td>8.2585</td>\n",
       "      <td>4500</td>\n",
       "    </tr>\n",
       "    <tr>\n",
       "      <th>24</th>\n",
       "      <td>25</td>\n",
       "      <td>8.2500</td>\n",
       "      <td>8.2586</td>\n",
       "      <td>8.2350</td>\n",
       "      <td>8.2500</td>\n",
       "      <td>56053</td>\n",
       "    </tr>\n",
       "    <tr>\n",
       "      <th>25</th>\n",
       "      <td>26</td>\n",
       "      <td>8.2490</td>\n",
       "      <td>8.2500</td>\n",
       "      <td>8.2450</td>\n",
       "      <td>8.2500</td>\n",
       "      <td>2700</td>\n",
       "    </tr>\n",
       "    <tr>\n",
       "      <th>26</th>\n",
       "      <td>27</td>\n",
       "      <td>8.2500</td>\n",
       "      <td>8.2500</td>\n",
       "      <td>8.2450</td>\n",
       "      <td>8.2500</td>\n",
       "      <td>700</td>\n",
       "    </tr>\n",
       "    <tr>\n",
       "      <th>27</th>\n",
       "      <td>28</td>\n",
       "      <td>8.2443</td>\n",
       "      <td>8.2500</td>\n",
       "      <td>8.2443</td>\n",
       "      <td>8.2450</td>\n",
       "      <td>18544</td>\n",
       "    </tr>\n",
       "    <tr>\n",
       "      <th>28</th>\n",
       "      <td>29</td>\n",
       "      <td>8.2500</td>\n",
       "      <td>8.2500</td>\n",
       "      <td>8.2450</td>\n",
       "      <td>8.2459</td>\n",
       "      <td>6900</td>\n",
       "    </tr>\n",
       "    <tr>\n",
       "      <th>29</th>\n",
       "      <td>30</td>\n",
       "      <td>8.2500</td>\n",
       "      <td>8.2550</td>\n",
       "      <td>8.2401</td>\n",
       "      <td>8.2500</td>\n",
       "      <td>10750</td>\n",
       "    </tr>\n",
       "    <tr>\n",
       "      <th>...</th>\n",
       "      <td>...</td>\n",
       "      <td>...</td>\n",
       "      <td>...</td>\n",
       "      <td>...</td>\n",
       "      <td>...</td>\n",
       "      <td>...</td>\n",
       "    </tr>\n",
       "    <tr>\n",
       "      <th>359</th>\n",
       "      <td>361</td>\n",
       "      <td>8.2650</td>\n",
       "      <td>8.2700</td>\n",
       "      <td>8.2600</td>\n",
       "      <td>8.2650</td>\n",
       "      <td>10622</td>\n",
       "    </tr>\n",
       "    <tr>\n",
       "      <th>360</th>\n",
       "      <td>362</td>\n",
       "      <td>8.2650</td>\n",
       "      <td>8.2700</td>\n",
       "      <td>8.2650</td>\n",
       "      <td>8.2650</td>\n",
       "      <td>4900</td>\n",
       "    </tr>\n",
       "    <tr>\n",
       "      <th>361</th>\n",
       "      <td>363</td>\n",
       "      <td>8.2650</td>\n",
       "      <td>8.2700</td>\n",
       "      <td>8.2600</td>\n",
       "      <td>8.2650</td>\n",
       "      <td>15607</td>\n",
       "    </tr>\n",
       "    <tr>\n",
       "      <th>362</th>\n",
       "      <td>364</td>\n",
       "      <td>8.2650</td>\n",
       "      <td>8.2700</td>\n",
       "      <td>8.2603</td>\n",
       "      <td>8.2650</td>\n",
       "      <td>6161</td>\n",
       "    </tr>\n",
       "    <tr>\n",
       "      <th>363</th>\n",
       "      <td>365</td>\n",
       "      <td>8.2650</td>\n",
       "      <td>8.2700</td>\n",
       "      <td>8.2600</td>\n",
       "      <td>8.2650</td>\n",
       "      <td>4797</td>\n",
       "    </tr>\n",
       "    <tr>\n",
       "      <th>364</th>\n",
       "      <td>366</td>\n",
       "      <td>8.2650</td>\n",
       "      <td>8.2700</td>\n",
       "      <td>8.2600</td>\n",
       "      <td>8.2650</td>\n",
       "      <td>6540</td>\n",
       "    </tr>\n",
       "    <tr>\n",
       "      <th>365</th>\n",
       "      <td>367</td>\n",
       "      <td>8.2650</td>\n",
       "      <td>8.2700</td>\n",
       "      <td>8.2650</td>\n",
       "      <td>8.2700</td>\n",
       "      <td>14700</td>\n",
       "    </tr>\n",
       "    <tr>\n",
       "      <th>366</th>\n",
       "      <td>368</td>\n",
       "      <td>8.2600</td>\n",
       "      <td>8.2700</td>\n",
       "      <td>8.2600</td>\n",
       "      <td>8.2650</td>\n",
       "      <td>9300</td>\n",
       "    </tr>\n",
       "    <tr>\n",
       "      <th>367</th>\n",
       "      <td>369</td>\n",
       "      <td>8.2650</td>\n",
       "      <td>8.2700</td>\n",
       "      <td>8.2600</td>\n",
       "      <td>8.2700</td>\n",
       "      <td>5500</td>\n",
       "    </tr>\n",
       "    <tr>\n",
       "      <th>368</th>\n",
       "      <td>370</td>\n",
       "      <td>8.2650</td>\n",
       "      <td>8.2700</td>\n",
       "      <td>8.2650</td>\n",
       "      <td>8.2650</td>\n",
       "      <td>7200</td>\n",
       "    </tr>\n",
       "    <tr>\n",
       "      <th>369</th>\n",
       "      <td>371</td>\n",
       "      <td>8.2700</td>\n",
       "      <td>8.2700</td>\n",
       "      <td>8.2625</td>\n",
       "      <td>8.2650</td>\n",
       "      <td>9000</td>\n",
       "    </tr>\n",
       "    <tr>\n",
       "      <th>370</th>\n",
       "      <td>372</td>\n",
       "      <td>8.2650</td>\n",
       "      <td>8.2700</td>\n",
       "      <td>8.2650</td>\n",
       "      <td>8.2650</td>\n",
       "      <td>4700</td>\n",
       "    </tr>\n",
       "    <tr>\n",
       "      <th>371</th>\n",
       "      <td>373</td>\n",
       "      <td>8.2662</td>\n",
       "      <td>8.2700</td>\n",
       "      <td>8.2600</td>\n",
       "      <td>8.2650</td>\n",
       "      <td>15114</td>\n",
       "    </tr>\n",
       "    <tr>\n",
       "      <th>372</th>\n",
       "      <td>374</td>\n",
       "      <td>8.2650</td>\n",
       "      <td>8.2700</td>\n",
       "      <td>8.2650</td>\n",
       "      <td>8.2650</td>\n",
       "      <td>7100</td>\n",
       "    </tr>\n",
       "    <tr>\n",
       "      <th>373</th>\n",
       "      <td>375</td>\n",
       "      <td>8.2700</td>\n",
       "      <td>8.2700</td>\n",
       "      <td>8.2600</td>\n",
       "      <td>8.2650</td>\n",
       "      <td>10463</td>\n",
       "    </tr>\n",
       "    <tr>\n",
       "      <th>374</th>\n",
       "      <td>376</td>\n",
       "      <td>8.2650</td>\n",
       "      <td>8.2700</td>\n",
       "      <td>8.2650</td>\n",
       "      <td>8.2650</td>\n",
       "      <td>11216</td>\n",
       "    </tr>\n",
       "    <tr>\n",
       "      <th>375</th>\n",
       "      <td>377</td>\n",
       "      <td>8.2700</td>\n",
       "      <td>8.2700</td>\n",
       "      <td>8.2601</td>\n",
       "      <td>8.2650</td>\n",
       "      <td>18534</td>\n",
       "    </tr>\n",
       "    <tr>\n",
       "      <th>376</th>\n",
       "      <td>378</td>\n",
       "      <td>8.2650</td>\n",
       "      <td>8.2700</td>\n",
       "      <td>8.2650</td>\n",
       "      <td>8.2650</td>\n",
       "      <td>11232</td>\n",
       "    </tr>\n",
       "    <tr>\n",
       "      <th>377</th>\n",
       "      <td>379</td>\n",
       "      <td>8.2650</td>\n",
       "      <td>8.2700</td>\n",
       "      <td>8.2600</td>\n",
       "      <td>8.2650</td>\n",
       "      <td>7468</td>\n",
       "    </tr>\n",
       "    <tr>\n",
       "      <th>378</th>\n",
       "      <td>380</td>\n",
       "      <td>8.2650</td>\n",
       "      <td>8.2700</td>\n",
       "      <td>8.2650</td>\n",
       "      <td>8.2700</td>\n",
       "      <td>19972</td>\n",
       "    </tr>\n",
       "    <tr>\n",
       "      <th>379</th>\n",
       "      <td>381</td>\n",
       "      <td>8.2700</td>\n",
       "      <td>8.2700</td>\n",
       "      <td>8.2625</td>\n",
       "      <td>8.2650</td>\n",
       "      <td>14000</td>\n",
       "    </tr>\n",
       "    <tr>\n",
       "      <th>380</th>\n",
       "      <td>382</td>\n",
       "      <td>8.2700</td>\n",
       "      <td>8.2700</td>\n",
       "      <td>8.2600</td>\n",
       "      <td>8.2650</td>\n",
       "      <td>10741</td>\n",
       "    </tr>\n",
       "    <tr>\n",
       "      <th>381</th>\n",
       "      <td>383</td>\n",
       "      <td>8.2700</td>\n",
       "      <td>8.2700</td>\n",
       "      <td>8.2600</td>\n",
       "      <td>8.2650</td>\n",
       "      <td>9790</td>\n",
       "    </tr>\n",
       "    <tr>\n",
       "      <th>382</th>\n",
       "      <td>384</td>\n",
       "      <td>8.2900</td>\n",
       "      <td>8.2900</td>\n",
       "      <td>8.2600</td>\n",
       "      <td>8.2650</td>\n",
       "      <td>161801</td>\n",
       "    </tr>\n",
       "    <tr>\n",
       "      <th>383</th>\n",
       "      <td>385</td>\n",
       "      <td>8.2800</td>\n",
       "      <td>8.2900</td>\n",
       "      <td>8.2800</td>\n",
       "      <td>8.2850</td>\n",
       "      <td>92397</td>\n",
       "    </tr>\n",
       "    <tr>\n",
       "      <th>384</th>\n",
       "      <td>386</td>\n",
       "      <td>8.2750</td>\n",
       "      <td>8.2850</td>\n",
       "      <td>8.2700</td>\n",
       "      <td>8.2800</td>\n",
       "      <td>82263</td>\n",
       "    </tr>\n",
       "    <tr>\n",
       "      <th>385</th>\n",
       "      <td>387</td>\n",
       "      <td>8.2800</td>\n",
       "      <td>8.2800</td>\n",
       "      <td>8.2700</td>\n",
       "      <td>8.2750</td>\n",
       "      <td>20617</td>\n",
       "    </tr>\n",
       "    <tr>\n",
       "      <th>386</th>\n",
       "      <td>388</td>\n",
       "      <td>8.2750</td>\n",
       "      <td>8.2800</td>\n",
       "      <td>8.2700</td>\n",
       "      <td>8.2750</td>\n",
       "      <td>21428</td>\n",
       "    </tr>\n",
       "    <tr>\n",
       "      <th>387</th>\n",
       "      <td>389</td>\n",
       "      <td>8.2750</td>\n",
       "      <td>8.2800</td>\n",
       "      <td>8.2700</td>\n",
       "      <td>8.2750</td>\n",
       "      <td>24974</td>\n",
       "    </tr>\n",
       "    <tr>\n",
       "      <th>388</th>\n",
       "      <td>390</td>\n",
       "      <td>8.2800</td>\n",
       "      <td>8.2800</td>\n",
       "      <td>8.2700</td>\n",
       "      <td>8.2750</td>\n",
       "      <td>103153</td>\n",
       "    </tr>\n",
       "  </tbody>\n",
       "</table>\n",
       "<p>389 rows × 6 columns</p>\n",
       "</div>"
      ],
      "text/plain": [
       "               0       1       2       3       4       5\n",
       "0    a1504272600  8.2900  8.3000  8.2900  8.3000   32407\n",
       "1              1  8.2700  8.3000  8.2500  8.2900   28467\n",
       "2              2  8.2800  8.2800  8.2800  8.2800    1500\n",
       "3              3  8.2750  8.2800  8.2701  8.2800    5200\n",
       "4              4  8.2875  8.2875  8.2800  8.2800    2900\n",
       "5              5  8.2800  8.2876  8.2800  8.2850    8400\n",
       "6              6  8.2600  8.2700  8.2600  8.2700    7671\n",
       "7              7  8.2590  8.2599  8.2550  8.2599   11700\n",
       "8              8  8.2563  8.2563  8.2563  8.2563    7890\n",
       "9              9  8.2550  8.2600  8.2500  8.2550   31140\n",
       "10            10  8.2600  8.2750  8.2600  8.2600   25305\n",
       "11            11  8.2600  8.2700  8.2600  8.2650    8385\n",
       "12            12  8.2600  8.2600  8.2450  8.2525   30456\n",
       "13            13  8.2700  8.2800  8.2500  8.2600   18025\n",
       "14            15  8.2700  8.2700  8.2600  8.2600   21510\n",
       "15            16  8.2700  8.2700  8.2550  8.2700    7041\n",
       "16            17  8.2700  8.2746  8.2643  8.2643    8483\n",
       "17            18  8.2700  8.2700  8.2700  8.2700    2700\n",
       "18            19  8.2700  8.2700  8.2700  8.2700    3400\n",
       "19            20  8.2750  8.2800  8.2700  8.2800    5665\n",
       "20            21  8.2700  8.2750  8.2700  8.2700     500\n",
       "21            22  8.2700  8.2700  8.2700  8.2700    2781\n",
       "22            23  8.2500  8.2600  8.2500  8.2600    3108\n",
       "23            24  8.2500  8.2585  8.2500  8.2585    4500\n",
       "24            25  8.2500  8.2586  8.2350  8.2500   56053\n",
       "25            26  8.2490  8.2500  8.2450  8.2500    2700\n",
       "26            27  8.2500  8.2500  8.2450  8.2500     700\n",
       "27            28  8.2443  8.2500  8.2443  8.2450   18544\n",
       "28            29  8.2500  8.2500  8.2450  8.2459    6900\n",
       "29            30  8.2500  8.2550  8.2401  8.2500   10750\n",
       "..           ...     ...     ...     ...     ...     ...\n",
       "359          361  8.2650  8.2700  8.2600  8.2650   10622\n",
       "360          362  8.2650  8.2700  8.2650  8.2650    4900\n",
       "361          363  8.2650  8.2700  8.2600  8.2650   15607\n",
       "362          364  8.2650  8.2700  8.2603  8.2650    6161\n",
       "363          365  8.2650  8.2700  8.2600  8.2650    4797\n",
       "364          366  8.2650  8.2700  8.2600  8.2650    6540\n",
       "365          367  8.2650  8.2700  8.2650  8.2700   14700\n",
       "366          368  8.2600  8.2700  8.2600  8.2650    9300\n",
       "367          369  8.2650  8.2700  8.2600  8.2700    5500\n",
       "368          370  8.2650  8.2700  8.2650  8.2650    7200\n",
       "369          371  8.2700  8.2700  8.2625  8.2650    9000\n",
       "370          372  8.2650  8.2700  8.2650  8.2650    4700\n",
       "371          373  8.2662  8.2700  8.2600  8.2650   15114\n",
       "372          374  8.2650  8.2700  8.2650  8.2650    7100\n",
       "373          375  8.2700  8.2700  8.2600  8.2650   10463\n",
       "374          376  8.2650  8.2700  8.2650  8.2650   11216\n",
       "375          377  8.2700  8.2700  8.2601  8.2650   18534\n",
       "376          378  8.2650  8.2700  8.2650  8.2650   11232\n",
       "377          379  8.2650  8.2700  8.2600  8.2650    7468\n",
       "378          380  8.2650  8.2700  8.2650  8.2700   19972\n",
       "379          381  8.2700  8.2700  8.2625  8.2650   14000\n",
       "380          382  8.2700  8.2700  8.2600  8.2650   10741\n",
       "381          383  8.2700  8.2700  8.2600  8.2650    9790\n",
       "382          384  8.2900  8.2900  8.2600  8.2650  161801\n",
       "383          385  8.2800  8.2900  8.2800  8.2850   92397\n",
       "384          386  8.2750  8.2850  8.2700  8.2800   82263\n",
       "385          387  8.2800  8.2800  8.2700  8.2750   20617\n",
       "386          388  8.2750  8.2800  8.2700  8.2750   21428\n",
       "387          389  8.2750  8.2800  8.2700  8.2750   24974\n",
       "388          390  8.2800  8.2800  8.2700  8.2750  103153\n",
       "\n",
       "[389 rows x 6 columns]"
      ]
     },
     "execution_count": 94,
     "metadata": {},
     "output_type": "execute_result"
    }
   ],
   "source": [
    "sprint = pd.read_csv('../data/Sprint_Intraday.txt', header=None)\n",
    "sprint"
   ]
  },
  {
   "cell_type": "code",
   "execution_count": 95,
   "metadata": {},
   "outputs": [
    {
     "data": {
      "text/plain": [
       "Index(['Date', 'Open', 'High', 'Low', 'Close Last', 'Volume'], dtype='object')"
      ]
     },
     "execution_count": 95,
     "metadata": {},
     "output_type": "execute_result"
    }
   ],
   "source": [
    "sprint.columns = ['Date', 'Open', 'High', 'Low', 'Close Last', 'Volume']\n",
    "sprint.columns"
   ]
  },
  {
   "cell_type": "code",
   "execution_count": 96,
   "metadata": {
    "scrolled": true
   },
   "outputs": [
    {
     "data": {
      "text/html": [
       "<div>\n",
       "<style scoped>\n",
       "    .dataframe tbody tr th:only-of-type {\n",
       "        vertical-align: middle;\n",
       "    }\n",
       "\n",
       "    .dataframe tbody tr th {\n",
       "        vertical-align: top;\n",
       "    }\n",
       "\n",
       "    .dataframe thead th {\n",
       "        text-align: right;\n",
       "    }\n",
       "</style>\n",
       "<table border=\"1\" class=\"dataframe\">\n",
       "  <thead>\n",
       "    <tr style=\"text-align: right;\">\n",
       "      <th></th>\n",
       "      <th>Open</th>\n",
       "      <th>High</th>\n",
       "      <th>Low</th>\n",
       "      <th>Close Last</th>\n",
       "      <th>Volume</th>\n",
       "    </tr>\n",
       "    <tr>\n",
       "      <th>Date</th>\n",
       "      <th></th>\n",
       "      <th></th>\n",
       "      <th></th>\n",
       "      <th></th>\n",
       "      <th></th>\n",
       "    </tr>\n",
       "  </thead>\n",
       "  <tbody>\n",
       "    <tr>\n",
       "      <th>0</th>\n",
       "      <td>8.2900</td>\n",
       "      <td>8.3000</td>\n",
       "      <td>8.2900</td>\n",
       "      <td>8.30</td>\n",
       "      <td>32407</td>\n",
       "    </tr>\n",
       "    <tr>\n",
       "      <th>1</th>\n",
       "      <td>8.2700</td>\n",
       "      <td>8.3000</td>\n",
       "      <td>8.2500</td>\n",
       "      <td>8.29</td>\n",
       "      <td>28467</td>\n",
       "    </tr>\n",
       "    <tr>\n",
       "      <th>2</th>\n",
       "      <td>8.2800</td>\n",
       "      <td>8.2800</td>\n",
       "      <td>8.2800</td>\n",
       "      <td>8.28</td>\n",
       "      <td>1500</td>\n",
       "    </tr>\n",
       "    <tr>\n",
       "      <th>3</th>\n",
       "      <td>8.2750</td>\n",
       "      <td>8.2800</td>\n",
       "      <td>8.2701</td>\n",
       "      <td>8.28</td>\n",
       "      <td>5200</td>\n",
       "    </tr>\n",
       "    <tr>\n",
       "      <th>4</th>\n",
       "      <td>8.2875</td>\n",
       "      <td>8.2875</td>\n",
       "      <td>8.2800</td>\n",
       "      <td>8.28</td>\n",
       "      <td>2900</td>\n",
       "    </tr>\n",
       "  </tbody>\n",
       "</table>\n",
       "</div>"
      ],
      "text/plain": [
       "        Open    High     Low  Close Last  Volume\n",
       "Date                                            \n",
       "0     8.2900  8.3000  8.2900        8.30   32407\n",
       "1     8.2700  8.3000  8.2500        8.29   28467\n",
       "2     8.2800  8.2800  8.2800        8.28    1500\n",
       "3     8.2750  8.2800  8.2701        8.28    5200\n",
       "4     8.2875  8.2875  8.2800        8.28    2900"
      ]
     },
     "execution_count": 96,
     "metadata": {},
     "output_type": "execute_result"
    }
   ],
   "source": [
    "# Change the first date to zero\n",
    "sprint.iloc[0,0] = 0\n",
    "\n",
    "# Convert date column to numeric\n",
    "sprint['Date'] = pd.to_numeric(sprint['Date'])\n",
    "\n",
    "# Make the date column the new index\n",
    "sprint = sprint.set_index('Date')\n",
    "\n",
    "sprint.head()"
   ]
  },
  {
   "cell_type": "markdown",
   "metadata": {},
   "source": [
    "## 4-06 More data cleanup: missing data\n",
    "\n",
    "You will notice that a few rows are missing. There will be missing data if there are no trades in a particular 1-min interval. 1 way to see which rows are missing is to take the difference of 2 sets: the full set of every min and the set of the dataframe index which contains missing rows. You can fill in the missing rows with the `.reindex()` method, convert the index to time of day, and then plot the data.\n",
    "\n",
    "Stocks trade at discrete 1-cent increments rather than at continuous prices, and when you plot the data you should observe that there are long periods when the stock bounces back and forth over 1 cent range. This is sometimes referred to as \"bid/ask\" bounce."
   ]
  },
  {
   "cell_type": "code",
   "execution_count": 97,
   "metadata": {
    "scrolled": true
   },
   "outputs": [
    {
     "name": "stdout",
     "output_type": "stream",
     "text": [
      "The length of the dataframe is: 389\n",
      "Missing rows: {182, 14}\n"
     ]
    },
    {
     "data": {
      "image/png": "[encoded data removed]",
      "text/plain": [
       "<Figure size 432x288 with 1 Axes>"
      ]
     },
     "metadata": {},
     "output_type": "display_data"
    }
   ],
   "source": [
    "# Notice that some rows are missing\n",
    "print(\"The length of the dataframe is:\", len(sprint))\n",
    "\n",
    "# Find the missing rows\n",
    "print('Missing rows:', set(range(391)) - set(sprint.index))\n",
    "\n",
    "# Fill in the missing rows\n",
    "sprint = sprint.reindex(range(391), method='ffill')\n",
    "\n",
    "# Change the index to the intraday times\n",
    "sprint.index = pd.date_range(start='2017-08-28 9:30', end='2017-08-28 16:00', freq='1min')\n",
    "\n",
    "# Plot the intraday time series\n",
    "sprint[['Close Last']].plot(grid=True)\n",
    "plt.show()"
   ]
  },
  {
   "cell_type": "markdown",
   "metadata": {},
   "source": [
    "## 4-07 Applying an MA model\n",
    "\n",
    "The bouncing of the stock price between bid and ask induces a negative 1st order autocorrelation, but no autocorrelations at lags higher than 1. You get the same ACF pattern with an MA(1) model. Therefore, you will fit an MA(1) model to the sprint stock data from the last exercise.\n",
    "\n",
    "The 1st step is to compute minute-by-minute returns from the prices in sprint, and plot the autocorrelation function."
   ]
  },
  {
   "cell_type": "code",
   "execution_count": 98,
   "metadata": {
    "scrolled": true
   },
   "outputs": [
    {
     "data": {
      "image/png": "[encoded data removed]",
      "text/plain": [
       "<Figure size 432x288 with 1 Axes>"
      ]
     },
     "metadata": {},
     "output_type": "display_data"
    },
    {
     "name": "stdout",
     "output_type": "stream",
     "text": [
      "const              -0.000007\n",
      "ma.L1.Close Last   -0.158710\n",
      "dtype: float64\n"
     ]
    }
   ],
   "source": [
    "# Compute returns from prices and drop the NaN\n",
    "returns = sprint.pct_change()\n",
    "returns = returns.dropna()\n",
    "returns\n",
    "\n",
    "# Plot the ACF of returns with lags up to 60 mins\n",
    "plot_acf(returns[['Close Last']], lags=60)\n",
    "plt.show()\n",
    "\n",
    "# Fit the data to an MA(1) model\n",
    "mod = ARMA(returns[['Close Last']], order=(0,1))\n",
    "res = mod.fit()\n",
    "print(res.params)"
   ]
  },
  {
   "cell_type": "markdown",
   "metadata": {},
   "source": [
    "## 4-08 Equivalence of AR(1) and MA(infinity)\n",
    "\n",
    "AR(1) model = MA(infinity) model with appropriate parameters."
   ]
  },
  {
   "cell_type": "code",
   "execution_count": 99,
   "metadata": {
    "scrolled": false
   },
   "outputs": [
    {
     "name": "stdout",
     "output_type": "stream",
     "text": [
      "[1.0, 0.8, 0.6400000000000001, 0.5120000000000001, 0.4096000000000001, 0.3276800000000001, 0.2621440000000001, 0.20971520000000007, 0.1677721600000001, 0.13421772800000006, 0.10737418240000006, 0.08589934592000005, 0.06871947673600004, 0.054975581388800036, 0.043980465111040035, 0.03518437208883203, 0.028147497671065624, 0.022517998136852502, 0.018014398509482003, 0.014411518807585602, 0.011529215046068483, 0.009223372036854787, 0.00737869762948383, 0.005902958103587064, 0.004722366482869652, 0.0037778931862957215, 0.0030223145490365774, 0.002417851639229262, 0.0019342813113834097, 0.0015474250491067279]\n"
     ]
    }
   ],
   "source": [
    "# Build a list MA parameters\n",
    "ma = [0.8**i for i in range(30)]\n",
    "print(ma)"
   ]
  },
  {
   "cell_type": "code",
   "execution_count": 100,
   "metadata": {},
   "outputs": [
    {
     "name": "stderr",
     "output_type": "stream",
     "text": [
      "/home/anonymous/anaconda3/lib/python3.6/site-packages/scipy/signal/signaltools.py:1344: FutureWarning: Using a non-tuple sequence for multidimensional indexing is deprecated; use `arr[tuple(seq)]` instead of `arr[seq]`. In the future this will be interpreted as an array index, `arr[np.array(seq)]`, which will result either in an error or a different result.\n",
      "  out = out_full[ind]\n"
     ]
    },
    {
     "data": {
      "text/plain": [
       "array([-0.17847203, -0.08878247, -0.16218585, ...,  1.81002032,\n",
       "        1.03098739,  0.85079944])"
      ]
     },
     "execution_count": 100,
     "metadata": {},
     "output_type": "execute_result"
    }
   ],
   "source": [
    "# Simulate the MA(30) model\n",
    "ar = np.array([1])\n",
    "AR_object = ArmaProcess(ar, ma)\n",
    "simulated_data = AR_object.generate_sample(nsample=5000)\n",
    "simulated_data"
   ]
  },
  {
   "cell_type": "code",
   "execution_count": 101,
   "metadata": {},
   "outputs": [
    {
     "data": {
      "image/png": "[encoded data removed]",
      "text/plain": [
       "<Figure size 432x288 with 1 Axes>"
      ]
     },
     "metadata": {},
     "output_type": "display_data"
    }
   ],
   "source": [
    "# Plot the ACF\n",
    "plot_acf(simulated_data, lags=30)\n",
    "plt.show()"
   ]
  },
  {
   "cell_type": "markdown",
   "metadata": {},
   "source": [
    "# 5 Cointegration models\n",
    "\n",
    "2 series $P_t$ and $Q_t$ can be random walk, but if the linear combination $P_t-cQ_t$ is not random walk, $P_t$ and $Q_t$ are cointegrated\n",
    "\n",
    "2 steps to test for cointegration:\n",
    "- Regress $P_t$ on $Q_t$ and get slope c\n",
    "- Run ADF test on $P_t-cQ_t$ to test for random walk\n",
    "- Use statsmodels `coint` function that combines both steps\n",
    "\n",
    "## 5-01\n",
    "\n",
    "The heating oil and natural gas prices are loaded in HO & NG dataframe, which look like random walk. Then plot the difference between the 2 series, which should look more like a mean reverting series (to put the 2 series in the same units, we multiply the heating oil prices, in \\$/gallon, by 7.25, which converts it to \\$/millionBTU, which is the same units as natural gas)."
   ]
  },
  {
   "cell_type": "code",
   "execution_count": 102,
   "metadata": {},
   "outputs": [],
   "source": [
    "from statsmodels.tsa.stattools import coint"
   ]
  },
  {
   "cell_type": "code",
   "execution_count": 103,
   "metadata": {},
   "outputs": [
    {
     "data": {
      "text/html": [
       "<div>\n",
       "<style scoped>\n",
       "    .dataframe tbody tr th:only-of-type {\n",
       "        vertical-align: middle;\n",
       "    }\n",
       "\n",
       "    .dataframe tbody tr th {\n",
       "        vertical-align: top;\n",
       "    }\n",
       "\n",
       "    .dataframe thead th {\n",
       "        text-align: right;\n",
       "    }\n",
       "</style>\n",
       "<table border=\"1\" class=\"dataframe\">\n",
       "  <thead>\n",
       "    <tr style=\"text-align: right;\">\n",
       "      <th></th>\n",
       "      <th>Close</th>\n",
       "    </tr>\n",
       "    <tr>\n",
       "      <th>Date</th>\n",
       "      <th></th>\n",
       "    </tr>\n",
       "  </thead>\n",
       "  <tbody>\n",
       "    <tr>\n",
       "      <th>2005-12-30</th>\n",
       "      <td>1.7280</td>\n",
       "    </tr>\n",
       "    <tr>\n",
       "      <th>2005-12-29</th>\n",
       "      <td>1.7030</td>\n",
       "    </tr>\n",
       "    <tr>\n",
       "      <th>2005-12-28</th>\n",
       "      <td>1.6825</td>\n",
       "    </tr>\n",
       "    <tr>\n",
       "      <th>2005-12-27</th>\n",
       "      <td>1.6370</td>\n",
       "    </tr>\n",
       "    <tr>\n",
       "      <th>2005-12-23</th>\n",
       "      <td>1.7053</td>\n",
       "    </tr>\n",
       "  </tbody>\n",
       "</table>\n",
       "</div>"
      ],
      "text/plain": [
       "             Close\n",
       "Date              \n",
       "2005-12-30  1.7280\n",
       "2005-12-29  1.7030\n",
       "2005-12-28  1.6825\n",
       "2005-12-27  1.6370\n",
       "2005-12-23  1.7053"
      ]
     },
     "execution_count": 103,
     "metadata": {},
     "output_type": "execute_result"
    }
   ],
   "source": [
    "HO = pd.read_csv('../data/CME_HO1.csv', index_col='Date', parse_dates=['Date'])\n",
    "HO.head()"
   ]
  },
  {
   "cell_type": "code",
   "execution_count": 104,
   "metadata": {},
   "outputs": [
    {
     "data": {
      "text/html": [
       "<div>\n",
       "<style scoped>\n",
       "    .dataframe tbody tr th:only-of-type {\n",
       "        vertical-align: middle;\n",
       "    }\n",
       "\n",
       "    .dataframe tbody tr th {\n",
       "        vertical-align: top;\n",
       "    }\n",
       "\n",
       "    .dataframe thead th {\n",
       "        text-align: right;\n",
       "    }\n",
       "</style>\n",
       "<table border=\"1\" class=\"dataframe\">\n",
       "  <thead>\n",
       "    <tr style=\"text-align: right;\">\n",
       "      <th></th>\n",
       "      <th>Close</th>\n",
       "    </tr>\n",
       "    <tr>\n",
       "      <th>Date</th>\n",
       "      <th></th>\n",
       "    </tr>\n",
       "  </thead>\n",
       "  <tbody>\n",
       "    <tr>\n",
       "      <th>2005-12-30</th>\n",
       "      <td>11.225</td>\n",
       "    </tr>\n",
       "    <tr>\n",
       "      <th>2005-12-29</th>\n",
       "      <td>11.223</td>\n",
       "    </tr>\n",
       "    <tr>\n",
       "      <th>2005-12-28</th>\n",
       "      <td>11.431</td>\n",
       "    </tr>\n",
       "    <tr>\n",
       "      <th>2005-12-27</th>\n",
       "      <td>11.022</td>\n",
       "    </tr>\n",
       "    <tr>\n",
       "      <th>2005-12-23</th>\n",
       "      <td>12.283</td>\n",
       "    </tr>\n",
       "  </tbody>\n",
       "</table>\n",
       "</div>"
      ],
      "text/plain": [
       "             Close\n",
       "Date              \n",
       "2005-12-30  11.225\n",
       "2005-12-29  11.223\n",
       "2005-12-28  11.431\n",
       "2005-12-27  11.022\n",
       "2005-12-23  12.283"
      ]
     },
     "execution_count": 104,
     "metadata": {},
     "output_type": "execute_result"
    }
   ],
   "source": [
    "NG = pd.read_csv('../data/CME_NG1.csv', index_col='Date', parse_dates=['Date'])\n",
    "NG.head()"
   ]
  },
  {
   "cell_type": "code",
   "execution_count": 105,
   "metadata": {},
   "outputs": [
    {
     "data": {
      "text/plain": [
       "(3754, 3754)"
      ]
     },
     "execution_count": 105,
     "metadata": {},
     "output_type": "execute_result"
    }
   ],
   "source": [
    "len(HO), len(NG)"
   ]
  },
  {
   "cell_type": "code",
   "execution_count": 106,
   "metadata": {},
   "outputs": [
    {
     "data": {
      "image/png": "[encoded data removed]",
      "text/plain": [
       "<Figure size 432x288 with 2 Axes>"
      ]
     },
     "metadata": {},
     "output_type": "display_data"
    }
   ],
   "source": [
    "# Plot the prices separately\n",
    "plt.subplot(2,1,1)\n",
    "plt.plot(7.25*HO, label='Heating oil')\n",
    "plt.plot(NG, label='Natual gas')\n",
    "plt.legend(loc='best', fontsize='small')\n",
    "\n",
    "# Plot the spread\n",
    "plt.subplot(2,1,2)\n",
    "plt.plot(7.25*HO-NG, label='Spread')\n",
    "plt.legend(loc='best', fontsize='small')\n",
    "plt.axhline(y=0, linestyle='--', color='k')\n",
    "plt.show()"
   ]
  },
  {
   "cell_type": "markdown",
   "metadata": {},
   "source": [
    "## 5-02\n",
    "\n",
    "To verify that HO & NG are cointegrated, 1st apply ACF test to 2 separately to show they are random walks. Then apply the test to the difference, which should strongly reject the random walk hypothesis."
   ]
  },
  {
   "cell_type": "code",
   "execution_count": 107,
   "metadata": {},
   "outputs": [
    {
     "name": "stdout",
     "output_type": "stream",
     "text": [
      "The p-value for the ADF test on HO is  0.019831028071626566\n",
      "The p-value for the ADF test on NG is  0.004547284956542492\n",
      "The p-value for the ADF test on the spread  0.00011887051827352973\n"
     ]
    }
   ],
   "source": [
    "# Compute the ADF for HO and NG\n",
    "result_HO = adfuller(HO['Close'])\n",
    "print(\"The p-value for the ADF test on HO is \", result_HO[1])\n",
    "result_NG = adfuller(NG['Close'])\n",
    "print(\"The p-value for the ADF test on NG is \", result_NG[1])\n",
    "\n",
    "# Compute the ADF of the spread\n",
    "result_spread = adfuller(7.25*HO['Close'] - NG['Close'])\n",
    "print(\"The p-value for the ADF test on the spread \", result_spread[1])"
   ]
  },
  {
   "cell_type": "markdown",
   "metadata": {},
   "source": [
    "## 5-03\n",
    "\n",
    "Cointegration involves two steps: regressing one time series on the other to get the cointegration vector, and then perform an ADF test on the residuals of the regression.\n",
    "\n",
    "You will regress the value of one crytocurrency, bitcoin (BTC), on another cryptocurrency, ethereum (ETH). If we call the regression coeffiecient `b`, then the cointegration vector is simply `(1,−b)`. Then perform the ADF test on BTC `−b` ETH."
   ]
  },
  {
   "cell_type": "code",
   "execution_count": 108,
   "metadata": {},
   "outputs": [],
   "source": [
    "# Import the statsmodels module for regression and the adfuller function\n",
    "import statsmodels.api as sm\n",
    "from statsmodels.tsa.stattools import adfuller"
   ]
  },
  {
   "cell_type": "code",
   "execution_count": 109,
   "metadata": {},
   "outputs": [],
   "source": [
    "# # Regress BTC on ETH\n",
    "# ETH = sm.add_constant(ETH)\n",
    "# result = sm.OLS(BTC, ETH).fit()\n",
    "\n",
    "# # Compute ADF\n",
    "# b = result.params[1]\n",
    "# adf_stats = adfuller(BTC['Price'] - b*ETH['Price'])\n",
    "# print(\"The p-value for the ADF test is \", adf_stats[1])\n",
    "# # The data suggests that Bitcoin & Ethereum are cointegrated"
   ]
  },
  {
   "cell_type": "markdown",
   "metadata": {},
   "source": [
    "## 5-04\n",
    "\n",
    "An ARMA model is a simplistic approach to forecasting climate changes"
   ]
  },
  {
   "cell_type": "code",
   "execution_count": 110,
   "metadata": {},
   "outputs": [
    {
     "data": {
      "image/png": "[encoded data removed]",
      "text/plain": [
       "<Figure size 432x288 with 1 Axes>"
      ]
     },
     "metadata": {},
     "output_type": "display_data"
    },
    {
     "name": "stdout",
     "output_type": "stream",
     "text": [
      "The p-value for the ADF test is 0.5832938987871106\n"
     ]
    }
   ],
   "source": [
    "temp_NY = tavg[['TAVG']].copy()\n",
    "\n",
    "# Convert the index to a datetime object\n",
    "temp_NY.index = pd.to_datetime(temp_NY.index, format='%Y')\n",
    "\n",
    "# Plot average temperature\n",
    "temp_NY.plot()\n",
    "plt.show()\n",
    "\n",
    "# Compute and print ADF p-value\n",
    "result = adfuller(temp_NY['TAVG'])\n",
    "print(\"The p-value for the ADF test is\", result[1])"
   ]
  },
  {
   "cell_type": "markdown",
   "metadata": {},
   "source": [
    "## 5-05\n",
    "\n",
    "Since the temperature series, temp_NY, is a random walk with drift, take first differences to make it stationary. Then compute the sample ACF and PACF. This will provide some guidance on the order of the model."
   ]
  },
  {
   "cell_type": "code",
   "execution_count": 111,
   "metadata": {},
   "outputs": [
    {
     "data": {
      "text/html": [
       "<div>\n",
       "<style scoped>\n",
       "    .dataframe tbody tr th:only-of-type {\n",
       "        vertical-align: middle;\n",
       "    }\n",
       "\n",
       "    .dataframe tbody tr th {\n",
       "        vertical-align: top;\n",
       "    }\n",
       "\n",
       "    .dataframe thead th {\n",
       "        text-align: right;\n",
       "    }\n",
       "</style>\n",
       "<table border=\"1\" class=\"dataframe\">\n",
       "  <thead>\n",
       "    <tr style=\"text-align: right;\">\n",
       "      <th></th>\n",
       "      <th>TAVG</th>\n",
       "    </tr>\n",
       "    <tr>\n",
       "      <th>DATE</th>\n",
       "      <th></th>\n",
       "    </tr>\n",
       "  </thead>\n",
       "  <tbody>\n",
       "    <tr>\n",
       "      <th>1871-01-01</th>\n",
       "      <td>-2.5</td>\n",
       "    </tr>\n",
       "    <tr>\n",
       "      <th>1872-01-01</th>\n",
       "      <td>0.0</td>\n",
       "    </tr>\n",
       "    <tr>\n",
       "      <th>1873-01-01</th>\n",
       "      <td>-0.4</td>\n",
       "    </tr>\n",
       "    <tr>\n",
       "      <th>1874-01-01</th>\n",
       "      <td>0.4</td>\n",
       "    </tr>\n",
       "    <tr>\n",
       "      <th>1875-01-01</th>\n",
       "      <td>-1.9</td>\n",
       "    </tr>\n",
       "  </tbody>\n",
       "</table>\n",
       "</div>"
      ],
      "text/plain": [
       "            TAVG\n",
       "DATE            \n",
       "1871-01-01  -2.5\n",
       "1872-01-01   0.0\n",
       "1873-01-01  -0.4\n",
       "1874-01-01   0.4\n",
       "1875-01-01  -1.9"
      ]
     },
     "execution_count": 111,
     "metadata": {},
     "output_type": "execute_result"
    }
   ],
   "source": [
    "# Take first difference of the temperature Series\n",
    "chg_temp = temp_NY.diff()\n",
    "chg_temp = chg_temp.dropna()\n",
    "chg_temp.head()"
   ]
  },
  {
   "cell_type": "code",
   "execution_count": 112,
   "metadata": {},
   "outputs": [
    {
     "data": {
      "image/png": "[encoded data removed]",
      "text/plain": [
       "<Figure size 432x288 with 2 Axes>"
      ]
     },
     "execution_count": 112,
     "metadata": {},
     "output_type": "execute_result"
    },
    {
     "data": {
      "image/png": "[encoded data removed]",
      "text/plain": [
       "<Figure size 432x288 with 2 Axes>"
      ]
     },
     "metadata": {},
     "output_type": "display_data"
    }
   ],
   "source": [
    "# Plot the ACF and PACF on the same page\n",
    "fig, axes = plt.subplots(2,1)\n",
    "\n",
    "# Plot the ACF\n",
    "plot_acf(chg_temp, lags=20, ax=axes[0])"
   ]
  },
  {
   "cell_type": "markdown",
   "metadata": {},
   "source": [
    "## 5-06 Which ARMA Model is Best?\n",
    "\n",
    "Fit the temperature data to an AR(1), AR(2), MA(1), and ARMA(1,1) and see which model is the best fit, using the AIC criterion."
   ]
  },
  {
   "cell_type": "code",
   "execution_count": 113,
   "metadata": {},
   "outputs": [
    {
     "name": "stderr",
     "output_type": "stream",
     "text": [
      "/home/anonymous/anaconda3/lib/python3.6/site-packages/statsmodels/tsa/base/tsa_model.py:171: ValueWarning: No frequency information was provided, so inferred frequency AS-JAN will be used.\n",
      "  % freq, ValueWarning)\n",
      "/home/anonymous/anaconda3/lib/python3.6/site-packages/scipy/signal/signaltools.py:1341: FutureWarning: Using a non-tuple sequence for multidimensional indexing is deprecated; use `arr[tuple(seq)]` instead of `arr[seq]`. In the future this will be interpreted as an array index, `arr[np.array(seq)]`, which will result either in an error or a different result.\n",
      "  out_full[ind] += zi\n",
      "/home/anonymous/anaconda3/lib/python3.6/site-packages/scipy/signal/signaltools.py:1344: FutureWarning: Using a non-tuple sequence for multidimensional indexing is deprecated; use `arr[tuple(seq)]` instead of `arr[seq]`. In the future this will be interpreted as an array index, `arr[np.array(seq)]`, which will result either in an error or a different result.\n",
      "  out = out_full[ind]\n",
      "/home/anonymous/anaconda3/lib/python3.6/site-packages/scipy/signal/signaltools.py:1350: FutureWarning: Using a non-tuple sequence for multidimensional indexing is deprecated; use `arr[tuple(seq)]` instead of `arr[seq]`. In the future this will be interpreted as an array index, `arr[np.array(seq)]`, which will result either in an error or a different result.\n",
      "  zf = out_full[ind]\n",
      "/home/anonymous/anaconda3/lib/python3.6/site-packages/statsmodels/tsa/base/tsa_model.py:171: ValueWarning: No frequency information was provided, so inferred frequency AS-JAN will be used.\n",
      "  % freq, ValueWarning)\n",
      "/home/anonymous/anaconda3/lib/python3.6/site-packages/statsmodels/tsa/base/tsa_model.py:171: ValueWarning: No frequency information was provided, so inferred frequency AS-JAN will be used.\n",
      "  % freq, ValueWarning)\n"
     ]
    },
    {
     "name": "stdout",
     "output_type": "stream",
     "text": [
      "The AIC for an AR(1) is:  510.5346898313911\n",
      "The AIC for an AR(2) is:  501.9274123160228\n",
      "The AIC for an MA(1) is:  469.3909693438297\n"
     ]
    }
   ],
   "source": [
    "# Fit the data to an AR(1) model and print AIC:\n",
    "mod = ARMA(chg_temp, order=(1,0))\n",
    "res = mod.fit()\n",
    "print(\"The AIC for an AR(1) is: \", res.aic)\n",
    "\n",
    "# Fit the data to an AR(2) model and print AIC:\n",
    "mod = ARMA(chg_temp, order=(2,0))\n",
    "res = mod.fit()\n",
    "print(\"The AIC for an AR(2) is: \", res.aic)\n",
    "\n",
    "# Fit the data to an MA(1) model and print AIC:\n",
    "mod = ARMA(chg_temp, order=(0,1))\n",
    "res = mod.fit()\n",
    "print(\"The AIC for an MA(1) is: \", res.aic)"
   ]
  },
  {
   "cell_type": "markdown",
   "metadata": {},
   "source": [
    "## 5-07\n",
    "\n",
    "Finally, you will forecast the temperature over the next 30 years using an ARMA(1,1) model, including confidence bands around that estimate. Keep in mind that the estimate of the drift will have a much bigger impact on long range forecasts than the ARMA parameters.\n",
    "\n",
    "Earlier, you determined that the temperature data follows a random walk and you looked at first differencing the data. You will use the ARIMA module on the temperature data, pre-loaded in the DataFrame temp_NY, but the forecast would be the same as using the ARMA module on changes in temperature, and then using cumulative sums of these changes to get the temperature."
   ]
  },
  {
   "cell_type": "code",
   "execution_count": 114,
   "metadata": {},
   "outputs": [],
   "source": [
    "# Import the ARIMA module from statsmodels\n",
    "from statsmodels.tsa.arima_model import ARIMA"
   ]
  },
  {
   "cell_type": "code",
   "execution_count": 115,
   "metadata": {},
   "outputs": [
    {
     "name": "stderr",
     "output_type": "stream",
     "text": [
      "/home/anonymous/anaconda3/lib/python3.6/site-packages/statsmodels/tsa/base/tsa_model.py:171: ValueWarning: No frequency information was provided, so inferred frequency AS-JAN will be used.\n",
      "  % freq, ValueWarning)\n",
      "/home/anonymous/anaconda3/lib/python3.6/site-packages/statsmodels/tsa/base/tsa_model.py:171: ValueWarning: No frequency information was provided, so inferred frequency AS-JAN will be used.\n",
      "  % freq, ValueWarning)\n"
     ]
    },
    {
     "data": {
      "image/png": "[encoded data removed]",
      "text/plain": [
       "<Figure size 432x288 with 1 Axes>"
      ]
     },
     "metadata": {},
     "output_type": "display_data"
    }
   ],
   "source": [
    "# Forecast interest rates using an AR(1) model\n",
    "mod = ARIMA(temp_NY, order=(1,1,1))\n",
    "res = mod.fit()\n",
    "\n",
    "# Plot the original series and the forecasted series\n",
    "res.plot_predict(start='1872-01-01', end='2046-01-01')\n",
    "plt.show()"
   ]
  }
 ],
 "metadata": {
  "kernelspec": {
   "display_name": "Python 3",
   "language": "python",
   "name": "python3"
  },
  "language_info": {
   "codemirror_mode": {
    "name": "ipython",
    "version": 3
   },
   "file_extension": ".py",
   "mimetype": "text/x-python",
   "name": "python",
   "nbconvert_exporter": "python",
   "pygments_lexer": "ipython3",
   "version": "3.6.6"
  }
 },
 "nbformat": 4,
 "nbformat_minor": 2
}
